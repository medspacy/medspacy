{
 "cells": [
  {
   "cell_type": "code",
   "execution_count": 1,
   "metadata": {},
   "outputs": [],
   "source": [
    "import sys\n",
    "sys.path.insert(0, \"..\")"
   ]
  },
  {
   "cell_type": "code",
   "execution_count": 2,
   "metadata": {},
   "outputs": [],
   "source": [
    "import spacy\n",
    "import medspacy\n",
    "\n",
    "from medspacy.util import DEFAULT_PIPENAMES"
   ]
  },
  {
   "cell_type": "markdown",
   "metadata": {},
   "source": [
    "# Overview\n",
    "Example of how to enable the default medspacy tokenizer and compare it to the default English tokenizer on \n",
    "some representative examples from short clinical text."
   ]
  },
  {
   "cell_type": "code",
   "execution_count": 3,
   "metadata": {},
   "outputs": [
    {
     "name": "stdout",
     "output_type": "stream",
     "text": [
      "{'medspacy_pyrush', 'tokenizer', 'medspacy_context', 'medspacy_tokenizer', 'medspacy_target_matcher'}\n"
     ]
    },
    {
     "name": "stderr",
     "output_type": "stream",
     "text": [
      "/Users/alecchapman/opt/anaconda3/envs/spacy3/lib/python3.8/site-packages/packaging/version.py:127: DeprecationWarning: Creating a LegacyVersion has been deprecated and will be removed in the next major release\n",
      "  warnings.warn(\n"
     ]
    }
   ],
   "source": [
    "# we can only use one of the following tokenizers, so let's use the medspacy tokenizer \n",
    "# which handles infixes (e.g. 'h/o', 'chf+cp', etc)\n",
    "\n",
    "medspacy_pipes = DEFAULT_PIPENAMES.copy()\n",
    "\n",
    "if 'preprocessor' in medspacy_pipes: \n",
    "    medspacy_pipes.remove('preprocessor')\n",
    "\n",
    "if 'postprocessor' in medspacy_pipes: \n",
    "    medspacy_pipes.remove('postprocessor')\n",
    "    \n",
    "if 'tokenizer' not in medspacy_pipes: \n",
    "    medspacy_pipes.add('tokenizer')\n",
    "    \n",
    "print(medspacy_pipes)\n",
    "    \n",
    "nlp = medspacy.load(enable = medspacy_pipes)"
   ]
  },
  {
   "cell_type": "code",
   "execution_count": 4,
   "metadata": {},
   "outputs": [
    {
     "data": {
      "text/plain": [
       "<spacy.tokenizer.Tokenizer at 0x7ff8b0c98280>"
      ]
     },
     "execution_count": 4,
     "metadata": {},
     "output_type": "execute_result"
    }
   ],
   "source": [
    "nlp.tokenizer"
   ]
  },
  {
   "cell_type": "code",
   "execution_count": 5,
   "metadata": {},
   "outputs": [
    {
     "data": {
      "text/plain": [
       "['medspacy_pyrush', 'medspacy_target_matcher', 'medspacy_context']"
      ]
     },
     "execution_count": 5,
     "metadata": {},
     "output_type": "execute_result"
    }
   ],
   "source": [
    "nlp.pipe_names"
   ]
  },
  {
   "cell_type": "markdown",
   "metadata": {},
   "source": [
    "# Process our document with both default and medspacy"
   ]
  },
  {
   "cell_type": "code",
   "execution_count": 6,
   "metadata": {},
   "outputs": [
    {
     "name": "stderr",
     "output_type": "stream",
     "text": [
      "/Users/alecchapman/opt/anaconda3/envs/spacy3/lib/python3.8/site-packages/spacy/util.py:1176: ResourceWarning: unclosed file <_io.BufferedReader name='/Users/alecchapman/opt/anaconda3/envs/spacy3/lib/python3.8/site-packages/en_core_web_sm/en_core_web_sm-3.0.0/tok2vec/model'>\n",
      "  reader(path / key)\n",
      "ResourceWarning: Enable tracemalloc to get the object allocation traceback\n",
      "/Users/alecchapman/opt/anaconda3/envs/spacy3/lib/python3.8/site-packages/spacy/util.py:1176: ResourceWarning: unclosed file <_io.BufferedReader name='/Users/alecchapman/opt/anaconda3/envs/spacy3/lib/python3.8/site-packages/en_core_web_sm/en_core_web_sm-3.0.0/tagger/model'>\n",
      "  reader(path / key)\n",
      "ResourceWarning: Enable tracemalloc to get the object allocation traceback\n",
      "/Users/alecchapman/opt/anaconda3/envs/spacy3/lib/python3.8/site-packages/spacy/util.py:1176: ResourceWarning: unclosed file <_io.BufferedReader name='/Users/alecchapman/opt/anaconda3/envs/spacy3/lib/python3.8/site-packages/en_core_web_sm/en_core_web_sm-3.0.0/senter/model'>\n",
      "  reader(path / key)\n",
      "ResourceWarning: Enable tracemalloc to get the object allocation traceback\n"
     ]
    }
   ],
   "source": [
    "example_text = r'Pt c\\o n;v;d h\\o chf+cp'\n",
    "\n",
    "default_nlp = spacy.load('en_core_web_sm')"
   ]
  },
  {
   "cell_type": "code",
   "execution_count": 7,
   "metadata": {},
   "outputs": [],
   "source": [
    "default_doc = default_nlp(example_text)\n",
    "\n",
    "medspacy_doc = nlp(example_text)"
   ]
  },
  {
   "cell_type": "code",
   "execution_count": 8,
   "metadata": {},
   "outputs": [
    {
     "name": "stdout",
     "output_type": "stream",
     "text": [
      "Tokens in default tokenizer\n",
      "Pt\n",
      "c\\o\n",
      "n;v;d\n",
      "h\\o\n",
      "chf+cp\n"
     ]
    }
   ],
   "source": [
    "print('Tokens in default tokenizer')\n",
    "for token in default_doc:\n",
    "    print(token.text)"
   ]
  },
  {
   "cell_type": "code",
   "execution_count": 9,
   "metadata": {},
   "outputs": [
    {
     "name": "stdout",
     "output_type": "stream",
     "text": [
      "Tokens in medspacy tokenizer\n",
      "Pt\n",
      "c\n",
      "\\\n",
      "o\n",
      "n\n",
      ";\n",
      "v\n",
      ";\n",
      "d\n",
      "h\n",
      "\\\n",
      "o\n",
      "chf\n",
      "+\n",
      "cp\n"
     ]
    }
   ],
   "source": [
    "print('Tokens in medspacy tokenizer')\n",
    "for token in medspacy_doc:\n",
    "    print(token.text)"
   ]
  },
  {
   "cell_type": "code",
   "execution_count": 10,
   "metadata": {},
   "outputs": [],
   "source": [
    "assert [token.text for token in default_doc] != [token.text for token in medspacy_doc]"
   ]
  },
  {
   "cell_type": "code",
   "execution_count": 11,
   "metadata": {},
   "outputs": [],
   "source": [
    "tokenizer = nlp.tokenizer"
   ]
  },
  {
   "cell_type": "code",
   "execution_count": null,
   "metadata": {},
   "outputs": [],
   "source": []
  }
 ],
 "metadata": {
  "kernelspec": {
   "display_name": "Python 3",
   "language": "python",
   "name": "python3"
  },
  "language_info": {
   "codemirror_mode": {
    "name": "ipython",
    "version": 3
   },
   "file_extension": ".py",
   "mimetype": "text/x-python",
   "name": "python",
   "nbconvert_exporter": "python",
   "pygments_lexer": "ipython3",
   "version": "3.8.5"
  }
 },
 "nbformat": 4,
 "nbformat_minor": 4
}
