{
 "cells": [
  {
   "cell_type": "code",
   "execution_count": 2,
   "metadata": {},
   "outputs": [],
   "source": [
    "import sys\n",
    "sys.path.insert(0, \"..\")"
   ]
  },
  {
   "cell_type": "markdown",
   "metadata": {},
   "source": [
    "# This notebook provides a brief introduction into using QuickUMLS in medspacy as well as details on how it can be used in any spacy pipeline\n",
    "### Data: A full QuickUMLS resource of the UMLS is not provided here as this would violate license agreements.  However, below are some resources on how to generate such resources.  In this medspacy repo is a small sample of UMLS (RRF files) which contains less than 100 concepts which can be found here:\n",
    "https://www.nlm.nih.gov/research/umls/new_users/online_learning/Meta_006.html\n",
    "### Usage: The cells below show how to use the QuickUMLS component on its own or in combination with other medspacy components out of the box such as `medspacy.context` for detecting semantic modifiers and attributes of entities, including negation, uncertainty and others.  Also, section detection is demonstrated to potentially use this information in concert with entity extraction.\n",
    "### Generating QuickUMLS resources: Given RRF UMLS files, you can generate your own QuickUMLS resources with parameters such as language, character case and more.  To see more, consult the documentation here from the original QuickUMLS repo:\n",
    "https://github.com/Georgetown-IR-Lab/QuickUMLS"
   ]
  },
  {
   "cell_type": "markdown",
   "metadata": {},
   "source": [
    "## As of now, QuickUMLS and its dependencies are only set up by default in medspacy for Linux and MacOS.  Hopefully a later release will address Windows, but for now, you can follow the steps here: [windows_and_quickumls.md](..//windows_and_quickumls.md)"
   ]
  },
  {
   "cell_type": "code",
   "execution_count": 3,
   "metadata": {},
   "outputs": [],
   "source": [
    "import sys\n",
    "\n",
    "import spacy\n",
    "import medspacy\n",
    "import nltk\n",
    "\n",
    "from medspacy.util import DEFAULT_PIPENAMES\n",
    "from medspacy.visualization import visualize_ent\n",
    "from medspacy.section_detection import Sectionizer"
   ]
  },
  {
   "cell_type": "code",
   "execution_count": 4,
   "metadata": {},
   "outputs": [
    {
     "name": "stdout",
     "output_type": "stream",
     "text": [
      "Running on platform: darwin\n"
     ]
    }
   ],
   "source": [
    "print('Running on platform: {}'.format(sys.platform))"
   ]
  },
  {
   "cell_type": "markdown",
   "metadata": {},
   "source": [
    "# Enable the QuickUMLS component by name since it is not enabled by default"
   ]
  },
  {
   "cell_type": "code",
   "execution_count": 5,
   "metadata": {},
   "outputs": [
    {
     "name": "stdout",
     "output_type": "stream",
     "text": [
      "{'medspacy_target_matcher', 'medspacy_context', 'medspacy_quickumls', 'medspacy_tokenizer', 'medspacy_pyrush'}\n"
     ]
    },
    {
     "name": "stderr",
     "output_type": "stream",
     "text": [
      "/Users/alecchapman/opt/anaconda3/envs/spacy3/lib/python3.8/site-packages/packaging/version.py:127: DeprecationWarning: Creating a LegacyVersion has been deprecated and will be removed in the next major release\n",
      "  warnings.warn(\n"
     ]
    },
    {
     "name": "stdout",
     "output_type": "stream",
     "text": [
      "Loading QuickUMLS resources from a default SAMPLE of UMLS data from here: /Users/alecchapman/Code/medspacy/medspacy/resources/quickumls/QuickUMLS_SAMPLE_lowercase_POSIX_unqlite\n"
     ]
    }
   ],
   "source": [
    "medspacy_pipes = DEFAULT_PIPENAMES.copy()\n",
    "\n",
    "if 'medspacy_quickumls' not in medspacy_pipes: \n",
    "    medspacy_pipes.add('medspacy_quickumls')\n",
    "    \n",
    "print(medspacy_pipes)\n",
    "    \n",
    "nlp = medspacy.load(enable = medspacy_pipes)"
   ]
  },
  {
   "cell_type": "markdown",
   "metadata": {},
   "source": [
    "# Check which pipe components have been enabled.  This way we ensure that the QuickUMLS matcher is in the list"
   ]
  },
  {
   "cell_type": "code",
   "execution_count": 6,
   "metadata": {},
   "outputs": [
    {
     "data": {
      "text/plain": [
       "['medspacy_pyrush',\n",
       " 'medspacy_target_matcher',\n",
       " 'medspacy_quickumls',\n",
       " 'medspacy_context']"
      ]
     },
     "execution_count": 6,
     "metadata": {},
     "output_type": "execute_result"
    }
   ],
   "source": [
    "nlp.pipe_names"
   ]
  },
  {
   "cell_type": "markdown",
   "metadata": {},
   "source": [
    "# First's see a visualization of one of the concepts in the small sample of UMLS provided.  This concept is \"dipalmitoyllecithin\" which is Concept Unique Identifier (CUI) C0000039 in UMLS."
   ]
  },
  {
   "cell_type": "code",
   "execution_count": 7,
   "metadata": {},
   "outputs": [],
   "source": [
    "concept_text = 'Decreased dipalmitoyllecithin content found in lung specimens'"
   ]
  },
  {
   "cell_type": "code",
   "execution_count": 8,
   "metadata": {},
   "outputs": [],
   "source": [
    "doc = nlp(concept_text)"
   ]
  },
  {
   "cell_type": "code",
   "execution_count": 9,
   "metadata": {},
   "outputs": [
    {
     "data": {
      "text/html": [
       "<span class=\"tex2jax_ignore\"><div class=\"entities\" style=\"line-height: 2.5; direction: ltr\">Decreased \n",
       "<mark class=\"entity\" style=\"background: #1f77b4; padding: 0.45em 0.6em; margin: 0 0.25em; line-height: 1; border-radius: 0.35em;\">\n",
       "    dipalmitoyllecithin\n",
       "    <span style=\"font-size: 0.8em; font-weight: bold; line-height: 1; border-radius: 0.35em; vertical-align: middle; margin-left: 0.5rem\">C0000039</span>\n",
       "</mark>\n",
       " content found in lung specimens</div></span>"
      ],
      "text/plain": [
       "<IPython.core.display.HTML object>"
      ]
     },
     "metadata": {},
     "output_type": "display_data"
    }
   ],
   "source": [
    "visualize_ent(doc)"
   ]
  },
  {
   "cell_type": "markdown",
   "metadata": {},
   "source": [
    "## However, there is additional metadata about any concept extracted by QuickUMLS.  For example, any CUI like this one can be a member of multiple Semantic Type.  In this case, the concept belongs to more than one Semantic Type.  Additionally, since QuickUMLS performs approximate matching, note that the similarity of the extracted concept from our text to the canonical resources can be observed.  In this case, since there is no lexical difference, we see 100% (1.0) similarity."
   ]
  },
  {
   "cell_type": "code",
   "execution_count": 10,
   "metadata": {},
   "outputs": [
    {
     "name": "stdout",
     "output_type": "stream",
     "text": [
      "Entity text : dipalmitoyllecithin\n",
      "Label (UMLS CUI) : C0000039\n",
      "Similarity : 0.8888888888888888\n",
      "Semtypes : {'T119', 'T121'}\n"
     ]
    }
   ],
   "source": [
    "for ent in doc.ents:\n",
    "    print('Entity text : {}'.format(ent.text))\n",
    "    print('Label (UMLS CUI) : {}'.format(ent.label_))\n",
    "    print('Similarity : {}'.format(ent._.similarity))\n",
    "    print('Semtypes : {}'.format(ent._.semtypes))"
   ]
  },
  {
   "cell_type": "markdown",
   "metadata": {},
   "source": [
    "# So this is an example of how to use QuickUMLS on its own.  What if we want to see negation as well?  Remember that QuickUMLS enables the `medspacy.context` component by default.  It's here in this list and we did not need to explicitly enable it.  Further, notice that the QuickUMLS component is ordered just before context.  This ensures that the Entity objects are added to the spacy `Doc` before `context` runs."
   ]
  },
  {
   "cell_type": "code",
   "execution_count": 11,
   "metadata": {},
   "outputs": [
    {
     "data": {
      "text/plain": [
       "['medspacy_pyrush',\n",
       " 'medspacy_target_matcher',\n",
       " 'medspacy_quickumls',\n",
       " 'medspacy_context']"
      ]
     },
     "execution_count": 11,
     "metadata": {},
     "output_type": "execute_result"
    }
   ],
   "source": [
    "nlp.pipe_names"
   ]
  },
  {
   "cell_type": "markdown",
   "metadata": {},
   "source": [
    "# Now let's come up with a different example with negation on a different lexical variant for the same UMLS concept in the relatively small \"sample\" resource."
   ]
  },
  {
   "cell_type": "code",
   "execution_count": 12,
   "metadata": {},
   "outputs": [],
   "source": [
    "negation_text = 'No findings of Dipalmitoyl Phosphatidylcholine in pulmonary specimen.'"
   ]
  },
  {
   "cell_type": "code",
   "execution_count": 13,
   "metadata": {},
   "outputs": [],
   "source": [
    "negation_doc = nlp(negation_text)"
   ]
  },
  {
   "cell_type": "code",
   "execution_count": 14,
   "metadata": {},
   "outputs": [
    {
     "name": "stdout",
     "output_type": "stream",
     "text": [
      "Entity text : Dipalmitoyl Phosphatidylcholine\n",
      "Label (UMLS CUI) : C0000039\n",
      "Similarity : 0.78125\n",
      "Semtypes : {'T119', 'T121'}\n"
     ]
    }
   ],
   "source": [
    "for ent in negation_doc.ents:\n",
    "    print('Entity text : {}'.format(ent.text))\n",
    "    print('Label (UMLS CUI) : {}'.format(ent.label_))\n",
    "    print('Similarity : {}'.format(ent._.similarity))\n",
    "    print('Semtypes : {}'.format(ent._.semtypes))"
   ]
  },
  {
   "cell_type": "code",
   "execution_count": 15,
   "metadata": {},
   "outputs": [
    {
     "data": {
      "text/html": [
       "<span class=\"tex2jax_ignore\"><div class=\"entities\" style=\"line-height: 2.5; direction: ltr\">\n",
       "<mark class=\"entity\" style=\"background: #ff7f0e; padding: 0.45em 0.6em; margin: 0 0.25em; line-height: 1; border-radius: 0.35em;\">\n",
       "    No findings of\n",
       "    <span style=\"font-size: 0.8em; font-weight: bold; line-height: 1; border-radius: 0.35em; vertical-align: middle; margin-left: 0.5rem\">NEGATED_EXISTENCE</span>\n",
       "</mark>\n",
       " \n",
       "<mark class=\"entity\" style=\"background: #1f77b4; padding: 0.45em 0.6em; margin: 0 0.25em; line-height: 1; border-radius: 0.35em;\">\n",
       "    Dipalmitoyl Phosphatidylcholine\n",
       "    <span style=\"font-size: 0.8em; font-weight: bold; line-height: 1; border-radius: 0.35em; vertical-align: middle; margin-left: 0.5rem\">C0000039</span>\n",
       "</mark>\n",
       " in pulmonary specimen.</div></span>"
      ],
      "text/plain": [
       "<IPython.core.display.HTML object>"
      ]
     },
     "metadata": {},
     "output_type": "display_data"
    }
   ],
   "source": [
    "visualize_ent(negation_doc)"
   ]
  },
  {
   "cell_type": "markdown",
   "metadata": {},
   "source": [
    "## Note that the `context` component adds the attributes about the entity such as negation and others into members of the \"underscore\" (`_`) which can also be examined like this: "
   ]
  },
  {
   "cell_type": "code",
   "execution_count": 16,
   "metadata": {},
   "outputs": [
    {
     "name": "stdout",
     "output_type": "stream",
     "text": [
      "'Dipalmitoyl Phosphatidylcholine' modified by (<ConTextModifier> [No findings of, NEGATED_EXISTENCE],) in: 'No findings of Dipalmitoyl Phosphatidylcholine in pulmonary specimen.'\n",
      "\n"
     ]
    }
   ],
   "source": [
    "for ent in negation_doc.ents:\n",
    "    if any([ent._.is_negated, ent._.is_uncertain, ent._.is_historical, ent._.is_family, ent._.is_hypothetical, ]):\n",
    "        print(\"'{0}' modified by {1} in: '{2}'\".format(ent, ent._.modifiers, ent.sent))\n",
    "        print()"
   ]
  },
  {
   "cell_type": "markdown",
   "metadata": {},
   "source": [
    "## Finally, the location where an entity is found can also be meaningful.  For example, knowledge of whether a condition was from a previous visit or in the present visit can be important for treatment, billing, etc.  Here is a short example using a different concept from the same sample UMLS resource.  Note that the `sectionizer` is not enabled by default so let's set up a new pipeline first which enables both the `sectionizer` and QuickUMLS."
   ]
  },
  {
   "cell_type": "code",
   "execution_count": 19,
   "metadata": {},
   "outputs": [
    {
     "name": "stdout",
     "output_type": "stream",
     "text": [
      "Creating and adding sectionizer to pipeline...\n"
     ]
    }
   ],
   "source": [
    "if 'sectionizer' not in nlp.pipe_names:\n",
    "    print('Creating and adding sectionizer to pipeline...')\n",
    "    # Now let's add a sectionizer as our final step\n",
    "    nlp.add_pipe(\"medspacy_sectionizer\")"
   ]
  },
  {
   "cell_type": "code",
   "execution_count": 20,
   "metadata": {},
   "outputs": [
    {
     "data": {
      "text/plain": [
       "['medspacy_pyrush',\n",
       " 'medspacy_target_matcher',\n",
       " 'medspacy_quickumls',\n",
       " 'medspacy_context',\n",
       " 'medspacy_sectionizer']"
      ]
     },
     "execution_count": 20,
     "metadata": {},
     "output_type": "execute_result"
    }
   ],
   "source": [
    "nlp.pipe_names"
   ]
  },
  {
   "cell_type": "markdown",
   "metadata": {},
   "source": [
    "# Now we process"
   ]
  },
  {
   "cell_type": "code",
   "execution_count": 21,
   "metadata": {},
   "outputs": [],
   "source": [
    "section_text = \"\"\"\n",
    "Family History:\n",
    "Dipalmitoyl Phosphatidylcholine found in father's pulmonary specimen.\n",
    "\n",
    "History of Present Illness:\n",
    "No evidence of Dipalmitoyl Phosphatidylcholine in patient's pulmonary specimen.\n",
    "\"\"\""
   ]
  },
  {
   "cell_type": "code",
   "execution_count": 22,
   "metadata": {},
   "outputs": [],
   "source": [
    "section_doc = nlp(section_text)"
   ]
  },
  {
   "cell_type": "markdown",
   "metadata": {},
   "source": [
    "## First, look at the section titles detected here: "
   ]
  },
  {
   "cell_type": "code",
   "execution_count": 23,
   "metadata": {},
   "outputs": [
    {
     "name": "stdout",
     "output_type": "stream",
     "text": [
      "[, Family History:, History of Present Illness:]\n"
     ]
    }
   ],
   "source": [
    "# Normalized section titles\n",
    "print(section_doc._.section_titles)"
   ]
  },
  {
   "cell_type": "code",
   "execution_count": 24,
   "metadata": {},
   "outputs": [
    {
     "data": {
      "text/html": [
       "<span class=\"tex2jax_ignore\"><div class=\"entities\" style=\"line-height: 2.5; direction: ltr\"></br>\n",
       "<mark class=\"entity\" style=\"background: #dee0e3; padding: 0.45em 0.6em; margin: 0 0.25em; line-height: 1; border-radius: 0.35em;\">\n",
       "    Family History:\n",
       "    <span style=\"font-size: 0.8em; font-weight: bold; line-height: 1; border-radius: 0.35em; vertical-align: middle; margin-left: 0.5rem\"><< FAMILY_HISTORY >></span>\n",
       "</mark>\n",
       "</br>\n",
       "<mark class=\"entity\" style=\"background: #1f77b4; padding: 0.45em 0.6em; margin: 0 0.25em; line-height: 1; border-radius: 0.35em;\">\n",
       "    Dipalmitoyl Phosphatidylcholine\n",
       "    <span style=\"font-size: 0.8em; font-weight: bold; line-height: 1; border-radius: 0.35em; vertical-align: middle; margin-left: 0.5rem\">C0000039</span>\n",
       "</mark>\n",
       " found in father's pulmonary specimen.</br></br>\n",
       "<mark class=\"entity\" style=\"background: #dee0e3; padding: 0.45em 0.6em; margin: 0 0.25em; line-height: 1; border-radius: 0.35em;\">\n",
       "    History of Present Illness:\n",
       "    <span style=\"font-size: 0.8em; font-weight: bold; line-height: 1; border-radius: 0.35em; vertical-align: middle; margin-left: 0.5rem\"><< HISTORY_OF_PRESENT_ILLNESS >></span>\n",
       "</mark>\n",
       "</br>\n",
       "<mark class=\"entity\" style=\"background: #ff7f0e; padding: 0.45em 0.6em; margin: 0 0.25em; line-height: 1; border-radius: 0.35em;\">\n",
       "    No evidence of\n",
       "    <span style=\"font-size: 0.8em; font-weight: bold; line-height: 1; border-radius: 0.35em; vertical-align: middle; margin-left: 0.5rem\">NEGATED_EXISTENCE</span>\n",
       "</mark>\n",
       " \n",
       "<mark class=\"entity\" style=\"background: #1f77b4; padding: 0.45em 0.6em; margin: 0 0.25em; line-height: 1; border-radius: 0.35em;\">\n",
       "    Dipalmitoyl Phosphatidylcholine\n",
       "    <span style=\"font-size: 0.8em; font-weight: bold; line-height: 1; border-radius: 0.35em; vertical-align: middle; margin-left: 0.5rem\">C0000039</span>\n",
       "</mark>\n",
       " in patient's pulmonary specimen.</br></div></span>"
      ],
      "text/plain": [
       "<IPython.core.display.HTML object>"
      ]
     },
     "metadata": {},
     "output_type": "display_data"
    }
   ],
   "source": [
    "visualize_ent(section_doc)"
   ]
  },
  {
   "cell_type": "markdown",
   "metadata": {},
   "source": [
    "## As with `context`, we can inspect the section detection information on a per-entity level:"
   ]
  },
  {
   "cell_type": "code",
   "execution_count": 25,
   "metadata": {},
   "outputs": [
    {
     "name": "stdout",
     "output_type": "stream",
     "text": [
      "Entity text : Dipalmitoyl Phosphatidylcholine\n",
      "Label (UMLS CUI) : C0000039\n",
      "Similarity : 0.78125\n",
      "Semtypes : {'T119', 'T121'}\n",
      "Section Category : family_history\n",
      "Section Title : Family History:\n",
      "Entity text : Dipalmitoyl Phosphatidylcholine\n",
      "Label (UMLS CUI) : C0000039\n",
      "Similarity : 0.78125\n",
      "Semtypes : {'T119', 'T121'}\n",
      "Section Category : history_of_present_illness\n",
      "Section Title : History of Present Illness:\n"
     ]
    }
   ],
   "source": [
    "for ent in section_doc.ents:\n",
    "    print('Entity text : {}'.format(ent.text))\n",
    "    print('Label (UMLS CUI) : {}'.format(ent.label_))\n",
    "    print('Similarity : {}'.format(ent._.similarity))\n",
    "    print('Semtypes : {}'.format(ent._.semtypes))\n",
    "    print('Section Category : {}'.format(ent._.section_category))\n",
    "    print('Section Title : {}'.format(ent._.section_title))"
   ]
  },
  {
   "cell_type": "code",
   "execution_count": null,
   "metadata": {},
   "outputs": [],
   "source": []
  }
 ],
 "metadata": {
  "kernelspec": {
   "display_name": "Python 3",
   "language": "python",
   "name": "python3"
  },
  "language_info": {
   "codemirror_mode": {
    "name": "ipython",
    "version": 3
   },
   "file_extension": ".py",
   "mimetype": "text/x-python",
   "name": "python",
   "nbconvert_exporter": "python",
   "pygments_lexer": "ipython3",
   "version": "3.8.5"
  }
 },
 "nbformat": 4,
 "nbformat_minor": 2
}
