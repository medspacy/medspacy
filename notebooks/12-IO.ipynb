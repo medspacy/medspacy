{
 "cells": [
  {
   "cell_type": "markdown",
   "metadata": {},
   "source": [
    "# Input/Outpt (IO)\n",
    "Once you've processed a text or corpus with medspaCy, a next step is often to save and analyze the information you've extracted. `medpsacy.io` contains utilities for reading documents, converting processed docs into structured data, and writing your results to disk or to a database."
   ]
  },
  {
   "cell_type": "code",
   "execution_count": 1,
   "metadata": {
    "scrolled": true
   },
   "outputs": [],
   "source": [
    "%load_ext autoreload\n",
    "%autoreload 2"
   ]
  },
  {
   "cell_type": "code",
   "execution_count": 2,
   "metadata": {},
   "outputs": [],
   "source": [
    "import warnings\n",
    "warnings.filterwarnings(\"ignore\")"
   ]
  },
  {
   "cell_type": "code",
   "execution_count": 3,
   "metadata": {
    "scrolled": true
   },
   "outputs": [],
   "source": [
    "import sys\n",
    "sys.path.insert(0, \"..\")"
   ]
  },
  {
   "cell_type": "code",
   "execution_count": 4,
   "metadata": {
    "scrolled": true
   },
   "outputs": [],
   "source": [
    "import medspacy"
   ]
  },
  {
   "cell_type": "code",
   "execution_count": 5,
   "metadata": {},
   "outputs": [],
   "source": [
    "import sqlite3"
   ]
  },
  {
   "cell_type": "markdown",
   "metadata": {},
   "source": [
    "#If you haven't already, install this pre-trained [med7](https://github.com/kormilitzin/med7) model and `spacy-transformers`:"
   ]
  },
  {
   "cell_type": "code",
   "execution_count": 6,
   "metadata": {},
   "outputs": [],
   "source": [
    "# !pip install https://github.com/abchapman93/spacy_models/raw/master/releases/en_info_3700_i2b2_2012-0.1.0/dist/en_info_3700_i2b2_2012-0.1.0.tar.gz\n",
    "# !pip install spacy-transformers"
   ]
  },
  {
   "cell_type": "code",
   "execution_count": 7,
   "metadata": {
    "scrolled": true
   },
   "outputs": [
    {
     "name": "stderr",
     "output_type": "stream",
     "text": [
      "/Users/alecchapman/opt/anaconda3/envs/spacy3/lib/python3.8/site-packages/packaging/version.py:127: DeprecationWarning: Creating a LegacyVersion has been deprecated and will be removed in the next major release\n",
      "  warnings.warn(\n"
     ]
    }
   ],
   "source": [
    "enable = ['pyrush',\n",
    " 'tagger',\n",
    " 'parser',\n",
    " 'ner',\n",
    " 'target_matcher',\n",
    " 'context',\n",
    " 'sectionizer']\n",
    "nlp = medspacy.load(\"en_core_med7_trf\", enable=enable)"
   ]
  },
  {
   "cell_type": "code",
   "execution_count": 8,
   "metadata": {},
   "outputs": [
    {
     "data": {
      "text/plain": [
       "['transformer',\n",
       " 'ner',\n",
       " 'medspacy_pyrush',\n",
       " 'medspacy_target_matcher',\n",
       " 'medspacy_context',\n",
       " 'medspacy_sectionizer']"
      ]
     },
     "execution_count": 8,
     "metadata": {},
     "output_type": "execute_result"
    }
   ],
   "source": [
    "nlp.pipe_names"
   ]
  },
  {
   "cell_type": "code",
   "execution_count": null,
   "metadata": {},
   "outputs": [],
   "source": []
  },
  {
   "cell_type": "markdown",
   "metadata": {},
   "source": [
    "As an example, we'll use a very simple sqlite database containing two sample documents."
   ]
  },
  {
   "cell_type": "code",
   "execution_count": 9,
   "metadata": {},
   "outputs": [],
   "source": [
    "import sqlite3 as sqlite"
   ]
  },
  {
   "cell_type": "code",
   "execution_count": 10,
   "metadata": {},
   "outputs": [],
   "source": [
    "from helpers import create_medspacy_demo_db"
   ]
  },
  {
   "cell_type": "code",
   "execution_count": 12,
   "metadata": {},
   "outputs": [
    {
     "name": "stdout",
     "output_type": "stream",
     "text": [
      "Created file medspacy_demo.db\n"
     ]
    }
   ],
   "source": [
    "create_medspacy_demo_db(drop_existing=True)"
   ]
  },
  {
   "cell_type": "code",
   "execution_count": 13,
   "metadata": {},
   "outputs": [],
   "source": [
    "conn = sqlite.connect(\"medspacy_demo.db\")"
   ]
  },
  {
   "cell_type": "code",
   "execution_count": 14,
   "metadata": {},
   "outputs": [],
   "source": [
    "cursor = conn.cursor()"
   ]
  },
  {
   "cell_type": "code",
   "execution_count": 15,
   "metadata": {},
   "outputs": [
    {
     "data": {
      "text/plain": [
       "<sqlite3.Cursor at 0x7ffdbc478ea0>"
      ]
     },
     "execution_count": 15,
     "metadata": {},
     "output_type": "execute_result"
    }
   ],
   "source": [
    "cursor.execute(\"SELECT text FROM texts;\")"
   ]
  },
  {
   "cell_type": "code",
   "execution_count": 16,
   "metadata": {},
   "outputs": [],
   "source": [
    "text = cursor.fetchone()[0]"
   ]
  },
  {
   "cell_type": "code",
   "execution_count": 17,
   "metadata": {},
   "outputs": [
    {
     "name": "stdout",
     "output_type": "stream",
     "text": [
      "Admission Date:  [**2573-5-30**]              Discharge Date:   [**2573-7-1**]\n",
      "\n",
      "Date of Birth:  [**2498-8-19**]             Sex:   F\n",
      "\n",
      "Service: SURGERY\n",
      "\n",
      "Allergies:\n",
      "Hydrochlorothiazide\n",
      "\n",
      "Attending:[**First Name3 (LF) 1893**]\n",
      "Chief Complaint:\n",
      "Abdominal pain\n",
      "\n",
      "Major Surgical or Invasive Procedure:\n",
      "PICC line [**6-25**]\n",
      "ERCP w/ sphincterotomy [**5-31**]\n",
      "\n",
      "\n",
      "History of Present Illness:\n",
      "74y female with type 2 dm and a recent stroke affecting her\n",
      "speech, who presents with 2 days of abdominal pain. Imaging shows no evidence of metastasis. She is not receiving any chemo.\n",
      "\n",
      "Past Medical History:\n",
      "1. Colon cance\n"
     ]
    }
   ],
   "source": [
    "print(text[:600])"
   ]
  },
  {
   "cell_type": "code",
   "execution_count": 18,
   "metadata": {},
   "outputs": [],
   "source": [
    "conn.close()"
   ]
  },
  {
   "cell_type": "code",
   "execution_count": 19,
   "metadata": {},
   "outputs": [],
   "source": [
    "doc = nlp(text)"
   ]
  },
  {
   "cell_type": "markdown",
   "metadata": {},
   "source": [
    "# I. DocConsumer\n",
    "The `DocConsumer` class takes the attributes extracted by medspaCy and converts them into structured data. There are four different data types that the `DocConsumer` will extract:\n",
    "- **\"ent\"**: Extract information about the spans in `doc.ents`. Each row will represent a single entity and can include either native spaCy attributes (ie., `ent.label_`) or custom attrributes (ie., `ent._.is_negated`)\n",
    "- **\"section\"**: Each row will represent a section of the document and includes attributes such as the section text and category\n",
    "- **\"context\"**: This represents the entity-modifier pairs extracted by ConText\n",
    "- **\"doc\"**: A single row for the entire doc. By default this will only include `doc.text`, but you can add other underscore attributes\n",
    "\n",
    "Let's create a `DocConsumer` with all four of these data types. We'll use the default attributes for now but will show how to customize them later."
   ]
  },
  {
   "cell_type": "code",
   "execution_count": 20,
   "metadata": {
    "scrolled": true
   },
   "outputs": [],
   "source": [
    "from medspacy.io import DocConsumer"
   ]
  },
  {
   "cell_type": "code",
   "execution_count": 21,
   "metadata": {
    "scrolled": true
   },
   "outputs": [],
   "source": [
    "doc_consumer = DocConsumer(nlp, dtypes=(\"ent\", \"context\", \"section\", \"doc\"))"
   ]
  },
  {
   "cell_type": "markdown",
   "metadata": {},
   "source": [
    "`dtype_attrs` maps the data types to the corresponding attributes/columns"
   ]
  },
  {
   "cell_type": "code",
   "execution_count": 22,
   "metadata": {},
   "outputs": [
    {
     "data": {
      "text/plain": [
       "{'ent': ['text',\n",
       "  'start_char',\n",
       "  'end_char',\n",
       "  'label_',\n",
       "  'is_negated',\n",
       "  'is_uncertain',\n",
       "  'is_historical',\n",
       "  'is_hypothetical',\n",
       "  'is_family',\n",
       "  'section_category',\n",
       "  'section_parent'],\n",
       " 'section': ['section_category',\n",
       "  'section_title_text',\n",
       "  'section_title_start_char',\n",
       "  'section_title_end_char',\n",
       "  'section_text',\n",
       "  'section_text_start_char',\n",
       "  'section_text_end_char',\n",
       "  'section_parent'],\n",
       " 'context': ['ent_text',\n",
       "  'ent_label_',\n",
       "  'ent_start_char',\n",
       "  'ent_end_char',\n",
       "  'modifier_text',\n",
       "  'modifier_category',\n",
       "  'modifier_direction',\n",
       "  'modifier_start_char',\n",
       "  'modifier_end_char',\n",
       "  'modifier_scope_start_char',\n",
       "  'modifier_scope_end_char'],\n",
       " 'doc': ['text']}"
      ]
     },
     "execution_count": 22,
     "metadata": {},
     "output_type": "execute_result"
    }
   ],
   "source": [
    "doc_consumer.dtype_attrs"
   ]
  },
  {
   "cell_type": "markdown",
   "metadata": {},
   "source": [
    "Now when we process our doc, we can get the relevant information from the `doc._.data` attribute. This is a nested dictionary where the outermost keys are the data types, and for each data type is an ordered dictionary mapping an attribute to the column of values for each ent."
   ]
  },
  {
   "cell_type": "code",
   "execution_count": 23,
   "metadata": {},
   "outputs": [],
   "source": [
    "doc = doc_consumer(doc)"
   ]
  },
  {
   "cell_type": "code",
   "execution_count": 24,
   "metadata": {
    "scrolled": true
   },
   "outputs": [
    {
     "data": {
      "text/plain": [
       "{'ent': OrderedDict([('text',\n",
       "               ['Hydrochlorothiazide',\n",
       "                'chemo',\n",
       "                'chemo',\n",
       "                'Miconazole Nitrate',\n",
       "                '2',\n",
       "                'Powder',\n",
       "                'One (1)',\n",
       "                'Appl',\n",
       "                'Topical',\n",
       "                'BID',\n",
       "                'Heparin Sodium (Porcine)',\n",
       "                '5,000 unit/mL',\n",
       "                'Solution',\n",
       "                'One (1)',\n",
       "                'Injection',\n",
       "                'TID (3 times a day)',\n",
       "                'Acetaminophen',\n",
       "                '160 mg/5 mL',\n",
       "                'Elixir',\n",
       "                'One (1)',\n",
       "                'PO']),\n",
       "              ('start_char',\n",
       "               [163,\n",
       "                556,\n",
       "                652,\n",
       "                1183,\n",
       "                1202,\n",
       "                1206,\n",
       "                1218,\n",
       "                1226,\n",
       "                1231,\n",
       "                1240,\n",
       "                1274,\n",
       "                1299,\n",
       "                1313,\n",
       "                1327,\n",
       "                1335,\n",
       "                1345,\n",
       "                1369,\n",
       "                1383,\n",
       "                1395,\n",
       "                1407,\n",
       "                1416]),\n",
       "              ('end_char',\n",
       "               [182,\n",
       "                561,\n",
       "                657,\n",
       "                1201,\n",
       "                1203,\n",
       "                1212,\n",
       "                1225,\n",
       "                1230,\n",
       "                1238,\n",
       "                1243,\n",
       "                1298,\n",
       "                1312,\n",
       "                1321,\n",
       "                1334,\n",
       "                1344,\n",
       "                1364,\n",
       "                1382,\n",
       "                1394,\n",
       "                1401,\n",
       "                1414,\n",
       "                1418]),\n",
       "              ('label_',\n",
       "               ['DRUG',\n",
       "                'DRUG',\n",
       "                'DRUG',\n",
       "                'DRUG',\n",
       "                'STRENGTH',\n",
       "                'FORM',\n",
       "                'DOSAGE',\n",
       "                'FORM',\n",
       "                'ROUTE',\n",
       "                'FREQUENCY',\n",
       "                'DRUG',\n",
       "                'STRENGTH',\n",
       "                'FORM',\n",
       "                'DOSAGE',\n",
       "                'ROUTE',\n",
       "                'FREQUENCY',\n",
       "                'DRUG',\n",
       "                'STRENGTH',\n",
       "                'FORM',\n",
       "                'DOSAGE',\n",
       "                'ROUTE']),\n",
       "              ('is_negated',\n",
       "               [False,\n",
       "                True,\n",
       "                False,\n",
       "                False,\n",
       "                False,\n",
       "                False,\n",
       "                False,\n",
       "                False,\n",
       "                False,\n",
       "                False,\n",
       "                False,\n",
       "                False,\n",
       "                False,\n",
       "                False,\n",
       "                False,\n",
       "                False,\n",
       "                False,\n",
       "                False,\n",
       "                False,\n",
       "                False,\n",
       "                False]),\n",
       "              ('is_uncertain',\n",
       "               [False,\n",
       "                False,\n",
       "                False,\n",
       "                False,\n",
       "                False,\n",
       "                False,\n",
       "                False,\n",
       "                False,\n",
       "                False,\n",
       "                False,\n",
       "                False,\n",
       "                False,\n",
       "                False,\n",
       "                False,\n",
       "                False,\n",
       "                False,\n",
       "                False,\n",
       "                False,\n",
       "                False,\n",
       "                False,\n",
       "                False]),\n",
       "              ('is_historical',\n",
       "               [False,\n",
       "                False,\n",
       "                False,\n",
       "                False,\n",
       "                False,\n",
       "                False,\n",
       "                False,\n",
       "                False,\n",
       "                False,\n",
       "                False,\n",
       "                False,\n",
       "                False,\n",
       "                False,\n",
       "                False,\n",
       "                False,\n",
       "                False,\n",
       "                False,\n",
       "                False,\n",
       "                False,\n",
       "                False,\n",
       "                False]),\n",
       "              ('is_hypothetical',\n",
       "               [False,\n",
       "                False,\n",
       "                False,\n",
       "                False,\n",
       "                False,\n",
       "                False,\n",
       "                False,\n",
       "                False,\n",
       "                False,\n",
       "                False,\n",
       "                False,\n",
       "                False,\n",
       "                False,\n",
       "                False,\n",
       "                False,\n",
       "                False,\n",
       "                False,\n",
       "                False,\n",
       "                False,\n",
       "                False,\n",
       "                False]),\n",
       "              ('is_family',\n",
       "               [False,\n",
       "                False,\n",
       "                False,\n",
       "                False,\n",
       "                False,\n",
       "                False,\n",
       "                False,\n",
       "                False,\n",
       "                False,\n",
       "                False,\n",
       "                False,\n",
       "                False,\n",
       "                False,\n",
       "                False,\n",
       "                False,\n",
       "                False,\n",
       "                False,\n",
       "                False,\n",
       "                False,\n",
       "                False,\n",
       "                False]),\n",
       "              ('section_category',\n",
       "               ['allergies',\n",
       "                'history_of_present_illness',\n",
       "                'past_medical_history',\n",
       "                'medications',\n",
       "                'medications',\n",
       "                'medications',\n",
       "                'medications',\n",
       "                'medications',\n",
       "                'medications',\n",
       "                'medications',\n",
       "                'medications',\n",
       "                'medications',\n",
       "                'medications',\n",
       "                'medications',\n",
       "                'medications',\n",
       "                'medications',\n",
       "                'medications',\n",
       "                'medications',\n",
       "                'medications',\n",
       "                'medications',\n",
       "                'medications']),\n",
       "              ('section_parent',\n",
       "               [None,\n",
       "                None,\n",
       "                None,\n",
       "                None,\n",
       "                None,\n",
       "                None,\n",
       "                None,\n",
       "                None,\n",
       "                None,\n",
       "                None,\n",
       "                None,\n",
       "                None,\n",
       "                None,\n",
       "                None,\n",
       "                None,\n",
       "                None,\n",
       "                None,\n",
       "                None,\n",
       "                None,\n",
       "                None,\n",
       "                None])]),\n",
       " 'section': OrderedDict([('section_category',\n",
       "               [None,\n",
       "                'other',\n",
       "                'allergies',\n",
       "                'chief_complaint',\n",
       "                'history_of_present_illness',\n",
       "                'past_medical_history',\n",
       "                'social_history',\n",
       "                'family_history',\n",
       "                'hospital_course',\n",
       "                'medications',\n",
       "                'observation_and_plan',\n",
       "                'patient_instructions',\n",
       "                'signature']),\n",
       "              ('section_title_text',\n",
       "               [None,\n",
       "                'Service:',\n",
       "                'Allergies:',\n",
       "                'Chief Complaint:',\n",
       "                'History of Present Illness:',\n",
       "                'Past Medical History:',\n",
       "                'Social History:',\n",
       "                'Family History:',\n",
       "                'Brief Hospital Course:',\n",
       "                'Discharge Medications:',\n",
       "                'Discharge Diagnosis:',\n",
       "                'Discharge Instructions:',\n",
       "                'Signed electronically by:']),\n",
       "              ('section_title_start_char',\n",
       "               [0,\n",
       "                134,\n",
       "                152,\n",
       "                222,\n",
       "                350,\n",
       "                564,\n",
       "                772,\n",
       "                842,\n",
       "                928,\n",
       "                1157,\n",
       "                1458,\n",
       "                1544,\n",
       "                1961]),\n",
       "              ('section_title_end_char',\n",
       "               [0,\n",
       "                142,\n",
       "                162,\n",
       "                238,\n",
       "                377,\n",
       "                585,\n",
       "                787,\n",
       "                857,\n",
       "                950,\n",
       "                1179,\n",
       "                1478,\n",
       "                1567,\n",
       "                1986]),\n",
       "              ('section_text',\n",
       "               ['Admission Date:  [**2573-5-30**]              Discharge Date:   [**2573-7-1**]\\n\\nDate of Birth:  [**2498-8-19**]             Sex:   F\\n\\n',\n",
       "                'Service: SURGERY\\n\\n',\n",
       "                'Allergies:\\nHydrochlorothiazide\\n\\nAttending:[**First Name3 (LF) 1893**]\\n',\n",
       "                'Chief Complaint:\\nAbdominal pain\\n\\nMajor Surgical or Invasive Procedure:\\nPICC line [**6-25**]\\nERCP w/ sphincterotomy [**5-31**]\\n\\n\\n',\n",
       "                'History of Present Illness:\\n74y female with type 2 dm and a recent stroke affecting her\\nspeech, who presents with 2 days of abdominal pain. Imaging shows no evidence of metastasis. She is not receiving any chemo.\\n\\n',\n",
       "                \"Past Medical History:\\n1. Colon cancer dx'd in [**2554**], tx'd with hemicolectomy, XRT,\\nchemo. Last colonoscopy showed: Last CEA was in the 8 range\\n(down from 9)\\n2. Type II Diabetes Mellitus\\n3. Hypertension\\n\\n\",\n",
       "                'Social History:\\nMarried, former tobacco use. No alcohol or drug use.\\n\\n',\n",
       "                'Family History:\\nMother with stroke at age 82. no early deaths.\\n2 daughters- healthy\\n\\n\\n',\n",
       "                'Brief Hospital Course:\\nMs. [**Known patient lastname 2004**] was admitted on [**2573-5-30**]. Ultrasound at the time of\\nadmission demonstrated pancreatic duct dilitation and an\\nedematous gallbladder. She was admitted to the ICU.\\n',\n",
       "                'Discharge Medications:\\n1. Miconazole Nitrate 2 % Powder Sig: One (1) Appl Topical  BID\\n(2 times a day) as needed.\\n2. Heparin Sodium (Porcine) 5,000 unit/mL Solution Sig: One (1)\\nInjection TID (3 times a day).\\n3. Acetaminophen 160 mg/5 mL Elixir Sig: One (1)  PO Q4-6H\\n(every 4 to 6 hours) as needed.\\n\\n',\n",
       "                'Discharge Diagnosis:\\nType 2 DM\\nPancreatitis\\nHTN\\nh/o aspiration respiratory distress\\n\\n\\n',\n",
       "                'Discharge Instructions:\\nPatient may shower. Please call your surgeon or return to the\\nemergency room if [**Doctor First Name **] experience fever >101.5, nausea, vomiting,\\nabdominal pain, shortness of breath, abdominal pain or any\\nsignificant  change in your medical condition. A\\n\\nCompleted by: [**First Name11 (Name Pattern1) 2010**] [**Last Name (NamePattern1) 2011**] MD [**MD Number 2012**] [**2573-7-1**] @ 1404\\n',\n",
       "                'Signed electronically by: DR. [**First Name8 (NamePattern2) **] [**Last Name (NamePattern1) **]\\n on: FRI [**2573-7-2**] 8:03 AM\\n(End of Report)']),\n",
       "              ('section_text_start_char',\n",
       "               [0,\n",
       "                134,\n",
       "                152,\n",
       "                222,\n",
       "                350,\n",
       "                564,\n",
       "                772,\n",
       "                842,\n",
       "                928,\n",
       "                1157,\n",
       "                1458,\n",
       "                1544,\n",
       "                1961]),\n",
       "              ('section_text_end_char',\n",
       "               [134,\n",
       "                152,\n",
       "                222,\n",
       "                350,\n",
       "                564,\n",
       "                772,\n",
       "                842,\n",
       "                928,\n",
       "                1157,\n",
       "                1458,\n",
       "                1544,\n",
       "                1961,\n",
       "                2104]),\n",
       "              ('section_parent',\n",
       "               [None,\n",
       "                None,\n",
       "                None,\n",
       "                None,\n",
       "                None,\n",
       "                None,\n",
       "                None,\n",
       "                None,\n",
       "                None,\n",
       "                None,\n",
       "                None,\n",
       "                None,\n",
       "                None])]),\n",
       " 'context': OrderedDict([('ent_text', ['chemo']),\n",
       "              ('ent_label_', ['DRUG']),\n",
       "              ('ent_start_char', [556]),\n",
       "              ('ent_end_char', [561]),\n",
       "              ('modifier_text', ['is not']),\n",
       "              ('modifier_category', ['NEGATED_EXISTENCE']),\n",
       "              ('modifier_direction', ['FORWARD']),\n",
       "              ('modifier_start_char', [535]),\n",
       "              ('modifier_end_char', [541]),\n",
       "              ('modifier_scope_start_char', [542]),\n",
       "              ('modifier_scope_end_char', [541])]),\n",
       " 'doc': OrderedDict([('text',\n",
       "               [\"Admission Date:  [**2573-5-30**]              Discharge Date:   [**2573-7-1**]\\n\\nDate of Birth:  [**2498-8-19**]             Sex:   F\\n\\nService: SURGERY\\n\\nAllergies:\\nHydrochlorothiazide\\n\\nAttending:[**First Name3 (LF) 1893**]\\nChief Complaint:\\nAbdominal pain\\n\\nMajor Surgical or Invasive Procedure:\\nPICC line [**6-25**]\\nERCP w/ sphincterotomy [**5-31**]\\n\\n\\nHistory of Present Illness:\\n74y female with type 2 dm and a recent stroke affecting her\\nspeech, who presents with 2 days of abdominal pain. Imaging shows no evidence of metastasis. She is not receiving any chemo.\\n\\nPast Medical History:\\n1. Colon cancer dx'd in [**2554**], tx'd with hemicolectomy, XRT,\\nchemo. Last colonoscopy showed: Last CEA was in the 8 range\\n(down from 9)\\n2. Type II Diabetes Mellitus\\n3. Hypertension\\n\\nSocial History:\\nMarried, former tobacco use. No alcohol or drug use.\\n\\nFamily History:\\nMother with stroke at age 82. no early deaths.\\n2 daughters- healthy\\n\\n\\nBrief Hospital Course:\\nMs. [**Known patient lastname 2004**] was admitted on [**2573-5-30**]. Ultrasound at the time of\\nadmission demonstrated pancreatic duct dilitation and an\\nedematous gallbladder. She was admitted to the ICU.\\nDischarge Medications:\\n1. Miconazole Nitrate 2 % Powder Sig: One (1) Appl Topical  BID\\n(2 times a day) as needed.\\n2. Heparin Sodium (Porcine) 5,000 unit/mL Solution Sig: One (1)\\nInjection TID (3 times a day).\\n3. Acetaminophen 160 mg/5 mL Elixir Sig: One (1)  PO Q4-6H\\n(every 4 to 6 hours) as needed.\\n\\nDischarge Diagnosis:\\nType 2 DM\\nPancreatitis\\nHTN\\nh/o aspiration respiratory distress\\n\\n\\nDischarge Instructions:\\nPatient may shower. Please call your surgeon or return to the\\nemergency room if [**Doctor First Name **] experience fever >101.5, nausea, vomiting,\\nabdominal pain, shortness of breath, abdominal pain or any\\nsignificant  change in your medical condition. A\\n\\nCompleted by: [**First Name11 (Name Pattern1) 2010**] [**Last Name (NamePattern1) 2011**] MD [**MD Number 2012**] [**2573-7-1**] @ 1404\\nSigned electronically by: DR. [**First Name8 (NamePattern2) **] [**Last Name (NamePattern1) **]\\n on: FRI [**2573-7-2**] 8:03 AM\\n(End of Report)\"])])}"
      ]
     },
     "execution_count": 24,
     "metadata": {},
     "output_type": "execute_result"
    }
   ],
   "source": [
    "doc._.data"
   ]
  },
  {
   "cell_type": "markdown",
   "metadata": {},
   "source": [
    "If you have pandas installed, you can also now convert your doc to a DataFrame for each of the four levels:"
   ]
  },
  {
   "cell_type": "code",
   "execution_count": 25,
   "metadata": {},
   "outputs": [],
   "source": [
    "# !pip install pandas"
   ]
  },
  {
   "cell_type": "code",
   "execution_count": 26,
   "metadata": {},
   "outputs": [
    {
     "data": {
      "text/html": [
       "<div>\n",
       "<style scoped>\n",
       "    .dataframe tbody tr th:only-of-type {\n",
       "        vertical-align: middle;\n",
       "    }\n",
       "\n",
       "    .dataframe tbody tr th {\n",
       "        vertical-align: top;\n",
       "    }\n",
       "\n",
       "    .dataframe thead th {\n",
       "        text-align: right;\n",
       "    }\n",
       "</style>\n",
       "<table border=\"1\" class=\"dataframe\">\n",
       "  <thead>\n",
       "    <tr style=\"text-align: right;\">\n",
       "      <th></th>\n",
       "      <th>text</th>\n",
       "      <th>start_char</th>\n",
       "      <th>end_char</th>\n",
       "      <th>label_</th>\n",
       "      <th>is_negated</th>\n",
       "      <th>is_uncertain</th>\n",
       "      <th>is_historical</th>\n",
       "      <th>is_hypothetical</th>\n",
       "      <th>is_family</th>\n",
       "      <th>section_category</th>\n",
       "      <th>section_parent</th>\n",
       "    </tr>\n",
       "  </thead>\n",
       "  <tbody>\n",
       "    <tr>\n",
       "      <th>0</th>\n",
       "      <td>Hydrochlorothiazide</td>\n",
       "      <td>163</td>\n",
       "      <td>182</td>\n",
       "      <td>DRUG</td>\n",
       "      <td>False</td>\n",
       "      <td>False</td>\n",
       "      <td>False</td>\n",
       "      <td>False</td>\n",
       "      <td>False</td>\n",
       "      <td>allergies</td>\n",
       "      <td>None</td>\n",
       "    </tr>\n",
       "    <tr>\n",
       "      <th>1</th>\n",
       "      <td>chemo</td>\n",
       "      <td>556</td>\n",
       "      <td>561</td>\n",
       "      <td>DRUG</td>\n",
       "      <td>True</td>\n",
       "      <td>False</td>\n",
       "      <td>False</td>\n",
       "      <td>False</td>\n",
       "      <td>False</td>\n",
       "      <td>history_of_present_illness</td>\n",
       "      <td>None</td>\n",
       "    </tr>\n",
       "    <tr>\n",
       "      <th>2</th>\n",
       "      <td>chemo</td>\n",
       "      <td>652</td>\n",
       "      <td>657</td>\n",
       "      <td>DRUG</td>\n",
       "      <td>False</td>\n",
       "      <td>False</td>\n",
       "      <td>False</td>\n",
       "      <td>False</td>\n",
       "      <td>False</td>\n",
       "      <td>past_medical_history</td>\n",
       "      <td>None</td>\n",
       "    </tr>\n",
       "    <tr>\n",
       "      <th>3</th>\n",
       "      <td>Miconazole Nitrate</td>\n",
       "      <td>1183</td>\n",
       "      <td>1201</td>\n",
       "      <td>DRUG</td>\n",
       "      <td>False</td>\n",
       "      <td>False</td>\n",
       "      <td>False</td>\n",
       "      <td>False</td>\n",
       "      <td>False</td>\n",
       "      <td>medications</td>\n",
       "      <td>None</td>\n",
       "    </tr>\n",
       "    <tr>\n",
       "      <th>4</th>\n",
       "      <td>2</td>\n",
       "      <td>1202</td>\n",
       "      <td>1203</td>\n",
       "      <td>STRENGTH</td>\n",
       "      <td>False</td>\n",
       "      <td>False</td>\n",
       "      <td>False</td>\n",
       "      <td>False</td>\n",
       "      <td>False</td>\n",
       "      <td>medications</td>\n",
       "      <td>None</td>\n",
       "    </tr>\n",
       "    <tr>\n",
       "      <th>5</th>\n",
       "      <td>Powder</td>\n",
       "      <td>1206</td>\n",
       "      <td>1212</td>\n",
       "      <td>FORM</td>\n",
       "      <td>False</td>\n",
       "      <td>False</td>\n",
       "      <td>False</td>\n",
       "      <td>False</td>\n",
       "      <td>False</td>\n",
       "      <td>medications</td>\n",
       "      <td>None</td>\n",
       "    </tr>\n",
       "    <tr>\n",
       "      <th>6</th>\n",
       "      <td>One (1)</td>\n",
       "      <td>1218</td>\n",
       "      <td>1225</td>\n",
       "      <td>DOSAGE</td>\n",
       "      <td>False</td>\n",
       "      <td>False</td>\n",
       "      <td>False</td>\n",
       "      <td>False</td>\n",
       "      <td>False</td>\n",
       "      <td>medications</td>\n",
       "      <td>None</td>\n",
       "    </tr>\n",
       "    <tr>\n",
       "      <th>7</th>\n",
       "      <td>Appl</td>\n",
       "      <td>1226</td>\n",
       "      <td>1230</td>\n",
       "      <td>FORM</td>\n",
       "      <td>False</td>\n",
       "      <td>False</td>\n",
       "      <td>False</td>\n",
       "      <td>False</td>\n",
       "      <td>False</td>\n",
       "      <td>medications</td>\n",
       "      <td>None</td>\n",
       "    </tr>\n",
       "    <tr>\n",
       "      <th>8</th>\n",
       "      <td>Topical</td>\n",
       "      <td>1231</td>\n",
       "      <td>1238</td>\n",
       "      <td>ROUTE</td>\n",
       "      <td>False</td>\n",
       "      <td>False</td>\n",
       "      <td>False</td>\n",
       "      <td>False</td>\n",
       "      <td>False</td>\n",
       "      <td>medications</td>\n",
       "      <td>None</td>\n",
       "    </tr>\n",
       "    <tr>\n",
       "      <th>9</th>\n",
       "      <td>BID</td>\n",
       "      <td>1240</td>\n",
       "      <td>1243</td>\n",
       "      <td>FREQUENCY</td>\n",
       "      <td>False</td>\n",
       "      <td>False</td>\n",
       "      <td>False</td>\n",
       "      <td>False</td>\n",
       "      <td>False</td>\n",
       "      <td>medications</td>\n",
       "      <td>None</td>\n",
       "    </tr>\n",
       "  </tbody>\n",
       "</table>\n",
       "</div>"
      ],
      "text/plain": [
       "                  text  start_char  end_char     label_  is_negated  \\\n",
       "0  Hydrochlorothiazide         163       182       DRUG       False   \n",
       "1                chemo         556       561       DRUG        True   \n",
       "2                chemo         652       657       DRUG       False   \n",
       "3   Miconazole Nitrate        1183      1201       DRUG       False   \n",
       "4                    2        1202      1203   STRENGTH       False   \n",
       "5               Powder        1206      1212       FORM       False   \n",
       "6              One (1)        1218      1225     DOSAGE       False   \n",
       "7                 Appl        1226      1230       FORM       False   \n",
       "8              Topical        1231      1238      ROUTE       False   \n",
       "9                  BID        1240      1243  FREQUENCY       False   \n",
       "\n",
       "   is_uncertain  is_historical  is_hypothetical  is_family  \\\n",
       "0         False          False            False      False   \n",
       "1         False          False            False      False   \n",
       "2         False          False            False      False   \n",
       "3         False          False            False      False   \n",
       "4         False          False            False      False   \n",
       "5         False          False            False      False   \n",
       "6         False          False            False      False   \n",
       "7         False          False            False      False   \n",
       "8         False          False            False      False   \n",
       "9         False          False            False      False   \n",
       "\n",
       "             section_category section_parent  \n",
       "0                   allergies           None  \n",
       "1  history_of_present_illness           None  \n",
       "2        past_medical_history           None  \n",
       "3                 medications           None  \n",
       "4                 medications           None  \n",
       "5                 medications           None  \n",
       "6                 medications           None  \n",
       "7                 medications           None  \n",
       "8                 medications           None  \n",
       "9                 medications           None  "
      ]
     },
     "execution_count": 26,
     "metadata": {},
     "output_type": "execute_result"
    }
   ],
   "source": [
    "doc._.to_dataframe(\"ent\").head(10)"
   ]
  },
  {
   "cell_type": "markdown",
   "metadata": {},
   "source": [
    "Now let's go through each of the 4 levels individually. You can specify a single level of data by either passing in the dtype to `doc._.get_data(dtype)` or accessing individual attributes."
   ]
  },
  {
   "cell_type": "markdown",
   "metadata": {},
   "source": [
    "## Ents data"
   ]
  },
  {
   "cell_type": "code",
   "execution_count": 27,
   "metadata": {},
   "outputs": [],
   "source": [
    "ent_data = doc._.ent_data"
   ]
  },
  {
   "cell_type": "code",
   "execution_count": 28,
   "metadata": {},
   "outputs": [
    {
     "data": {
      "text/plain": [
       "odict_keys(['text', 'start_char', 'end_char', 'label_', 'is_negated', 'is_uncertain', 'is_historical', 'is_hypothetical', 'is_family', 'section_category', 'section_parent'])"
      ]
     },
     "execution_count": 28,
     "metadata": {},
     "output_type": "execute_result"
    }
   ],
   "source": [
    "ent_data.keys()"
   ]
  },
  {
   "cell_type": "markdown",
   "metadata": {},
   "source": [
    "You can also access the data row-wise rather then column-wise:"
   ]
  },
  {
   "cell_type": "code",
   "execution_count": 29,
   "metadata": {},
   "outputs": [
    {
     "data": {
      "text/plain": [
       "[('Hydrochlorothiazide',\n",
       "  163,\n",
       "  182,\n",
       "  'DRUG',\n",
       "  False,\n",
       "  False,\n",
       "  False,\n",
       "  False,\n",
       "  False,\n",
       "  'allergies',\n",
       "  None),\n",
       " ('chemo',\n",
       "  556,\n",
       "  561,\n",
       "  'DRUG',\n",
       "  True,\n",
       "  False,\n",
       "  False,\n",
       "  False,\n",
       "  False,\n",
       "  'history_of_present_illness',\n",
       "  None)]"
      ]
     },
     "execution_count": 29,
     "metadata": {},
     "output_type": "execute_result"
    }
   ],
   "source": [
    "doc._.get_data(\"ent\", as_rows=True)[:2]"
   ]
  },
  {
   "cell_type": "code",
   "execution_count": 30,
   "metadata": {},
   "outputs": [],
   "source": [
    "ents_df = doc._.to_dataframe(\"ent\")"
   ]
  },
  {
   "cell_type": "code",
   "execution_count": 31,
   "metadata": {},
   "outputs": [
    {
     "data": {
      "text/html": [
       "<div>\n",
       "<style scoped>\n",
       "    .dataframe tbody tr th:only-of-type {\n",
       "        vertical-align: middle;\n",
       "    }\n",
       "\n",
       "    .dataframe tbody tr th {\n",
       "        vertical-align: top;\n",
       "    }\n",
       "\n",
       "    .dataframe thead th {\n",
       "        text-align: right;\n",
       "    }\n",
       "</style>\n",
       "<table border=\"1\" class=\"dataframe\">\n",
       "  <thead>\n",
       "    <tr style=\"text-align: right;\">\n",
       "      <th></th>\n",
       "      <th>text</th>\n",
       "      <th>start_char</th>\n",
       "      <th>end_char</th>\n",
       "      <th>label_</th>\n",
       "      <th>is_negated</th>\n",
       "      <th>is_uncertain</th>\n",
       "      <th>is_historical</th>\n",
       "      <th>is_hypothetical</th>\n",
       "      <th>is_family</th>\n",
       "      <th>section_category</th>\n",
       "      <th>section_parent</th>\n",
       "    </tr>\n",
       "  </thead>\n",
       "  <tbody>\n",
       "    <tr>\n",
       "      <th>0</th>\n",
       "      <td>Hydrochlorothiazide</td>\n",
       "      <td>163</td>\n",
       "      <td>182</td>\n",
       "      <td>DRUG</td>\n",
       "      <td>False</td>\n",
       "      <td>False</td>\n",
       "      <td>False</td>\n",
       "      <td>False</td>\n",
       "      <td>False</td>\n",
       "      <td>allergies</td>\n",
       "      <td>None</td>\n",
       "    </tr>\n",
       "    <tr>\n",
       "      <th>1</th>\n",
       "      <td>chemo</td>\n",
       "      <td>556</td>\n",
       "      <td>561</td>\n",
       "      <td>DRUG</td>\n",
       "      <td>True</td>\n",
       "      <td>False</td>\n",
       "      <td>False</td>\n",
       "      <td>False</td>\n",
       "      <td>False</td>\n",
       "      <td>history_of_present_illness</td>\n",
       "      <td>None</td>\n",
       "    </tr>\n",
       "    <tr>\n",
       "      <th>2</th>\n",
       "      <td>chemo</td>\n",
       "      <td>652</td>\n",
       "      <td>657</td>\n",
       "      <td>DRUG</td>\n",
       "      <td>False</td>\n",
       "      <td>False</td>\n",
       "      <td>False</td>\n",
       "      <td>False</td>\n",
       "      <td>False</td>\n",
       "      <td>past_medical_history</td>\n",
       "      <td>None</td>\n",
       "    </tr>\n",
       "    <tr>\n",
       "      <th>3</th>\n",
       "      <td>Miconazole Nitrate</td>\n",
       "      <td>1183</td>\n",
       "      <td>1201</td>\n",
       "      <td>DRUG</td>\n",
       "      <td>False</td>\n",
       "      <td>False</td>\n",
       "      <td>False</td>\n",
       "      <td>False</td>\n",
       "      <td>False</td>\n",
       "      <td>medications</td>\n",
       "      <td>None</td>\n",
       "    </tr>\n",
       "    <tr>\n",
       "      <th>4</th>\n",
       "      <td>2</td>\n",
       "      <td>1202</td>\n",
       "      <td>1203</td>\n",
       "      <td>STRENGTH</td>\n",
       "      <td>False</td>\n",
       "      <td>False</td>\n",
       "      <td>False</td>\n",
       "      <td>False</td>\n",
       "      <td>False</td>\n",
       "      <td>medications</td>\n",
       "      <td>None</td>\n",
       "    </tr>\n",
       "  </tbody>\n",
       "</table>\n",
       "</div>"
      ],
      "text/plain": [
       "                  text  start_char  end_char    label_  is_negated  \\\n",
       "0  Hydrochlorothiazide         163       182      DRUG       False   \n",
       "1                chemo         556       561      DRUG        True   \n",
       "2                chemo         652       657      DRUG       False   \n",
       "3   Miconazole Nitrate        1183      1201      DRUG       False   \n",
       "4                    2        1202      1203  STRENGTH       False   \n",
       "\n",
       "   is_uncertain  is_historical  is_hypothetical  is_family  \\\n",
       "0         False          False            False      False   \n",
       "1         False          False            False      False   \n",
       "2         False          False            False      False   \n",
       "3         False          False            False      False   \n",
       "4         False          False            False      False   \n",
       "\n",
       "             section_category section_parent  \n",
       "0                   allergies           None  \n",
       "1  history_of_present_illness           None  \n",
       "2        past_medical_history           None  \n",
       "3                 medications           None  \n",
       "4                 medications           None  "
      ]
     },
     "execution_count": 31,
     "metadata": {},
     "output_type": "execute_result"
    }
   ],
   "source": [
    "ents_df.head()"
   ]
  },
  {
   "cell_type": "code",
   "execution_count": 33,
   "metadata": {},
   "outputs": [
    {
     "data": {
      "text/html": [
       "<div>\n",
       "<style scoped>\n",
       "    .dataframe tbody tr th:only-of-type {\n",
       "        vertical-align: middle;\n",
       "    }\n",
       "\n",
       "    .dataframe tbody tr th {\n",
       "        vertical-align: top;\n",
       "    }\n",
       "\n",
       "    .dataframe thead th {\n",
       "        text-align: right;\n",
       "    }\n",
       "</style>\n",
       "<table border=\"1\" class=\"dataframe\">\n",
       "  <thead>\n",
       "    <tr style=\"text-align: right;\">\n",
       "      <th></th>\n",
       "      <th>text</th>\n",
       "      <th>start_char</th>\n",
       "      <th>end_char</th>\n",
       "      <th>label_</th>\n",
       "      <th>is_negated</th>\n",
       "      <th>is_uncertain</th>\n",
       "      <th>is_historical</th>\n",
       "      <th>is_hypothetical</th>\n",
       "      <th>is_family</th>\n",
       "      <th>section_category</th>\n",
       "      <th>section_parent</th>\n",
       "    </tr>\n",
       "  </thead>\n",
       "  <tbody>\n",
       "    <tr>\n",
       "      <th>1</th>\n",
       "      <td>chemo</td>\n",
       "      <td>556</td>\n",
       "      <td>561</td>\n",
       "      <td>DRUG</td>\n",
       "      <td>True</td>\n",
       "      <td>False</td>\n",
       "      <td>False</td>\n",
       "      <td>False</td>\n",
       "      <td>False</td>\n",
       "      <td>history_of_present_illness</td>\n",
       "      <td>None</td>\n",
       "    </tr>\n",
       "  </tbody>\n",
       "</table>\n",
       "</div>"
      ],
      "text/plain": [
       "    text  start_char  end_char label_  is_negated  is_uncertain  \\\n",
       "1  chemo         556       561   DRUG        True         False   \n",
       "\n",
       "   is_historical  is_hypothetical  is_family            section_category  \\\n",
       "1          False            False      False  history_of_present_illness   \n",
       "\n",
       "  section_parent  \n",
       "1           None  "
      ]
     },
     "execution_count": 33,
     "metadata": {},
     "output_type": "execute_result"
    }
   ],
   "source": [
    "ents_df[ents_df[\"is_negated\"] == True]"
   ]
  },
  {
   "cell_type": "markdown",
   "metadata": {},
   "source": [
    "## Section data"
   ]
  },
  {
   "cell_type": "code",
   "execution_count": 34,
   "metadata": {},
   "outputs": [],
   "source": [
    "section_data = doc._.section_data"
   ]
  },
  {
   "cell_type": "code",
   "execution_count": 35,
   "metadata": {},
   "outputs": [
    {
     "data": {
      "text/plain": [
       "odict_keys(['section_category', 'section_title_text', 'section_title_start_char', 'section_title_end_char', 'section_text', 'section_text_start_char', 'section_text_end_char', 'section_parent'])"
      ]
     },
     "execution_count": 35,
     "metadata": {},
     "output_type": "execute_result"
    }
   ],
   "source": [
    "section_data.keys()"
   ]
  },
  {
   "cell_type": "code",
   "execution_count": 36,
   "metadata": {},
   "outputs": [
    {
     "data": {
      "text/plain": [
       "(None,\n",
       " None,\n",
       " 0,\n",
       " 0,\n",
       " 'Admission Date:  [**2573-5-30**]              Discharge Date:   [**2573-7-1**]\\n\\nDate of Birth:  [**2498-8-19**]             Sex:   F\\n\\n',\n",
       " 0,\n",
       " 134,\n",
       " None)"
      ]
     },
     "execution_count": 36,
     "metadata": {},
     "output_type": "execute_result"
    }
   ],
   "source": [
    "doc._.get_data(\"section\", as_rows=True)[0]"
   ]
  },
  {
   "cell_type": "code",
   "execution_count": 37,
   "metadata": {},
   "outputs": [],
   "source": [
    "section_df = doc._.to_dataframe(\"section\")"
   ]
  },
  {
   "cell_type": "code",
   "execution_count": 38,
   "metadata": {},
   "outputs": [
    {
     "data": {
      "text/html": [
       "<div>\n",
       "<style scoped>\n",
       "    .dataframe tbody tr th:only-of-type {\n",
       "        vertical-align: middle;\n",
       "    }\n",
       "\n",
       "    .dataframe tbody tr th {\n",
       "        vertical-align: top;\n",
       "    }\n",
       "\n",
       "    .dataframe thead th {\n",
       "        text-align: right;\n",
       "    }\n",
       "</style>\n",
       "<table border=\"1\" class=\"dataframe\">\n",
       "  <thead>\n",
       "    <tr style=\"text-align: right;\">\n",
       "      <th></th>\n",
       "      <th>section_category</th>\n",
       "      <th>section_title_text</th>\n",
       "      <th>section_title_start_char</th>\n",
       "      <th>section_title_end_char</th>\n",
       "      <th>section_text</th>\n",
       "      <th>section_text_start_char</th>\n",
       "      <th>section_text_end_char</th>\n",
       "      <th>section_parent</th>\n",
       "    </tr>\n",
       "  </thead>\n",
       "  <tbody>\n",
       "    <tr>\n",
       "      <th>0</th>\n",
       "      <td>None</td>\n",
       "      <td>None</td>\n",
       "      <td>0</td>\n",
       "      <td>0</td>\n",
       "      <td>Admission Date:  [**2573-5-30**]              ...</td>\n",
       "      <td>0</td>\n",
       "      <td>134</td>\n",
       "      <td>None</td>\n",
       "    </tr>\n",
       "    <tr>\n",
       "      <th>1</th>\n",
       "      <td>other</td>\n",
       "      <td>Service:</td>\n",
       "      <td>134</td>\n",
       "      <td>142</td>\n",
       "      <td>Service: SURGERY\\n\\n</td>\n",
       "      <td>134</td>\n",
       "      <td>152</td>\n",
       "      <td>None</td>\n",
       "    </tr>\n",
       "    <tr>\n",
       "      <th>2</th>\n",
       "      <td>allergies</td>\n",
       "      <td>Allergies:</td>\n",
       "      <td>152</td>\n",
       "      <td>162</td>\n",
       "      <td>Allergies:\\nHydrochlorothiazide\\n\\nAttending:[...</td>\n",
       "      <td>152</td>\n",
       "      <td>222</td>\n",
       "      <td>None</td>\n",
       "    </tr>\n",
       "    <tr>\n",
       "      <th>3</th>\n",
       "      <td>chief_complaint</td>\n",
       "      <td>Chief Complaint:</td>\n",
       "      <td>222</td>\n",
       "      <td>238</td>\n",
       "      <td>Chief Complaint:\\nAbdominal pain\\n\\nMajor Surg...</td>\n",
       "      <td>222</td>\n",
       "      <td>350</td>\n",
       "      <td>None</td>\n",
       "    </tr>\n",
       "    <tr>\n",
       "      <th>4</th>\n",
       "      <td>history_of_present_illness</td>\n",
       "      <td>History of Present Illness:</td>\n",
       "      <td>350</td>\n",
       "      <td>377</td>\n",
       "      <td>History of Present Illness:\\n74y female with t...</td>\n",
       "      <td>350</td>\n",
       "      <td>564</td>\n",
       "      <td>None</td>\n",
       "    </tr>\n",
       "  </tbody>\n",
       "</table>\n",
       "</div>"
      ],
      "text/plain": [
       "             section_category           section_title_text  \\\n",
       "0                        None                         None   \n",
       "1                       other                     Service:   \n",
       "2                   allergies                   Allergies:   \n",
       "3             chief_complaint             Chief Complaint:   \n",
       "4  history_of_present_illness  History of Present Illness:   \n",
       "\n",
       "   section_title_start_char  section_title_end_char  \\\n",
       "0                         0                       0   \n",
       "1                       134                     142   \n",
       "2                       152                     162   \n",
       "3                       222                     238   \n",
       "4                       350                     377   \n",
       "\n",
       "                                        section_text  section_text_start_char  \\\n",
       "0  Admission Date:  [**2573-5-30**]              ...                        0   \n",
       "1                               Service: SURGERY\\n\\n                      134   \n",
       "2  Allergies:\\nHydrochlorothiazide\\n\\nAttending:[...                      152   \n",
       "3  Chief Complaint:\\nAbdominal pain\\n\\nMajor Surg...                      222   \n",
       "4  History of Present Illness:\\n74y female with t...                      350   \n",
       "\n",
       "   section_text_end_char section_parent  \n",
       "0                    134           None  \n",
       "1                    152           None  \n",
       "2                    222           None  \n",
       "3                    350           None  \n",
       "4                    564           None  "
      ]
     },
     "execution_count": 38,
     "metadata": {},
     "output_type": "execute_result"
    }
   ],
   "source": [
    "section_df.head()"
   ]
  },
  {
   "cell_type": "markdown",
   "metadata": {},
   "source": [
    "## Context data"
   ]
  },
  {
   "cell_type": "code",
   "execution_count": 39,
   "metadata": {},
   "outputs": [],
   "source": [
    "context_data = doc._.context_data"
   ]
  },
  {
   "cell_type": "code",
   "execution_count": 40,
   "metadata": {},
   "outputs": [
    {
     "data": {
      "text/plain": [
       "odict_keys(['ent_text', 'ent_label_', 'ent_start_char', 'ent_end_char', 'modifier_text', 'modifier_category', 'modifier_direction', 'modifier_start_char', 'modifier_end_char', 'modifier_scope_start_char', 'modifier_scope_end_char'])"
      ]
     },
     "execution_count": 40,
     "metadata": {},
     "output_type": "execute_result"
    }
   ],
   "source": [
    "context_data.keys()"
   ]
  },
  {
   "cell_type": "code",
   "execution_count": 41,
   "metadata": {},
   "outputs": [
    {
     "data": {
      "text/plain": [
       "[('chemo',\n",
       "  'DRUG',\n",
       "  556,\n",
       "  561,\n",
       "  'is not',\n",
       "  'NEGATED_EXISTENCE',\n",
       "  'FORWARD',\n",
       "  535,\n",
       "  541,\n",
       "  542,\n",
       "  541)]"
      ]
     },
     "execution_count": 41,
     "metadata": {},
     "output_type": "execute_result"
    }
   ],
   "source": [
    "doc._.get_data(\"context\", as_rows=True)[:2]"
   ]
  },
  {
   "cell_type": "code",
   "execution_count": 42,
   "metadata": {},
   "outputs": [],
   "source": [
    "context_df = doc._.to_dataframe(\"context\")"
   ]
  },
  {
   "cell_type": "code",
   "execution_count": 43,
   "metadata": {},
   "outputs": [
    {
     "data": {
      "text/html": [
       "<div>\n",
       "<style scoped>\n",
       "    .dataframe tbody tr th:only-of-type {\n",
       "        vertical-align: middle;\n",
       "    }\n",
       "\n",
       "    .dataframe tbody tr th {\n",
       "        vertical-align: top;\n",
       "    }\n",
       "\n",
       "    .dataframe thead th {\n",
       "        text-align: right;\n",
       "    }\n",
       "</style>\n",
       "<table border=\"1\" class=\"dataframe\">\n",
       "  <thead>\n",
       "    <tr style=\"text-align: right;\">\n",
       "      <th></th>\n",
       "      <th>ent_text</th>\n",
       "      <th>ent_label_</th>\n",
       "      <th>ent_start_char</th>\n",
       "      <th>ent_end_char</th>\n",
       "      <th>modifier_text</th>\n",
       "      <th>modifier_category</th>\n",
       "      <th>modifier_direction</th>\n",
       "      <th>modifier_start_char</th>\n",
       "      <th>modifier_end_char</th>\n",
       "      <th>modifier_scope_start_char</th>\n",
       "      <th>modifier_scope_end_char</th>\n",
       "    </tr>\n",
       "  </thead>\n",
       "  <tbody>\n",
       "    <tr>\n",
       "      <th>0</th>\n",
       "      <td>chemo</td>\n",
       "      <td>DRUG</td>\n",
       "      <td>556</td>\n",
       "      <td>561</td>\n",
       "      <td>is not</td>\n",
       "      <td>NEGATED_EXISTENCE</td>\n",
       "      <td>FORWARD</td>\n",
       "      <td>535</td>\n",
       "      <td>541</td>\n",
       "      <td>542</td>\n",
       "      <td>541</td>\n",
       "    </tr>\n",
       "  </tbody>\n",
       "</table>\n",
       "</div>"
      ],
      "text/plain": [
       "  ent_text ent_label_  ent_start_char  ent_end_char modifier_text  \\\n",
       "0    chemo       DRUG             556           561        is not   \n",
       "\n",
       "   modifier_category modifier_direction  modifier_start_char  \\\n",
       "0  NEGATED_EXISTENCE            FORWARD                  535   \n",
       "\n",
       "   modifier_end_char  modifier_scope_start_char  modifier_scope_end_char  \n",
       "0                541                        542                      541  "
      ]
     },
     "execution_count": 43,
     "metadata": {},
     "output_type": "execute_result"
    }
   ],
   "source": [
    "context_df.head()"
   ]
  },
  {
   "cell_type": "markdown",
   "metadata": {},
   "source": [
    "## Doc"
   ]
  },
  {
   "cell_type": "code",
   "execution_count": 44,
   "metadata": {},
   "outputs": [],
   "source": [
    "doc_data = doc._.doc_data"
   ]
  },
  {
   "cell_type": "code",
   "execution_count": 45,
   "metadata": {},
   "outputs": [
    {
     "data": {
      "text/plain": [
       "odict_keys(['text'])"
      ]
     },
     "execution_count": 45,
     "metadata": {},
     "output_type": "execute_result"
    }
   ],
   "source": [
    "doc_data.keys()"
   ]
  },
  {
   "cell_type": "code",
   "execution_count": 46,
   "metadata": {},
   "outputs": [],
   "source": [
    "doc_df = doc._.to_dataframe(\"doc\")"
   ]
  },
  {
   "cell_type": "code",
   "execution_count": 47,
   "metadata": {},
   "outputs": [
    {
     "data": {
      "text/html": [
       "<div>\n",
       "<style scoped>\n",
       "    .dataframe tbody tr th:only-of-type {\n",
       "        vertical-align: middle;\n",
       "    }\n",
       "\n",
       "    .dataframe tbody tr th {\n",
       "        vertical-align: top;\n",
       "    }\n",
       "\n",
       "    .dataframe thead th {\n",
       "        text-align: right;\n",
       "    }\n",
       "</style>\n",
       "<table border=\"1\" class=\"dataframe\">\n",
       "  <thead>\n",
       "    <tr style=\"text-align: right;\">\n",
       "      <th></th>\n",
       "      <th>text</th>\n",
       "    </tr>\n",
       "  </thead>\n",
       "  <tbody>\n",
       "    <tr>\n",
       "      <th>0</th>\n",
       "      <td>Admission Date:  [**2573-5-30**]              ...</td>\n",
       "    </tr>\n",
       "  </tbody>\n",
       "</table>\n",
       "</div>"
      ],
      "text/plain": [
       "                                                text\n",
       "0  Admission Date:  [**2573-5-30**]              ..."
      ]
     },
     "execution_count": 47,
     "metadata": {},
     "output_type": "execute_result"
    }
   ],
   "source": [
    "doc_df"
   ]
  },
  {
   "cell_type": "markdown",
   "metadata": {},
   "source": [
    "## Customizing attributes\n",
    "You can customize the values in `dtype_attrs` to modify what attributes are stored. \"doc\" and \"ent\" dtypes can take additional attributes which aren't included in the default, but \"section\" and \"context\" attributes can only take subsets of the defaults.\n",
    "\n",
    "You can see the default values by calling the class method below:"
   ]
  },
  {
   "cell_type": "code",
   "execution_count": 48,
   "metadata": {},
   "outputs": [
    {
     "data": {
      "text/plain": [
       "{'ent': ['text',\n",
       "  'start_char',\n",
       "  'end_char',\n",
       "  'label_',\n",
       "  'is_negated',\n",
       "  'is_uncertain',\n",
       "  'is_historical',\n",
       "  'is_hypothetical',\n",
       "  'is_family',\n",
       "  'section_category',\n",
       "  'section_parent'],\n",
       " 'section': ['section_category',\n",
       "  'section_title_text',\n",
       "  'section_title_start_char',\n",
       "  'section_title_end_char',\n",
       "  'section_text',\n",
       "  'section_text_start_char',\n",
       "  'section_text_end_char',\n",
       "  'section_parent'],\n",
       " 'context': ['ent_text',\n",
       "  'ent_label_',\n",
       "  'ent_start_char',\n",
       "  'ent_end_char',\n",
       "  'modifier_text',\n",
       "  'modifier_category',\n",
       "  'modifier_direction',\n",
       "  'modifier_start_char',\n",
       "  'modifier_end_char',\n",
       "  'modifier_scope_start_char',\n",
       "  'modifier_scope_end_char'],\n",
       " 'doc': ['text']}"
      ]
     },
     "execution_count": 48,
     "metadata": {},
     "output_type": "execute_result"
    }
   ],
   "source": [
    "DocConsumer.get_default_attrs()"
   ]
  },
  {
   "cell_type": "markdown",
   "metadata": {},
   "source": [
    "Let's create a second model here and add a second `DocConsumer` with customized attributes. We'll also add a new custom attribute for `Doc`, `report_id`, and include it."
   ]
  },
  {
   "cell_type": "code",
   "execution_count": 50,
   "metadata": {},
   "outputs": [],
   "source": [
    "from spacy.tokens import Doc\n",
    "Doc.set_extension(\"report_title\", default=\"\")"
   ]
  },
  {
   "cell_type": "code",
   "execution_count": 62,
   "metadata": {},
   "outputs": [],
   "source": [
    "doc2 = nlp(\"Previously on antibiotics.\")"
   ]
  },
  {
   "cell_type": "code",
   "execution_count": 63,
   "metadata": {},
   "outputs": [],
   "source": [
    "doc2._.report_title = \"example_document\""
   ]
  },
  {
   "cell_type": "code",
   "execution_count": 67,
   "metadata": {},
   "outputs": [],
   "source": [
    "doc_consumer2 = DocConsumer(nlp, dtypes=(\"ent\", \"doc\"), \n",
    "                            dtype_attrs={\n",
    "                                \"ent\": [\n",
    "                                    \"text\",\n",
    "                                    \"label_\",\n",
    "                                    \"is_negated\",\n",
    "                                    \"section_category\",\n",
    "                                    \n",
    "                                ],\n",
    "                                \"doc\":\n",
    "                                [\"text\", \"report_title\"]\n",
    "                                \n",
    "                            }\n",
    ")"
   ]
  },
  {
   "cell_type": "code",
   "execution_count": 68,
   "metadata": {},
   "outputs": [
    {
     "data": {
      "text/plain": [
       "Previously on antibiotics."
      ]
     },
     "execution_count": 68,
     "metadata": {},
     "output_type": "execute_result"
    }
   ],
   "source": [
    "doc_consumer2(doc2)"
   ]
  },
  {
   "cell_type": "code",
   "execution_count": 69,
   "metadata": {},
   "outputs": [
    {
     "data": {
      "text/html": [
       "<div>\n",
       "<style scoped>\n",
       "    .dataframe tbody tr th:only-of-type {\n",
       "        vertical-align: middle;\n",
       "    }\n",
       "\n",
       "    .dataframe tbody tr th {\n",
       "        vertical-align: top;\n",
       "    }\n",
       "\n",
       "    .dataframe thead th {\n",
       "        text-align: right;\n",
       "    }\n",
       "</style>\n",
       "<table border=\"1\" class=\"dataframe\">\n",
       "  <thead>\n",
       "    <tr style=\"text-align: right;\">\n",
       "      <th></th>\n",
       "      <th>text</th>\n",
       "      <th>label_</th>\n",
       "      <th>is_negated</th>\n",
       "      <th>section_category</th>\n",
       "    </tr>\n",
       "  </thead>\n",
       "  <tbody>\n",
       "    <tr>\n",
       "      <th>0</th>\n",
       "      <td>antibiotics</td>\n",
       "      <td>DRUG</td>\n",
       "      <td>False</td>\n",
       "      <td>None</td>\n",
       "    </tr>\n",
       "  </tbody>\n",
       "</table>\n",
       "</div>"
      ],
      "text/plain": [
       "          text label_  is_negated section_category\n",
       "0  antibiotics   DRUG       False             None"
      ]
     },
     "execution_count": 69,
     "metadata": {},
     "output_type": "execute_result"
    }
   ],
   "source": [
    "doc2._.to_dataframe(\"ent\")"
   ]
  },
  {
   "cell_type": "code",
   "execution_count": 70,
   "metadata": {},
   "outputs": [
    {
     "data": {
      "text/html": [
       "<div>\n",
       "<style scoped>\n",
       "    .dataframe tbody tr th:only-of-type {\n",
       "        vertical-align: middle;\n",
       "    }\n",
       "\n",
       "    .dataframe tbody tr th {\n",
       "        vertical-align: top;\n",
       "    }\n",
       "\n",
       "    .dataframe thead th {\n",
       "        text-align: right;\n",
       "    }\n",
       "</style>\n",
       "<table border=\"1\" class=\"dataframe\">\n",
       "  <thead>\n",
       "    <tr style=\"text-align: right;\">\n",
       "      <th></th>\n",
       "      <th>text</th>\n",
       "      <th>report_title</th>\n",
       "    </tr>\n",
       "  </thead>\n",
       "  <tbody>\n",
       "    <tr>\n",
       "      <th>0</th>\n",
       "      <td>Previously on antibiotics.</td>\n",
       "      <td>example_document</td>\n",
       "    </tr>\n",
       "  </tbody>\n",
       "</table>\n",
       "</div>"
      ],
      "text/plain": [
       "                         text      report_title\n",
       "0  Previously on antibiotics.  example_document"
      ]
     },
     "execution_count": 70,
     "metadata": {},
     "output_type": "execute_result"
    }
   ],
   "source": [
    "doc2._.to_dataframe(\"doc\")"
   ]
  },
  {
   "cell_type": "markdown",
   "metadata": {},
   "source": [
    "# Writer and Reader\n",
    "The reader and writer classes are utilities for I/O. Here we'll show how to use it to connect to a sqlite database, read in text, and write them back to a new table."
   ]
  },
  {
   "cell_type": "code",
   "execution_count": 71,
   "metadata": {},
   "outputs": [],
   "source": [
    "from medspacy.io import DbWriter, DbReader, DbConnect"
   ]
  },
  {
   "cell_type": "markdown",
   "metadata": {},
   "source": [
    "## DbConn\n",
    "DbConnect is a wrapper for either a pyodbc or sqlite3 connection. It can then be passed into the DbReader and DbWriter classes to retrieve/store document data.\n",
    "\n",
    "You can pass in either information for a pyodbc connection string or directly pass in a sqlite or pyodbc connection object. Here, we'll pass in a connection to our sqlite database."
   ]
  },
  {
   "cell_type": "code",
   "execution_count": 72,
   "metadata": {},
   "outputs": [],
   "source": [
    "sq3_conn = sqlite3.connect(\"./medspacy_demo.db\")"
   ]
  },
  {
   "cell_type": "code",
   "execution_count": 73,
   "metadata": {},
   "outputs": [],
   "source": [
    "cursor = sq3_conn.cursor()"
   ]
  },
  {
   "cell_type": "code",
   "execution_count": 74,
   "metadata": {},
   "outputs": [
    {
     "name": "stdout",
     "output_type": "stream",
     "text": [
      "Opened connection to None.None\n"
     ]
    }
   ],
   "source": [
    "conn = DbConnect(conn=sq3_conn)"
   ]
  },
  {
   "cell_type": "markdown",
   "metadata": {},
   "source": [
    "## DbReader\n",
    "DbReader is a utility fo reading docs from a database. It takes two arguments:\n",
    "- **db_conn**: A `DbConnect` object\n",
    "- **read_query**: The SQL query to read documents\n",
    "\n",
    "Calling `reader.read()` will then return the results of the specified query."
   ]
  },
  {
   "cell_type": "code",
   "execution_count": 75,
   "metadata": {},
   "outputs": [],
   "source": [
    "read_query = \"\"\"\n",
    "SELECT text\n",
    "FROM texts\n",
    "\"\"\""
   ]
  },
  {
   "cell_type": "code",
   "execution_count": 76,
   "metadata": {},
   "outputs": [],
   "source": [
    "reader = DbReader(conn, read_query)"
   ]
  },
  {
   "cell_type": "code",
   "execution_count": 77,
   "metadata": {},
   "outputs": [
    {
     "name": "stdout",
     "output_type": "stream",
     "text": [
      "Read 2 rows with query: \n",
      "SELECT text\n",
      "FROM texts\n",
      "\n"
     ]
    }
   ],
   "source": [
    "rslts = reader.read()"
   ]
  },
  {
   "cell_type": "code",
   "execution_count": 78,
   "metadata": {},
   "outputs": [],
   "source": [
    "texts = [r[0] for r in rslts]"
   ]
  },
  {
   "cell_type": "code",
   "execution_count": 79,
   "metadata": {},
   "outputs": [
    {
     "name": "stdout",
     "output_type": "stream",
     "text": [
      "Admission Date:  [**2573-5-30**]              Discharge Date:   [**2573-7-1**]\n",
      "\n",
      "Date of Birth:  [**2\n"
     ]
    }
   ],
   "source": [
    "print(texts[0][:100])"
   ]
  },
  {
   "cell_type": "code",
   "execution_count": 80,
   "metadata": {},
   "outputs": [
    {
     "name": "stdout",
     "output_type": "stream",
     "text": [
      "There is no evidence of pneumonia.\n"
     ]
    }
   ],
   "source": [
    "print(texts[1])"
   ]
  },
  {
   "cell_type": "markdown",
   "metadata": {},
   "source": [
    "#### Now we will process these docs and prepare to write them back:"
   ]
  },
  {
   "cell_type": "code",
   "execution_count": 84,
   "metadata": {},
   "outputs": [],
   "source": [
    "nlp.add_pipe(\"medspacy_doc_consumer\");"
   ]
  },
  {
   "cell_type": "code",
   "execution_count": 85,
   "metadata": {},
   "outputs": [],
   "source": [
    "docs = list(nlp.pipe(texts))"
   ]
  },
  {
   "cell_type": "markdown",
   "metadata": {},
   "source": [
    "## DbWriter\n",
    "DbWriter is a utility class for writing structured data back to a database. Here we'll use it to store out processed doc to a new table called `ents`.\n",
    "\n",
    "DbWriter takes the following arguments:\n",
    "\n",
    "- **destination_table**: The name of the table to insert values into\n",
    "- **cols**: Column names of the destination table\n",
    "- **col_types**: SQL data types of the columns\n",
    "- **doc_dtype**: DocConsumer data type, default 'ent'\n",
    "- **create_table**: Whether or not to create the table if it does not exist, default False\n",
    "- **drop_existing**: Whether to drop the table if it does exist, default False,\n",
    "- **write_batch_size**: Default 100\n",
    "\n",
    "\n",
    "Our column names will be the \"ents\" attributes in our consumer:"
   ]
  },
  {
   "cell_type": "code",
   "execution_count": 86,
   "metadata": {},
   "outputs": [
    {
     "data": {
      "text/plain": [
       "['text',\n",
       " 'start_char',\n",
       " 'end_char',\n",
       " 'label_',\n",
       " 'is_negated',\n",
       " 'is_uncertain',\n",
       " 'is_historical',\n",
       " 'is_hypothetical',\n",
       " 'is_family',\n",
       " 'section_category',\n",
       " 'section_parent']"
      ]
     },
     "execution_count": 86,
     "metadata": {},
     "output_type": "execute_result"
    }
   ],
   "source": [
    "doc_consumer.dtype_attrs[\"ent\"]"
   ]
  },
  {
   "cell_type": "markdown",
   "metadata": {},
   "source": [
    "Now we'll define the SQL datatypes for each column:"
   ]
  },
  {
   "cell_type": "code",
   "execution_count": 87,
   "metadata": {},
   "outputs": [],
   "source": [
    "col_types = [\n",
    "    \"varchar(1000)\",\n",
    "    \"int\",\n",
    "    \"int\",\n",
    "    \"varchar(100)\",\n",
    "    \"int\",\n",
    "    \"int\",\n",
    "    \"int\",\n",
    "    \"int\",\n",
    "    \"int\",\n",
    "    \"varchar(100)\",\n",
    "    \"varchar(100)\"\n",
    "]"
   ]
  },
  {
   "cell_type": "code",
   "execution_count": 88,
   "metadata": {},
   "outputs": [
    {
     "name": "stdout",
     "output_type": "stream",
     "text": [
      "text varchar(1000)\n",
      "start_char int\n",
      "end_char int\n",
      "label_ varchar(100)\n",
      "is_negated int\n",
      "is_uncertain int\n",
      "is_historical int\n",
      "is_hypothetical int\n",
      "is_family int\n",
      "section_category varchar(100)\n",
      "section_parent varchar(100)\n"
     ]
    }
   ],
   "source": [
    "for (name, typ) in zip(doc_consumer.dtype_attrs[\"ent\"], col_types):\n",
    "    print(name, typ)"
   ]
  },
  {
   "cell_type": "markdown",
   "metadata": {},
   "source": [
    "No we'll instantiate our writer and write the doc's entities to a new table:"
   ]
  },
  {
   "cell_type": "code",
   "execution_count": 89,
   "metadata": {},
   "outputs": [
    {
     "name": "stdout",
     "output_type": "stream",
     "text": [
      "Created table ents with query: CREATE TABLE ents (text varchar(1000), start_char int, end_char int, label_ varchar(100), is_negated int, is_uncertain int, is_historical int, is_hypothetical int, is_family int, section_category varchar(100), section_parent varchar(100))\n"
     ]
    }
   ],
   "source": [
    "writer = DbWriter(conn, \"ents\", cols=doc_consumer.dtype_attrs[\"ent\"], \n",
    "                  col_types=col_types,\n",
    "                  doc_dtype=\"ent\",\n",
    "                 create_table=True, drop_existing=True)"
   ]
  },
  {
   "cell_type": "code",
   "execution_count": 90,
   "metadata": {},
   "outputs": [
    {
     "name": "stdout",
     "output_type": "stream",
     "text": [
      "Wrote 21 rows with query: INSERT INTO ents (text, start_char, end_char, label_, is_negated, is_uncertain, is_historical, is_hypothetical, is_family, section_category, section_parent) VALUES (?, ?, ?, ?, ?, ?, ?, ?, ?, ?, ?)\n",
      "Wrote 0 rows with query: INSERT INTO ents (text, start_char, end_char, label_, is_negated, is_uncertain, is_historical, is_hypothetical, is_family, section_category, section_parent) VALUES (?, ?, ?, ?, ?, ?, ?, ?, ?, ?, ?)\n"
     ]
    }
   ],
   "source": [
    "for doc in docs:\n",
    "    writer.write(doc)"
   ]
  },
  {
   "cell_type": "markdown",
   "metadata": {},
   "source": [
    "Now we can query our table to retrieve the data we wrote:"
   ]
  },
  {
   "cell_type": "code",
   "execution_count": 91,
   "metadata": {},
   "outputs": [],
   "source": [
    "query = \"\"\"\n",
    "SELECT *\n",
    "FROM ents\n",
    "LIMIT 2;\n",
    "\"\"\""
   ]
  },
  {
   "cell_type": "code",
   "execution_count": 92,
   "metadata": {},
   "outputs": [
    {
     "data": {
      "text/plain": [
       "<sqlite3.Cursor at 0x7ffd74fd4e30>"
      ]
     },
     "execution_count": 92,
     "metadata": {},
     "output_type": "execute_result"
    }
   ],
   "source": [
    "cursor.execute(query)"
   ]
  },
  {
   "cell_type": "code",
   "execution_count": 93,
   "metadata": {},
   "outputs": [
    {
     "data": {
      "text/plain": [
       "[('Hydrochlorothiazide', 163, 182, 'DRUG', 0, 0, 0, 0, 0, 'allergies', None),\n",
       " ('chemo',\n",
       "  556,\n",
       "  561,\n",
       "  'DRUG',\n",
       "  1,\n",
       "  0,\n",
       "  0,\n",
       "  0,\n",
       "  0,\n",
       "  'history_of_present_illness',\n",
       "  None)]"
      ]
     },
     "execution_count": 93,
     "metadata": {},
     "output_type": "execute_result"
    }
   ],
   "source": [
    "cursor.fetchall()"
   ]
  },
  {
   "cell_type": "code",
   "execution_count": 94,
   "metadata": {},
   "outputs": [],
   "source": [
    "query = \"\"\"\n",
    "SELECT label_, COUNT(1)\n",
    "FROM ents\n",
    "GROUP BY label_\n",
    "\"\"\""
   ]
  },
  {
   "cell_type": "code",
   "execution_count": 95,
   "metadata": {},
   "outputs": [
    {
     "data": {
      "text/plain": [
       "<sqlite3.Cursor at 0x7ffd74fd4e30>"
      ]
     },
     "execution_count": 95,
     "metadata": {},
     "output_type": "execute_result"
    }
   ],
   "source": [
    "cursor.execute(query)"
   ]
  },
  {
   "cell_type": "code",
   "execution_count": 96,
   "metadata": {},
   "outputs": [
    {
     "data": {
      "text/plain": [
       "[('DOSAGE', 3),\n",
       " ('DRUG', 6),\n",
       " ('FORM', 4),\n",
       " ('FREQUENCY', 2),\n",
       " ('ROUTE', 3),\n",
       " ('STRENGTH', 3)]"
      ]
     },
     "execution_count": 96,
     "metadata": {},
     "output_type": "execute_result"
    }
   ],
   "source": [
    "cursor.fetchall()"
   ]
  },
  {
   "cell_type": "code",
   "execution_count": null,
   "metadata": {},
   "outputs": [],
   "source": []
  },
  {
   "cell_type": "markdown",
   "metadata": {},
   "source": [
    "## Pipeline\n",
    "Once we have our reader and writer objects, we can pass them in to a `Pipeline`, which will read texts in batches, process them with NLP, and write them back to the database as specified by the writer.\n",
    "\n",
    "`Pipeline` takes the following arguments:\n",
    "- **reader: A DbReader object**\n",
    "- **writer: A Dbwriter object**\n",
    "- **nlp: A spaCy model**\n",
    "- **dtype: The DocConsumer data type to write to a database. Default \"ent**\n",
    "\n",
    "In order for the pipeline to work, the first column of both the source and destination tables must some sort of document identifier (ie., \"text_id\"). "
   ]
  },
  {
   "cell_type": "code",
   "execution_count": 97,
   "metadata": {},
   "outputs": [],
   "source": [
    "from medspacy.io import Pipeline"
   ]
  },
  {
   "cell_type": "code",
   "execution_count": 98,
   "metadata": {},
   "outputs": [
    {
     "name": "stdout",
     "output_type": "stream",
     "text": [
      "Opened connection to None.None\n"
     ]
    }
   ],
   "source": [
    "sq3_conn_read = sqlite3.connect(\"./medspacy_demo.db\")\n",
    "conn = DbConnect(conn=sq3_conn_read)"
   ]
  },
  {
   "cell_type": "code",
   "execution_count": 99,
   "metadata": {},
   "outputs": [
    {
     "name": "stdout",
     "output_type": "stream",
     "text": [
      "Created table ents with query: CREATE TABLE ents (text_id int, text varchar(1000), start_char int, end_char int, label_ varchar(100), is_negated int, is_uncertain int, is_historical int, is_hypothetical int, is_family int, section_category varchar(100), section_parent varchar(100))\n"
     ]
    }
   ],
   "source": [
    "reader = DbReader(conn, read_query=\"SELECT text_id, text FROM texts\")\n",
    "writer = DbWriter(conn, \"ents\", \n",
    "                  # Add the text_id to the column names and types\n",
    "                  cols=[\"text_id\"]+doc_consumer.dtype_attrs[\"ent\"], \n",
    "                  col_types=[\"int\"] + col_types,\n",
    "                  doc_dtype=\"ent\",\n",
    "                 create_table=True, drop_existing=True)"
   ]
  },
  {
   "cell_type": "code",
   "execution_count": 102,
   "metadata": {},
   "outputs": [],
   "source": [
    "pipeline = Pipeline(nlp, reader, writer, nlp, dtype=\"ent\")"
   ]
  },
  {
   "cell_type": "code",
   "execution_count": 103,
   "metadata": {},
   "outputs": [
    {
     "name": "stdout",
     "output_type": "stream",
     "text": [
      "Read 2 rows with query: SELECT text_id, text FROM texts\n",
      "Wrote 21 rows with query: INSERT INTO ents (text_id, text, start_char, end_char, label_, is_negated, is_uncertain, is_historical, is_hypothetical, is_family, section_category, section_parent) VALUES (?, ?, ?, ?, ?, ?, ?, ?, ?, ?, ?, ?)\n",
      "Connection closed.\n"
     ]
    }
   ],
   "source": [
    "pipeline.process()"
   ]
  },
  {
   "cell_type": "code",
   "execution_count": 104,
   "metadata": {},
   "outputs": [],
   "source": [
    "conn = sqlite3.connect(\"./medspacy_demo.db\")\n",
    "cursor = conn.cursor()"
   ]
  },
  {
   "cell_type": "code",
   "execution_count": 105,
   "metadata": {},
   "outputs": [
    {
     "data": {
      "text/plain": [
       "<sqlite3.Cursor at 0x7ffd72c90030>"
      ]
     },
     "execution_count": 105,
     "metadata": {},
     "output_type": "execute_result"
    }
   ],
   "source": [
    "cursor.execute(\"\"\"\n",
    "SELECT text_id, label_, COUNT(1)\n",
    "FROM ents\n",
    "GROUP BY text_id, label_\n",
    "\"\"\")"
   ]
  },
  {
   "cell_type": "code",
   "execution_count": 106,
   "metadata": {},
   "outputs": [
    {
     "data": {
      "text/plain": [
       "[(1, 'DOSAGE', 3),\n",
       " (1, 'DRUG', 6),\n",
       " (1, 'FORM', 4),\n",
       " (1, 'FREQUENCY', 2),\n",
       " (1, 'ROUTE', 3),\n",
       " (1, 'STRENGTH', 3)]"
      ]
     },
     "execution_count": 106,
     "metadata": {},
     "output_type": "execute_result"
    }
   ],
   "source": [
    "cursor.fetchall()"
   ]
  },
  {
   "cell_type": "code",
   "execution_count": null,
   "metadata": {},
   "outputs": [],
   "source": []
  }
 ],
 "metadata": {
  "kernelspec": {
   "display_name": "Python 3",
   "language": "python",
   "name": "python3"
  },
  "language_info": {
   "codemirror_mode": {
    "name": "ipython",
    "version": 3
   },
   "file_extension": ".py",
   "mimetype": "text/x-python",
   "name": "python",
   "nbconvert_exporter": "python",
   "pygments_lexer": "ipython3",
   "version": "3.8.5"
  }
 },
 "nbformat": 4,
 "nbformat_minor": 4
}
