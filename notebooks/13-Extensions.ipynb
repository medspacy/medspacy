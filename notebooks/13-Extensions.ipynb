{
 "cells": [
  {
   "cell_type": "markdown",
   "metadata": {},
   "source": [
    "# Overview\n",
    "One of the most powerful features of spaCy is the ability to add [custom attributes and extensions](https://spacy.io/usage/processing-pipelines#custom-components-attributes) to `Doc`, `Span`, and `Token` classes. These extensions are stored in the underscore attribute (ie., `token._`). This allows us to store custom data and implement custom methods which are useful to medspaCy while still using the spaCy API.\n",
    "\n",
    "MedspaCy adds a number of methods to the underscore attribute for each class. This notebook will walk through what these extensions are and how they can be used."
   ]
  },
  {
   "cell_type": "code",
   "execution_count": 1,
   "metadata": {},
   "outputs": [],
   "source": [
    "%load_ext autoreload\n",
    "%autoreload 2"
   ]
  },
  {
   "cell_type": "code",
   "execution_count": 2,
   "metadata": {},
   "outputs": [],
   "source": [
    "import sys"
   ]
  },
  {
   "cell_type": "code",
   "execution_count": 3,
   "metadata": {},
   "outputs": [],
   "source": [
    "sys.path.insert(0, \"..\")"
   ]
  },
  {
   "cell_type": "markdown",
   "metadata": {},
   "source": [
    "## Set up example data\n",
    "First, we'll load a pipeline and set up a simple example of text to process with some entities."
   ]
  },
  {
   "cell_type": "code",
   "execution_count": 4,
   "metadata": {},
   "outputs": [],
   "source": [
    "import medspacy\n",
    "from medspacy.target_matcher import TargetRule"
   ]
  },
  {
   "cell_type": "code",
   "execution_count": 5,
   "metadata": {},
   "outputs": [],
   "source": [
    "nlp = medspacy.load(enable=[\"pyrush\", \"target_matcher\", \"context\", \"sectionizer\"])"
   ]
  },
  {
   "cell_type": "code",
   "execution_count": 6,
   "metadata": {},
   "outputs": [],
   "source": [
    "target_rules = [\n",
    "    TargetRule(\"afib\", \"CONDITION\"),\n",
    "    TargetRule(\"pneumonia\", \"CONDITION\", pattern=r\"community[- ]acquired pneumonia\"),\n",
    "    TargetRule(\"acute stroke\", \"CONDITION\")\n",
    "]"
   ]
  },
  {
   "cell_type": "code",
   "execution_count": 7,
   "metadata": {},
   "outputs": [
    {
     "name": "stderr",
     "output_type": "stream",
     "text": [
      "/Users/alecchapman/Documents/medspacy/notebooks/../medspacy/common/regex_matcher.py:60: RuntimeWarning: You are using a TargetRule with a regex pattern, which is not natively supported in spacy and may lead to unexpected match spans. Consider using a list of dicts pattern instead. See https://spacy.io/usage/rule-based-matching\n",
      "  warnings.warn(\n"
     ]
    }
   ],
   "source": [
    "nlp.get_pipe(\"medspacy_target_matcher\").add(target_rules)"
   ]
  },
  {
   "cell_type": "code",
   "execution_count": 8,
   "metadata": {},
   "outputs": [],
   "source": [
    "text = \"\"\"Past Medical History: Afib and community-acquired pneumonia.\n",
    "Assessment/Plan: Acute stroke\n",
    "\"\"\""
   ]
  },
  {
   "cell_type": "code",
   "execution_count": 9,
   "metadata": {},
   "outputs": [
    {
     "name": "stderr",
     "output_type": "stream",
     "text": [
      "/Users/alecchapman/Documents/medspacy/notebooks/../medspacy/common/medspacy_matcher.py:80: UserWarning: [W036] The component 'matcher' does not have any patterns defined.\n",
      "  matches = self.matcher(doc)\n",
      "/Users/alecchapman/Documents/medspacy/notebooks/../medspacy/common/medspacy_matcher.py:80: UserWarning: [W036] The component 'matcher' does not have any patterns defined.\n",
      "  matches = self.matcher(doc)\n"
     ]
    }
   ],
   "source": [
    "doc = nlp(text)"
   ]
  },
  {
   "cell_type": "code",
   "execution_count": 10,
   "metadata": {},
   "outputs": [
    {
     "data": {
      "text/plain": [
       "(Afib, community-acquired pneumonia, Acute stroke)"
      ]
     },
     "execution_count": 10,
     "metadata": {},
     "output_type": "execute_result"
    }
   ],
   "source": [
    "doc.ents"
   ]
  },
  {
   "cell_type": "markdown",
   "metadata": {},
   "source": [
    "# All extensions\n",
    "You can get a dict containing the extension names and default values or getter/setters for each by the top-level `get_extensions` method:"
   ]
  },
  {
   "cell_type": "code",
   "execution_count": 11,
   "metadata": {},
   "outputs": [
    {
     "data": {
      "text/plain": [
       "{'Token': {'window': {'method': <function medspacy._extensions.get_window_token(token, n=1, left=True, right=True)>},\n",
       "  'section': {'default': None},\n",
       "  'section_span': {'getter': <function medspacy._extensions.get_section_span_token(token)>},\n",
       "  'section_category': {'getter': <function medspacy._extensions.get_section_category_token(token)>},\n",
       "  'section_title': {'getter': <function medspacy._extensions.get_section_title_span_token(token)>},\n",
       "  'section_body': {'getter': <function medspacy._extensions.get_section_body_span_token(token)>},\n",
       "  'section_parent': {'getter': <function medspacy._extensions.get_section_parent_token(token)>},\n",
       "  'section_rule': {'getter': <function medspacy._extensions.get_section_rule_token(token)>}},\n",
       " 'Span': {'window': {'method': <function medspacy._extensions.get_window_span(span, n=1, left=True, right=True)>},\n",
       "  'context_attributes': {'getter': <function medspacy._extensions.get_context_attributes(span)>},\n",
       "  'any_context_attributes': {'getter': <function medspacy._extensions.any_context_attribute(span)>},\n",
       "  'section': {'getter': <function medspacy._extensions.<lambda>(x)>},\n",
       "  'section_span': {'getter': <function medspacy._extensions.<lambda>(x)>},\n",
       "  'section_category': {'getter': <function medspacy._extensions.<lambda>(x)>},\n",
       "  'section_title': {'getter': <function medspacy._extensions.<lambda>(x)>},\n",
       "  'section_body': {'getter': <function medspacy._extensions.<lambda>(x)>},\n",
       "  'section_parent': {'getter': <function medspacy._extensions.<lambda>(x)>},\n",
       "  'section_rule': {'getter': <function medspacy._extensions.<lambda>(x)>},\n",
       "  'contains': {'method': <function medspacy.common.util.span_contains(span, target, regex=True, case_insensitive=True)>},\n",
       "  'target_rule': {'default': None},\n",
       "  'literal': {'getter': <function medspacy._extensions.get_span_literal(span)>},\n",
       "  'is_negated': {'default': False},\n",
       "  'is_historical': {'default': False},\n",
       "  'is_hypothetical': {'default': False},\n",
       "  'is_family': {'default': False},\n",
       "  'is_uncertain': {'default': False}},\n",
       " 'Doc': {'sections': {'default': []},\n",
       "  'section_titles': {'getter': <function medspacy._extensions.get_section_title_spans(doc)>},\n",
       "  'section_categories': {'getter': <function medspacy._extensions.get_section_categories(doc)>},\n",
       "  'section_spans': {'getter': <function medspacy._extensions.get_section_spans(doc)>},\n",
       "  'section_parents': {'getter': <function medspacy._extensions.get_section_parents(doc)>},\n",
       "  'section_bodies': {'getter': <function medspacy._extensions.get_section_body_spans(doc)>},\n",
       "  'get_data': {'method': <function medspacy._extensions.get_data(doc, dtype=None, attrs=None, as_rows=False)>},\n",
       "  'data': {'default': None},\n",
       "  'ent_data': {'getter': <function medspacy._extensions.<lambda>(doc)>},\n",
       "  'section_data': {'getter': <function medspacy._extensions.<lambda>(doc)>},\n",
       "  'doc_data': {'getter': <function medspacy._extensions.<lambda>(doc)>},\n",
       "  'context_data': {'getter': <function medspacy._extensions.<lambda>(doc)>},\n",
       "  'to_dataframe': {'method': <function medspacy._extensions.to_dataframe(doc, data_type='ent')>}}}"
      ]
     },
     "execution_count": 11,
     "metadata": {},
     "output_type": "execute_result"
    }
   ],
   "source": [
    "medspacy.get_extensions()"
   ]
  },
  {
   "cell_type": "markdown",
   "metadata": {},
   "source": [
    "In the rest of the notebook, we'll walk through the 3 classes and show each of the extensions."
   ]
  },
  {
   "cell_type": "markdown",
   "metadata": {},
   "source": [
    "# I. Doc"
   ]
  },
  {
   "cell_type": "code",
   "execution_count": 12,
   "metadata": {},
   "outputs": [
    {
     "data": {
      "text/plain": [
       "dict_keys(['sections', 'section_titles', 'section_categories', 'section_spans', 'section_parents', 'section_bodies', 'get_data', 'data', 'ent_data', 'section_data', 'doc_data', 'context_data', 'to_dataframe'])"
      ]
     },
     "execution_count": 12,
     "metadata": {},
     "output_type": "execute_result"
    }
   ],
   "source": [
    "medspacy.get_doc_extensions().keys()"
   ]
  },
  {
   "cell_type": "markdown",
   "metadata": {},
   "source": [
    "## Sections\n",
    "The only default `Doc` extensions relate to the sections of the doc which are identified by the `Sectionizer` class."
   ]
  },
  {
   "cell_type": "markdown",
   "metadata": {},
   "source": [
    "#### `doc._.sections`\n",
    "A list of named tuples representing the different sections in a doc. Each tuple contains:\n",
    "- `category`: A string representing the normalized name of the section\n",
    "- `title_span`: The Span of the Doc which begins the section header\n",
    "- `body_span`: The Span of the Section which begins after the section header\n",
    "- `section_span`: The entire of the Section (title + body)\n",
    "- `section_parent`: A parent section of the specific section, if any\n"
   ]
  },
  {
   "cell_type": "code",
   "execution_count": 13,
   "metadata": {},
   "outputs": [
    {
     "name": "stdout",
     "output_type": "stream",
     "text": [
      "Section(category=past_medical_history, title=Past Medical History:, body=Afib and community-acquired pneumonia.\n",
      ", parent=None, rule=SectionRule(literal=\"PAST MEDICAL HISTORY:\", category=\"past_medical_history\", pattern=None, on_match=None, parents=[], parent_required=False))\n",
      "\n",
      "Section(category=observation_and_plan, title=Assessment/Plan:, body=Acute stroke\n",
      ", parent=None, rule=SectionRule(literal=\"Assessment/Plan:\", category=\"observation_and_plan\", pattern=None, on_match=None, parents=[], parent_required=False))\n",
      "\n"
     ]
    }
   ],
   "source": [
    "for section in doc._.sections:\n",
    "    print(section)\n",
    "    print()"
   ]
  },
  {
   "cell_type": "code",
   "execution_count": 14,
   "metadata": {},
   "outputs": [
    {
     "data": {
      "text/plain": [
       "Acute stroke"
      ]
     },
     "execution_count": 14,
     "metadata": {},
     "output_type": "execute_result"
    }
   ],
   "source": [
    "section.body_span"
   ]
  },
  {
   "cell_type": "markdown",
   "metadata": {},
   "source": [
    "Each of the section attributes can be accessed as a list individually:"
   ]
  },
  {
   "cell_type": "code",
   "execution_count": 15,
   "metadata": {},
   "outputs": [
    {
     "data": {
      "text/plain": [
       "['past_medical_history', 'observation_and_plan']"
      ]
     },
     "execution_count": 15,
     "metadata": {},
     "output_type": "execute_result"
    }
   ],
   "source": [
    "doc._.section_categories"
   ]
  },
  {
   "cell_type": "code",
   "execution_count": 16,
   "metadata": {},
   "outputs": [
    {
     "data": {
      "text/plain": [
       "[Past Medical History:, Assessment/Plan:]"
      ]
     },
     "execution_count": 16,
     "metadata": {},
     "output_type": "execute_result"
    }
   ],
   "source": [
    "doc._.section_titles"
   ]
  },
  {
   "cell_type": "code",
   "execution_count": 17,
   "metadata": {},
   "outputs": [
    {
     "data": {
      "text/plain": [
       "[Afib and community-acquired pneumonia., Acute stroke]"
      ]
     },
     "execution_count": 17,
     "metadata": {},
     "output_type": "execute_result"
    }
   ],
   "source": [
    "doc._.section_bodies"
   ]
  },
  {
   "cell_type": "code",
   "execution_count": 18,
   "metadata": {},
   "outputs": [
    {
     "data": {
      "text/plain": [
       "[Past Medical History: Afib and community-acquired pneumonia.,\n",
       " Assessment/Plan: Acute stroke]"
      ]
     },
     "execution_count": 18,
     "metadata": {},
     "output_type": "execute_result"
    }
   ],
   "source": [
    "doc._.section_spans"
   ]
  },
  {
   "cell_type": "code",
   "execution_count": 19,
   "metadata": {},
   "outputs": [
    {
     "data": {
      "text/plain": [
       "[None, None]"
      ]
     },
     "execution_count": 19,
     "metadata": {},
     "output_type": "execute_result"
    }
   ],
   "source": [
    "doc._.section_parents"
   ]
  },
  {
   "cell_type": "markdown",
   "metadata": {},
   "source": [
    "# II. Span\n",
    "The `Span` class contains extensions related to the TargetRule used to extract an entity, ConText assertion attributes, and section attributes."
   ]
  },
  {
   "cell_type": "code",
   "execution_count": 20,
   "metadata": {},
   "outputs": [
    {
     "data": {
      "text/plain": [
       "dict_keys(['window', 'context_attributes', 'any_context_attributes', 'section', 'section_span', 'section_category', 'section_title', 'section_body', 'section_parent', 'section_rule', 'contains', 'target_rule', 'literal', 'is_negated', 'is_historical', 'is_hypothetical', 'is_family', 'is_uncertain'])"
      ]
     },
     "execution_count": 20,
     "metadata": {},
     "output_type": "execute_result"
    }
   ],
   "source": [
    "medspacy.get_span_extensions().keys()"
   ]
  },
  {
   "cell_type": "markdown",
   "metadata": {},
   "source": [
    "We'll use this ent as an example:"
   ]
  },
  {
   "cell_type": "code",
   "execution_count": 21,
   "metadata": {},
   "outputs": [
    {
     "data": {
      "text/plain": [
       "community-acquired pneumonia"
      ]
     },
     "execution_count": 21,
     "metadata": {},
     "output_type": "execute_result"
    }
   ],
   "source": [
    "span = doc.ents[1]\n",
    "span"
   ]
  },
  {
   "cell_type": "markdown",
   "metadata": {},
   "source": [
    "## `span._.target_rule`\n",
    "The `TargetMatcher` class uses instances of `TargetRule` to define entities to extract from the doc. When an entity is created, the rule which matched the Span is referenced in `span._.target_rule`. This allows you to see which rule generated an entity and to access the metadata from the original rule."
   ]
  },
  {
   "cell_type": "code",
   "execution_count": 22,
   "metadata": {},
   "outputs": [
    {
     "data": {
      "text/plain": [
       "TargetRule(literal=\"pneumonia\", category=\"CONDITION\", pattern=community[- ]acquired pneumonia, attributes=None, on_match=None)"
      ]
     },
     "execution_count": 22,
     "metadata": {},
     "output_type": "execute_result"
    }
   ],
   "source": [
    "span._.target_rule"
   ]
  },
  {
   "cell_type": "code",
   "execution_count": 23,
   "metadata": {},
   "outputs": [
    {
     "data": {
      "text/plain": [
       "'pneumonia'"
      ]
     },
     "execution_count": 23,
     "metadata": {},
     "output_type": "execute_result"
    }
   ],
   "source": [
    "span._.target_rule.literal"
   ]
  },
  {
   "cell_type": "markdown",
   "metadata": {},
   "source": [
    "## ConText Attributes\n",
    "An important part of clinical is identifying whether concepts were actually experienced by the patient or if they were negated, historical, experienced by someone else, or uncertain. These attributes are asserted using the `ConTextComponent` in medspaCy and added to attributes for each entity but can also be set manually or using the `Sectionizer`.\n",
    "\n",
    "#### `span._.context_attributes`\n",
    "Get a dict mapping each ConText assertion attribute to its value (default is always `False`)."
   ]
  },
  {
   "cell_type": "code",
   "execution_count": 24,
   "metadata": {},
   "outputs": [
    {
     "data": {
      "text/plain": [
       "{'is_negated': False,\n",
       " 'is_historical': True,\n",
       " 'is_hypothetical': False,\n",
       " 'is_family': False,\n",
       " 'is_uncertain': False}"
      ]
     },
     "execution_count": 24,
     "metadata": {},
     "output_type": "execute_result"
    }
   ],
   "source": [
    "span._.context_attributes"
   ]
  },
  {
   "cell_type": "markdown",
   "metadata": {},
   "source": [
    "#### `span._.any_context_attributes`\n",
    "Often, you want to know if any of these values are True, as this is an indicator to exclude or ignore an entity. `any_context_attributes` is `True` if any of these values have been asserted to be True."
   ]
  },
  {
   "cell_type": "code",
   "execution_count": 25,
   "metadata": {},
   "outputs": [
    {
     "data": {
      "text/plain": [
       "True"
      ]
     },
     "execution_count": 25,
     "metadata": {},
     "output_type": "execute_result"
    }
   ],
   "source": [
    "span._.any_context_attributes"
   ]
  },
  {
   "cell_type": "markdown",
   "metadata": {},
   "source": [
    "You can also access each of these attributes individually:"
   ]
  },
  {
   "cell_type": "code",
   "execution_count": 26,
   "metadata": {},
   "outputs": [
    {
     "data": {
      "text/plain": [
       "False"
      ]
     },
     "execution_count": 26,
     "metadata": {},
     "output_type": "execute_result"
    }
   ],
   "source": [
    "span._.is_negated"
   ]
  },
  {
   "cell_type": "code",
   "execution_count": 27,
   "metadata": {},
   "outputs": [
    {
     "data": {
      "text/plain": [
       "True"
      ]
     },
     "execution_count": 27,
     "metadata": {},
     "output_type": "execute_result"
    }
   ],
   "source": [
    "span._.is_historical"
   ]
  },
  {
   "cell_type": "code",
   "execution_count": 28,
   "metadata": {},
   "outputs": [
    {
     "data": {
      "text/plain": [
       "False"
      ]
     },
     "execution_count": 28,
     "metadata": {},
     "output_type": "execute_result"
    }
   ],
   "source": [
    "span._.is_hypothetical"
   ]
  },
  {
   "cell_type": "code",
   "execution_count": 29,
   "metadata": {},
   "outputs": [
    {
     "data": {
      "text/plain": [
       "False"
      ]
     },
     "execution_count": 29,
     "metadata": {},
     "output_type": "execute_result"
    }
   ],
   "source": [
    "span._.is_family"
   ]
  },
  {
   "cell_type": "code",
   "execution_count": 30,
   "metadata": {},
   "outputs": [
    {
     "data": {
      "text/plain": [
       "False"
      ]
     },
     "execution_count": 30,
     "metadata": {},
     "output_type": "execute_result"
    }
   ],
   "source": [
    "span._.is_uncertain"
   ]
  },
  {
   "cell_type": "markdown",
   "metadata": {},
   "source": [
    "## Sections\n",
    "Similar to the section attributes in `Doc`, `Span` includes attributes indicating which section of a note it occurs in."
   ]
  },
  {
   "cell_type": "code",
   "execution_count": 31,
   "metadata": {},
   "outputs": [
    {
     "data": {
      "text/plain": [
       "Section(category=past_medical_history, title=Past Medical History:, body=Afib and community-acquired pneumonia.\n",
       ", parent=None, rule=SectionRule(literal=\"PAST MEDICAL HISTORY:\", category=\"past_medical_history\", pattern=None, on_match=None, parents=[], parent_required=False))"
      ]
     },
     "execution_count": 31,
     "metadata": {},
     "output_type": "execute_result"
    }
   ],
   "source": [
    "span._.section"
   ]
  },
  {
   "cell_type": "code",
   "execution_count": 32,
   "metadata": {},
   "outputs": [
    {
     "data": {
      "text/plain": [
       "'past_medical_history'"
      ]
     },
     "execution_count": 32,
     "metadata": {},
     "output_type": "execute_result"
    }
   ],
   "source": [
    "span._.section_category"
   ]
  },
  {
   "cell_type": "code",
   "execution_count": 33,
   "metadata": {},
   "outputs": [
    {
     "data": {
      "text/plain": [
       "Past Medical History:"
      ]
     },
     "execution_count": 33,
     "metadata": {},
     "output_type": "execute_result"
    }
   ],
   "source": [
    "span._.section_title"
   ]
  },
  {
   "cell_type": "code",
   "execution_count": 34,
   "metadata": {},
   "outputs": [
    {
     "data": {
      "text/plain": [
       "Afib and community-acquired pneumonia."
      ]
     },
     "execution_count": 34,
     "metadata": {},
     "output_type": "execute_result"
    }
   ],
   "source": [
    "span._.section_body"
   ]
  },
  {
   "cell_type": "code",
   "execution_count": 35,
   "metadata": {},
   "outputs": [
    {
     "data": {
      "text/plain": [
       "Past Medical History: Afib and community-acquired pneumonia."
      ]
     },
     "execution_count": 35,
     "metadata": {},
     "output_type": "execute_result"
    }
   ],
   "source": [
    "span._.section_span"
   ]
  },
  {
   "cell_type": "code",
   "execution_count": 36,
   "metadata": {},
   "outputs": [],
   "source": [
    "span._.section_parent"
   ]
  },
  {
   "cell_type": "code",
   "execution_count": 37,
   "metadata": {},
   "outputs": [
    {
     "data": {
      "text/plain": [
       "SectionRule(literal=\"PAST MEDICAL HISTORY:\", category=\"past_medical_history\", pattern=None, on_match=None, parents=[], parent_required=False)"
      ]
     },
     "execution_count": 37,
     "metadata": {},
     "output_type": "execute_result"
    }
   ],
   "source": [
    "span._.section_rule"
   ]
  },
  {
   "cell_type": "markdown",
   "metadata": {},
   "source": [
    "## Window\n",
    "#### `span._.window(n=1, left=True, right=True)`\n",
    "You often want to look at the context surrounding a concept. One way to do this is looking at the sentence (`span.sent`), but sentence splitting is expensive. An alternative is looking at a fixed window surrounding a concept. You can do this using the custom method `span._.window()`, which returns the superspan surrounding a given span.\n",
    "\n",
    "By default this method will return a window of one token on each side of the span, but this can be modified to be larger and to exclude either the left or right side."
   ]
  },
  {
   "cell_type": "code",
   "execution_count": 38,
   "metadata": {},
   "outputs": [
    {
     "data": {
      "text/plain": [
       "community-acquired pneumonia"
      ]
     },
     "execution_count": 38,
     "metadata": {},
     "output_type": "execute_result"
    }
   ],
   "source": [
    "span"
   ]
  },
  {
   "cell_type": "code",
   "execution_count": 39,
   "metadata": {},
   "outputs": [
    {
     "data": {
      "text/plain": [
       "and community-acquired pneumonia."
      ]
     },
     "execution_count": 39,
     "metadata": {},
     "output_type": "execute_result"
    }
   ],
   "source": [
    "span._.window()"
   ]
  },
  {
   "cell_type": "code",
   "execution_count": 40,
   "metadata": {},
   "outputs": [
    {
     "data": {
      "text/plain": [
       "Afib and community-acquired pneumonia."
      ]
     },
     "execution_count": 40,
     "metadata": {},
     "output_type": "execute_result"
    }
   ],
   "source": [
    "span._.window(2)"
   ]
  },
  {
   "cell_type": "code",
   "execution_count": 41,
   "metadata": {},
   "outputs": [
    {
     "data": {
      "text/plain": [
       "community-acquired pneumonia."
      ]
     },
     "execution_count": 41,
     "metadata": {},
     "output_type": "execute_result"
    }
   ],
   "source": [
    "span._.window(2, left=False)"
   ]
  },
  {
   "cell_type": "code",
   "execution_count": 42,
   "metadata": {},
   "outputs": [
    {
     "data": {
      "text/plain": [
       "Afib and community-acquired pneumonia"
      ]
     },
     "execution_count": 42,
     "metadata": {},
     "output_type": "execute_result"
    }
   ],
   "source": [
    "span._.window(2, right=False)"
   ]
  },
  {
   "cell_type": "code",
   "execution_count": null,
   "metadata": {},
   "outputs": [],
   "source": []
  },
  {
   "cell_type": "markdown",
   "metadata": {},
   "source": [
    "## Contains\n",
    "#### `span._.contains(target, regex=True, case_insensitive=True)`\n",
    "Returns True if a target phrase is contained in the text underlying a span (ie., `span.text`). `target` can be either a string or list of strings. `regex` and `case_insensitive` define whether to search using regular expressions and whether to ignore case."
   ]
  },
  {
   "cell_type": "code",
   "execution_count": 43,
   "metadata": {},
   "outputs": [
    {
     "data": {
      "text/plain": [
       "community-acquired pneumonia"
      ]
     },
     "execution_count": 43,
     "metadata": {},
     "output_type": "execute_result"
    }
   ],
   "source": [
    "span"
   ]
  },
  {
   "cell_type": "code",
   "execution_count": 44,
   "metadata": {},
   "outputs": [
    {
     "data": {
      "text/plain": [
       "True"
      ]
     },
     "execution_count": 44,
     "metadata": {},
     "output_type": "execute_result"
    }
   ],
   "source": [
    "span._.contains(r\"community[- ]acquired\")"
   ]
  },
  {
   "cell_type": "code",
   "execution_count": 45,
   "metadata": {},
   "outputs": [
    {
     "data": {
      "text/plain": [
       "False"
      ]
     },
     "execution_count": 45,
     "metadata": {},
     "output_type": "execute_result"
    }
   ],
   "source": [
    "span._.contains(\"community acquired\", regex=False)"
   ]
  },
  {
   "cell_type": "code",
   "execution_count": 46,
   "metadata": {},
   "outputs": [
    {
     "data": {
      "text/plain": [
       "True"
      ]
     },
     "execution_count": 46,
     "metadata": {},
     "output_type": "execute_result"
    }
   ],
   "source": [
    "span._.contains([\"pneumonia\", \"pna\"])"
   ]
  },
  {
   "cell_type": "markdown",
   "metadata": {},
   "source": [
    "# III. Token\n",
    "Token extensions correspond to section and window attributes of `Span`."
   ]
  },
  {
   "cell_type": "code",
   "execution_count": 47,
   "metadata": {},
   "outputs": [
    {
     "data": {
      "text/plain": [
       "dict_keys(['window', 'section', 'section_span', 'section_category', 'section_title', 'section_body', 'section_parent', 'section_rule'])"
      ]
     },
     "execution_count": 47,
     "metadata": {},
     "output_type": "execute_result"
    }
   ],
   "source": [
    "medspacy.get_token_extensions().keys()"
   ]
  },
  {
   "cell_type": "code",
   "execution_count": 48,
   "metadata": {},
   "outputs": [
    {
     "data": {
      "text/plain": [
       "acquired"
      ]
     },
     "execution_count": 48,
     "metadata": {},
     "output_type": "execute_result"
    }
   ],
   "source": [
    "token = doc[8]\n",
    "token"
   ]
  },
  {
   "cell_type": "markdown",
   "metadata": {},
   "source": [
    "## Section"
   ]
  },
  {
   "cell_type": "code",
   "execution_count": 49,
   "metadata": {},
   "outputs": [
    {
     "data": {
      "text/plain": [
       "Section(category=past_medical_history, title=Past Medical History:, body=Afib and community-acquired pneumonia.\n",
       ", parent=None, rule=SectionRule(literal=\"PAST MEDICAL HISTORY:\", category=\"past_medical_history\", pattern=None, on_match=None, parents=[], parent_required=False))"
      ]
     },
     "execution_count": 49,
     "metadata": {},
     "output_type": "execute_result"
    }
   ],
   "source": [
    "token._.section"
   ]
  },
  {
   "cell_type": "code",
   "execution_count": 50,
   "metadata": {},
   "outputs": [
    {
     "data": {
      "text/plain": [
       "'past_medical_history'"
      ]
     },
     "execution_count": 50,
     "metadata": {},
     "output_type": "execute_result"
    }
   ],
   "source": [
    "token._.section_category"
   ]
  },
  {
   "cell_type": "code",
   "execution_count": 51,
   "metadata": {},
   "outputs": [
    {
     "data": {
      "text/plain": [
       "Past Medical History:"
      ]
     },
     "execution_count": 51,
     "metadata": {},
     "output_type": "execute_result"
    }
   ],
   "source": [
    "token._.section_title"
   ]
  },
  {
   "cell_type": "code",
   "execution_count": 52,
   "metadata": {},
   "outputs": [
    {
     "data": {
      "text/plain": [
       "Afib and community-acquired pneumonia."
      ]
     },
     "execution_count": 52,
     "metadata": {},
     "output_type": "execute_result"
    }
   ],
   "source": [
    "token._.section_body"
   ]
  },
  {
   "cell_type": "code",
   "execution_count": 53,
   "metadata": {},
   "outputs": [
    {
     "data": {
      "text/plain": [
       "Past Medical History: Afib and community-acquired pneumonia."
      ]
     },
     "execution_count": 53,
     "metadata": {},
     "output_type": "execute_result"
    }
   ],
   "source": [
    "token._.section_span"
   ]
  },
  {
   "cell_type": "code",
   "execution_count": 54,
   "metadata": {},
   "outputs": [],
   "source": [
    "token._.section_parent"
   ]
  },
  {
   "cell_type": "code",
   "execution_count": 55,
   "metadata": {},
   "outputs": [
    {
     "data": {
      "text/plain": [
       "SectionRule(literal=\"PAST MEDICAL HISTORY:\", category=\"past_medical_history\", pattern=None, on_match=None, parents=[], parent_required=False)"
      ]
     },
     "execution_count": 55,
     "metadata": {},
     "output_type": "execute_result"
    }
   ],
   "source": [
    "token._.section_rule"
   ]
  },
  {
   "cell_type": "markdown",
   "metadata": {},
   "source": [
    "## Window"
   ]
  },
  {
   "cell_type": "code",
   "execution_count": 56,
   "metadata": {},
   "outputs": [
    {
     "data": {
      "text/plain": [
       "acquired"
      ]
     },
     "execution_count": 56,
     "metadata": {},
     "output_type": "execute_result"
    }
   ],
   "source": [
    "token"
   ]
  },
  {
   "cell_type": "code",
   "execution_count": 57,
   "metadata": {},
   "outputs": [
    {
     "data": {
      "text/plain": [
       "-acquired pneumonia"
      ]
     },
     "execution_count": 57,
     "metadata": {},
     "output_type": "execute_result"
    }
   ],
   "source": [
    "token._.window()"
   ]
  },
  {
   "cell_type": "code",
   "execution_count": 58,
   "metadata": {},
   "outputs": [
    {
     "data": {
      "text/plain": [
       "community-acquired pneumonia."
      ]
     },
     "execution_count": 58,
     "metadata": {},
     "output_type": "execute_result"
    }
   ],
   "source": [
    "token._.window(2)"
   ]
  },
  {
   "cell_type": "code",
   "execution_count": 59,
   "metadata": {},
   "outputs": [
    {
     "data": {
      "text/plain": [
       "acquired pneumonia."
      ]
     },
     "execution_count": 59,
     "metadata": {},
     "output_type": "execute_result"
    }
   ],
   "source": [
    "token._.window(2, left=False)"
   ]
  },
  {
   "cell_type": "code",
   "execution_count": 60,
   "metadata": {},
   "outputs": [
    {
     "data": {
      "text/plain": [
       "community-acquired"
      ]
     },
     "execution_count": 60,
     "metadata": {},
     "output_type": "execute_result"
    }
   ],
   "source": [
    "token._.window(2, right=False)"
   ]
  }
 ],
 "metadata": {
  "kernelspec": {
   "display_name": "Python 3 (ipykernel)",
   "language": "python",
   "name": "python3"
  },
  "language_info": {
   "codemirror_mode": {
    "name": "ipython",
    "version": 3
   },
   "file_extension": ".py",
   "mimetype": "text/x-python",
   "name": "python",
   "nbconvert_exporter": "python",
   "pygments_lexer": "ipython3",
   "version": "3.8.11"
  }
 },
 "nbformat": 4,
 "nbformat_minor": 4
}
