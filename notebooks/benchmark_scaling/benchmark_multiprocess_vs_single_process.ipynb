{
 "cells": [
  {
   "cell_type": "code",
   "execution_count": null,
   "id": "initial_id",
   "metadata": {
    "collapsed": true
   },
   "outputs": [],
   "source": [
    "# Cell 1: Setup and Imports\n",
    "import pandas as pd\n",
    "import multiprocessing as mp\n",
    "import medspacy\n",
    "from medspacy.ner import TargetRule\n",
    "import time\n",
    "import os\n",
    "# Cell 6: Benchmarking and Comparison\n",
    "import matplotlib.pyplot as plt\n"
   ]
  },
  {
   "metadata": {},
   "cell_type": "code",
   "outputs": [],
   "execution_count": null,
   "source": [
    "\n",
    "# Create a sample DataFrame\n",
    "data = [\n",
    "    'Patient shows symptoms of flu and other complications.',\n",
    "    'Diagnosis indicates pneumonia.',\n",
    "    'Follow-up required for diabetes management.',\n",
    "    'Patient is recovering well, but needs to keep taking beta blockers for hypertension.'\n",
    "] * 10000\n",
    "df = pd.DataFrame({'text': data})\n",
    "\n",
    "# Cell 2: Define Target Rules and NLP Pipeline\n",
    "target_rules = [\n",
    "    TargetRule(literal=\"flu\", category=\"PROBLEM\"),\n",
    "    TargetRule(\"pneumonia\", \"PROBLEM\"),\n",
    "    TargetRule(\"hemicolectomy\", \"TREATMENT\"),\n",
    "    TargetRule(\"beta blockers\", \"TREATMENT\"),\n",
    "    TargetRule(\"hypertension\", \"PROBLEM\"),\n",
    "    TargetRule(\"diabetes\", \"PROBLEM\"),\n",
    "]\n",
    "\n",
    "\n",
    "def create_nlp():\n",
    "    nlp = medspacy.load()\n",
    "    target_matcher = nlp.get_pipe(\"medspacy_target_matcher\")\n",
    "    target_matcher.result_type = 'group'\n",
    "    target_matcher.add(target_rules)\n",
    "    return nlp\n",
    "\n",
    "\n",
    "# Cell 3: Process Text Function\n",
    "def process_text(text):\n",
    "    print(f\"Process ID: {os.getpid()} | Processing text: {text}\")\n",
    "    nlp = create_nlp()\n",
    "    doc = nlp(text)\n",
    "    return doc\n",
    "\n",
    "\n",
    "# Cell 4: Single Process Execution\n",
    "def process_dataframe_single_process(df):\n",
    "    results = [process_text(text) for text in df['text']]\n",
    "    return results\n",
    "\n",
    "\n",
    "# Cell 5: Multiprocessing Execution\n",
    "def process_dataframe_multiprocess(df, num_processes):\n",
    "    with mp.Pool(num_processes) as pool:\n",
    "        results = pool.map(process_text, df['text'])\n",
    "    return results\n"
   ],
   "id": "37803407fd687b3f"
  },
  {
   "metadata": {},
   "cell_type": "code",
   "outputs": [],
   "execution_count": null,
   "source": [
    "\n",
    "\n",
    "start_time = time.time()\n",
    "single_process_results = process_dataframe_single_process(df)\n",
    "single_process_duration = time.time() - start_time\n",
    "print(f\"Single process time: {single_process_duration:.2f} seconds\")\n"
   ],
   "id": "efad2bb2e473c4bd"
  },
  {
   "metadata": {},
   "cell_type": "code",
   "outputs": [],
   "execution_count": null,
   "source": [
    "\n",
    "\n",
    "num_processes_list = [2, 4, 8]\n",
    "multiprocess_durations = []\n",
    "\n",
    "for num_processes in num_processes_list:\n",
    "    start_time = time.time()\n",
    "    multiprocess_results = process_dataframe_multiprocess(df, num_processes)\n",
    "    duration = time.time() - start_time\n",
    "    multiprocess_durations.append((num_processes, duration))\n",
    "    print(f\"Multiprocess ({num_processes} processes) time: {duration:.2f} seconds\")"
   ],
   "id": "3d5bcba55492a3ae"
  },
  {
   "metadata": {},
   "cell_type": "code",
   "outputs": [],
   "execution_count": null,
   "source": [
    "\n",
    "# Prepare data for visualization\n",
    "process_counts = [1] + num_processes_list\n",
    "durations = [single_process_duration] + [duration for num_processes, duration in multiprocess_durations]\n",
    "\n",
    "plt.figure(figsize=(10, 6))\n",
    "plt.plot(process_counts, durations, marker='o')\n",
    "plt.xlabel('Number of Processes')\n",
    "plt.ylabel('Time (seconds)')\n",
    "plt.title('Single Process vs Multiprocessing Execution Time')\n",
    "plt.grid(True)\n",
    "plt.show()"
   ],
   "id": "c709645eea903670"
  }
 ],
 "metadata": {
  "kernelspec": {
   "display_name": "Python 3",
   "language": "python",
   "name": "python3"
  },
  "language_info": {
   "codemirror_mode": {
    "name": "ipython",
    "version": 2
   },
   "file_extension": ".py",
   "mimetype": "text/x-python",
   "name": "python",
   "nbconvert_exporter": "python",
   "pygments_lexer": "ipython2",
   "version": "2.7.6"
  }
 },
 "nbformat": 4,
 "nbformat_minor": 5
}
