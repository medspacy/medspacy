{
 "cells": [
  {
   "metadata": {},
   "cell_type": "markdown",
   "source": "[![Open In Colab](https://colab.research.google.com/assets/colab-badge.svg)](https://colab.research.google.com/github/medspacy/medspacy/blob/simple_scale/notebooks/benchmark_scaling/benchmark_multithread.ipynb)\n",
   "id": "9984ce6373811de"
  },
  {
   "metadata": {},
   "cell_type": "code",
   "outputs": [],
   "execution_count": null,
   "source": "!pip install medspacy",
   "id": "19079a48574c0f72"
  },
  {
   "cell_type": "code",
   "execution_count": null,
   "id": "initial_id",
   "metadata": {
    "collapsed": true
   },
   "outputs": [],
   "source": [
    "\n",
    "import pandas as pd\n",
    "import threading\n",
    "from queue import Queue\n",
    "import medspacy\n",
    "from medspacy.ner import TargetRule\n",
    "import time\n"
   ]
  },
  {
   "metadata": {},
   "cell_type": "code",
   "outputs": [],
   "execution_count": null,
   "source": [
    "\n",
    "# Create a larger sample DataFrame for benchmarking\n",
    "data = ['Patient shows symptoms of flu and other complications.',\n",
    "        'Diagnosis indicates pneumonia.',\n",
    "        'Follow-up required for diabetes management.',\n",
    "        'Patient is recovering well, but needs to keep taking beta blockers for hypertension.'] * 1000  # Multiply to increase size\n",
    "df = pd.DataFrame({'text': data})\n",
    "\n",
    "\n",
    "# Initialize MedSpaCy pipeline and add target rules\n",
    "def setup_nlp():\n",
    "    nlp = medspacy.load()\n",
    "    target_matcher = nlp.get_pipe(\"medspacy_target_matcher\")\n",
    "    target_rules = [\n",
    "        TargetRule(literal=\"flu\", category=\"PROBLEM\"),\n",
    "        TargetRule(\"pneumonia\", \"PROBLEM\"),\n",
    "        TargetRule(\"hemicolectomy\", \"TREATMENT\"),\n",
    "        TargetRule(\"beta blockers\", \"TREATMENT\"),\n",
    "        TargetRule(\"hypertension\", \"PROBLEM\"),\n",
    "        TargetRule(\"diabetes\", \"PROBLEM\"),\n",
    "    ]\n",
    "    target_matcher.add(target_rules)\n",
    "    return nlp\n",
    "\n",
    "\n",
    "# Shared instance of NLP for the single instance benchmark\n",
    "single_nlp = setup_nlp()\n",
    "\n",
    "\n",
    "# Function to process using a single nlp instance\n",
    "def process_dataframe_single(df):\n",
    "    results = []\n",
    "    for text in df['text']:\n",
    "        doc = single_nlp(text)\n",
    "        results.append(doc)\n",
    "    return results\n",
    "\n",
    "\n",
    "# Function to process text using MedSpaCy in multithread\n",
    "def process_text_multithread(text, output_queue, nlp_instance):\n",
    "    doc = nlp_instance(text)\n",
    "    output_queue.put(doc)\n",
    "\n",
    "\n",
    "# Function to process DataFrame with multithreading\n",
    "def process_dataframe_multithread(df, num_threads):\n",
    "    output_queue = Queue()\n",
    "    threads = []\n",
    "    nlp_pool = [setup_nlp() for _ in range(num_threads)]\n",
    "\n",
    "    def worker(texts, nlp):\n",
    "        for text in texts:\n",
    "            process_text_multithread(text, output_queue, nlp)\n",
    "\n",
    "    # Split the texts among the threads\n",
    "    for i in range(num_threads):\n",
    "        thread_texts = df['text'][i::num_threads]\n",
    "        thread = threading.Thread(target=worker, args=(thread_texts, nlp_pool[i]))\n",
    "        threads.append(thread)\n",
    "        thread.start()\n",
    "\n",
    "    for thread in threads:\n",
    "        thread.join()\n",
    "\n",
    "    results = []\n",
    "    while not output_queue.empty():\n",
    "        results.append(output_queue.get())\n",
    "\n",
    "    return results"
   ],
   "id": "fa421c68cb68fa67"
  },
  {
   "metadata": {},
   "cell_type": "code",
   "outputs": [],
   "execution_count": null,
   "source": [
    "start_time = time.time()\n",
    "single_results = process_dataframe_single(dataframe)\n",
    "single_duration = time.time() - start_time\n",
    "print(f\"Single instance processing time: {single_duration:.2f} seconds\")\n",
    "\n"
   ],
   "id": "c5f398e5b959acc1"
  },
  {
   "metadata": {},
   "cell_type": "code",
   "outputs": [],
   "execution_count": null,
   "source": [
    "# Benchmark multithreaded processing\n",
    "num_threads = 3  # You can change the number of threads to test as needed\n",
    "start_time = time.time()\n",
    "multi_results = process_dataframe_multithread(dataframe, num_threads)\n",
    "multi_duration = time.time() - start_time\n",
    "print(f\"Multithreaded processing time with {num_threads} threads: {multi_duration:.2f} seconds\")"
   ],
   "id": "1c6a313f83608f69"
  }
 ],
 "metadata": {
  "kernelspec": {
   "display_name": "Python 3",
   "language": "python",
   "name": "python3"
  },
  "language_info": {
   "codemirror_mode": {
    "name": "ipython",
    "version": 2
   },
   "file_extension": ".py",
   "mimetype": "text/x-python",
   "name": "python",
   "nbconvert_exporter": "python",
   "pygments_lexer": "ipython2",
   "version": "2.7.6"
  }
 },
 "nbformat": 4,
 "nbformat_minor": 5
}
