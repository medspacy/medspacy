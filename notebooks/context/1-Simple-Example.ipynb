{
 "cells": [
  {
   "cell_type": "code",
   "execution_count": 1,
   "metadata": {},
   "outputs": [],
   "source": [
    "import sys\n",
    "sys.path.insert(0, \"../..\")"
   ]
  },
  {
   "cell_type": "code",
   "execution_count": 2,
   "metadata": {},
   "outputs": [],
   "source": [
    "import spacy\n",
    "import medspacy\n",
    "\n",
    "from medspacy.context import ConTextComponent, ConTextRule"
   ]
  },
  {
   "cell_type": "markdown",
   "metadata": {},
   "source": [
    "# Clinical Text and Contextual Analysis\n",
    "\n",
    "Clinical text often contains mentions of concepts which the patient did not actually experience. For example:\n",
    "\n",
    "- \"There is *no evidence of* **pneumonia**\"\n",
    "- \"*Mother* with **breast cancer**\"\n",
    "- \"Patient presents for *r/o* **COVID-19**\"\n",
    "\n",
    "In all of these instances, we need to use the contextual clues around the entity to assert attributes like negation, experiencer, and uncertainty.\n",
    "\n",
    "One method for this is the [ConText algorithm](https://www.sciencedirect.com/science/article/pii/S1532046409000744). ConText links target entities like problems with semantic modifiers like those shown above. The medSpaCy implementation of ConText is found in `medspacy.context`.\n",
    "\n",
    "This notebook will show a quick example of how to use ConText in medspaCy. Subsequent notebooks will provide additional details and explain more complex functionality.."
   ]
  },
  {
   "cell_type": "markdown",
   "metadata": {},
   "source": [
    "# Using ConText\n",
    "You can instantiate ConText in two ways:\n",
    "- With the `medspacy.load()` function, which loads a full pipeline\n",
    "- Directly instantiating `ConTextComponent` and adding it to an existing pipeline"
   ]
  },
  {
   "cell_type": "markdown",
   "metadata": {},
   "source": [
    "### Option 1"
   ]
  },
  {
   "cell_type": "code",
   "execution_count": 3,
   "metadata": {},
   "outputs": [],
   "source": [
    "nlp = medspacy.load(enable=[\"sentencizer\", \"context\"])"
   ]
  },
  {
   "cell_type": "code",
   "execution_count": 4,
   "metadata": {},
   "outputs": [
    {
     "data": {
      "text/plain": [
       "['medspacy_context']"
      ]
     },
     "execution_count": 4,
     "metadata": {},
     "output_type": "execute_result"
    }
   ],
   "source": [
    "nlp.pipe_names"
   ]
  },
  {
   "cell_type": "code",
   "execution_count": 5,
   "metadata": {},
   "outputs": [],
   "source": [
    "context = nlp.get_pipe(\"medspacy_context\")"
   ]
  },
  {
   "cell_type": "code",
   "execution_count": 6,
   "metadata": {},
   "outputs": [
    {
     "data": {
      "text/plain": [
       "<medspacy.context.context_component.ConTextComponent at 0x7fa0f73a0c70>"
      ]
     },
     "execution_count": 6,
     "metadata": {},
     "output_type": "execute_result"
    }
   ],
   "source": [
    "context"
   ]
  },
  {
   "cell_type": "markdown",
   "metadata": {},
   "source": [
    "### Option 2"
   ]
  },
  {
   "cell_type": "code",
   "execution_count": 7,
   "metadata": {},
   "outputs": [],
   "source": [
    "nlp = spacy.load(\"en_core_web_sm\", disable=[\"ner\"])"
   ]
  },
  {
   "cell_type": "code",
   "execution_count": 8,
   "metadata": {},
   "outputs": [],
   "source": [
    "context = ConTextComponent(nlp)"
   ]
  },
  {
   "cell_type": "code",
   "execution_count": 9,
   "metadata": {},
   "outputs": [
    {
     "data": {
      "text/plain": [
       "<medspacy.context.context_component.ConTextComponent at 0x7fa0fa9db100>"
      ]
     },
     "execution_count": 9,
     "metadata": {},
     "output_type": "execute_result"
    }
   ],
   "source": [
    "nlp.add_pipe(\"medspacy_context\")"
   ]
  },
  {
   "cell_type": "code",
   "execution_count": 10,
   "metadata": {},
   "outputs": [
    {
     "data": {
      "text/plain": [
       "['tok2vec',\n",
       " 'tagger',\n",
       " 'parser',\n",
       " 'attribute_ruler',\n",
       " 'lemmatizer',\n",
       " 'medspacy_context']"
      ]
     },
     "execution_count": 10,
     "metadata": {},
     "output_type": "execute_result"
    }
   ],
   "source": [
    "nlp.pipe_names"
   ]
  },
  {
   "cell_type": "markdown",
   "metadata": {},
   "source": [
    "## Processing a doc with ConText\n",
    "Let's start with a blank pipeline and show how this processing sequence works."
   ]
  },
  {
   "cell_type": "code",
   "execution_count": 11,
   "metadata": {},
   "outputs": [],
   "source": [
    "nlp = spacy.load(\"en_core_web_sm\", disable=[\"ner\"])"
   ]
  },
  {
   "cell_type": "code",
   "execution_count": 12,
   "metadata": {},
   "outputs": [
    {
     "data": {
      "text/plain": [
       "['tok2vec', 'tagger', 'parser', 'attribute_ruler', 'lemmatizer']"
      ]
     },
     "execution_count": 12,
     "metadata": {},
     "output_type": "execute_result"
    }
   ],
   "source": [
    "nlp.pipe_names"
   ]
  },
  {
   "cell_type": "code",
   "execution_count": 13,
   "metadata": {},
   "outputs": [],
   "source": [
    "text = \"There is no evidence of pneumonia.\""
   ]
  },
  {
   "cell_type": "code",
   "execution_count": 14,
   "metadata": {},
   "outputs": [],
   "source": [
    "doc = nlp(text)"
   ]
  },
  {
   "cell_type": "markdown",
   "metadata": {},
   "source": [
    "Target concepts should be stored as document spans in the attribute `Doc.ents`. This will usually be extracted using a trained NER model or rule-based component. For now, we'll manually define this span."
   ]
  },
  {
   "cell_type": "code",
   "execution_count": 15,
   "metadata": {},
   "outputs": [],
   "source": [
    "from spacy.tokens import Span"
   ]
  },
  {
   "cell_type": "code",
   "execution_count": 16,
   "metadata": {},
   "outputs": [],
   "source": [
    "doc.ents = (Span(doc, 5, 6, label=\"EVIDENCE_OF_PNEUMONIA\"),)"
   ]
  },
  {
   "cell_type": "code",
   "execution_count": 17,
   "metadata": {},
   "outputs": [
    {
     "data": {
      "text/plain": [
       "(pneumonia,)"
      ]
     },
     "execution_count": 17,
     "metadata": {},
     "output_type": "execute_result"
    }
   ],
   "source": [
    "doc.ents"
   ]
  },
  {
   "cell_type": "markdown",
   "metadata": {},
   "source": [
    "# Instantiating ConText\n",
    "We use context through the `ConTextComponent` object. ConTextComponent offers both out-of-the-box default functionality, as well as ways to customize and curate the algorithm. We'll start by using all of the default rules, which can be loaded by passing **\"default\"** to the `rules` argument:"
   ]
  },
  {
   "cell_type": "code",
   "execution_count": 18,
   "metadata": {},
   "outputs": [
    {
     "name": "stdout",
     "output_type": "stream",
     "text": [
      "Help on class ConTextComponent in module medspacy.context.context_component:\n",
      "\n",
      "class ConTextComponent(builtins.object)\n",
      " |  ConTextComponent(nlp, name='medspacy_context', add_attrs=True, phrase_matcher_attr='LOWER', rules='default', rule_list=None, allowed_types=None, excluded_types=None, use_context_window=False, max_scope=None, max_targets=None, terminations=None, prune=True, remove_overlapping_modifiers=False)\n",
      " |  \n",
      " |  The ConTextComponent for spaCy processing.\n",
      " |  \n",
      " |  Methods defined here:\n",
      " |  \n",
      " |  __call__(self, doc)\n",
      " |      Applies the ConText algorithm to a Doc.\n",
      " |      \n",
      " |      Args:\n",
      " |          doc: a spaCy Doc\n",
      " |      \n",
      " |      Returns:\n",
      " |          doc: a spaCy Doc\n",
      " |  \n",
      " |  __init__(self, nlp, name='medspacy_context', add_attrs=True, phrase_matcher_attr='LOWER', rules='default', rule_list=None, allowed_types=None, excluded_types=None, use_context_window=False, max_scope=None, max_targets=None, terminations=None, prune=True, remove_overlapping_modifiers=False)\n",
      " |      Create a new ConTextComponent.\n",
      " |      \n",
      " |      This component matches modifiers in a Doc,\n",
      " |      defines their scope, and identifies edges between targets and modifiers.\n",
      " |      Sets two spaCy extensions:\n",
      " |          - Span._.modifiers: a list of ConTextModifier objects which modify a target Span\n",
      " |          - Doc._.context_graph: a ConText graph object which contains the targets,\n",
      " |              modifiers, and edges between them.\n",
      " |      \n",
      " |      Args:\n",
      " |          nlp: a spaCy NLP model\n",
      " |          add_attrs: Whether or not to add the additional spaCy Span attributes (ie., Span._.x)\n",
      " |              defining assertion on the targets. By default, these are:\n",
      " |              - is_negated: True if a target is modified by 'NEGATED_EXISTENCE', default False\n",
      " |              - is_uncertain: True if a target is modified by 'POSSIBLE_EXISTENCE', default False\n",
      " |              - is_historical: True if a target is modified by 'HISTORICAL', default False\n",
      " |              - is_hypothetical: True if a target is modified by 'HYPOTHETICAL', default False\n",
      " |              - is_family: True if a target is modified by 'FAMILY', default False\n",
      " |              In the future, these should be made customizable.\n",
      " |          phrase_matcher_attr: The token attribute to be used by the underlying PhraseMatcher.\n",
      " |              If \"LOWER\", then the matching of modifiers with a \"literal\" string will be\n",
      " |              case-insensitive. If \"TEXT\" or \"ORTH\", it will be case-sensitive.\n",
      " |              Default \"LOWER'.\n",
      " |          prune: Whether or not to prune modifiers which are substrings of another modifier.\n",
      " |              For example, if \"no history of\" and \"history of\" are both ConTextItems, both will match\n",
      " |              the text \"no history of afib\", but only \"no history of\" should modify afib.\n",
      " |              If True, will drop shorter substrings completely.\n",
      " |              Default True.\n",
      " |          remove_overlapping_modifiers: Whether or not to remove any matched modifiers which overlap\n",
      " |              with target entities. If False, any overlapping modifiers will not modify the overlapping\n",
      " |              entity but will still modify any other targets in its scope.\n",
      " |              Default False.\n",
      " |          rules: Which rules to load on initialization. Default is 'default'.\n",
      " |              - 'default': Load the default set of rules provided with cyConText\n",
      " |              - 'other': Load a custom set of rules, please also set rule_list with a file path or list.\n",
      " |              - None: Load no rules.\n",
      " |          rule_list: The location of rules in json format or a list of ContextItems. Default\n",
      " |              is None.\n",
      " |          allowed_types (set or None): A set of target labels to allow a ConTextRule to modify.\n",
      " |              If None, will apply to any type not specifically excluded in excluded_types.\n",
      " |              Only one of allowed_types and excluded_types can be used. An error will be thrown\n",
      " |              if both or not None.\n",
      " |              If this attribute is also defined in the ConTextRule, it will keep that value.\n",
      " |              Otherwise it will inherit this value.\n",
      " |          excluded_types (set or None): A set of target labels which this modifier cannot modify.\n",
      " |              If None, will apply to all target types unless allowed_types is not None.\n",
      " |              If this attribute is also defined in the ConTextRule, it will keep that value.\n",
      " |              Otherwise it will inherit this value.\n",
      " |          max_targets (int or None): The maximum number of targets which a modifier can modify.\n",
      " |              If None, will modify all targets in its scope.\n",
      " |              If this attribute is also defined in the ConTextRule, it will keep that value.\n",
      " |              Otherwise it will inherit this value.\n",
      " |          use_context_window (bool): Whether to use a specified range around a target to check\n",
      " |              for modifiers rather than split sentence boundaries. This can be useful\n",
      " |              for quicker processing by skipping sentence splitting or errors caused by poorly\n",
      " |              defined sentence boundaries. If True, max_scope must be an integer greater than 0.\n",
      " |          max_scope (int or None): A number to explicitly limit the size of the modifier's scope\n",
      " |              If this attribute is also defined in the ConTextRule, it will keep that value.\n",
      " |              Otherwise it will inherit this value.\n",
      " |          terminations (dict or None): Optional mapping between different categories which will\n",
      " |              cause one modifier type to be 'terminated' by another type. For example, if given\n",
      " |              a mapping:\n",
      " |                  {\"POSITIVE_EXISTENCE\": {\"NEGATED_EXISTENCE\", \"UNCERTAIN\"},\n",
      " |                  \"NEGATED_EXISTENCE\": {\"FUTURE\"},\n",
      " |                  }\n",
      " |              all modifiers of type \"POSITIVE_EXISTENCE\" will be terminated by \"NEGATED_EXISTENCE\" or \"UNCERTAIN\"\n",
      " |              modifiers, and all \"NEGATED_EXISTENCE\" modifiers will be terminated by \"FUTURE\".\n",
      " |              This can also be defined for specific ConTextItems in the `terminated_by` attribute.\n",
      " |      \n",
      " |      \n",
      " |      Returns:\n",
      " |          context: a ConTextComponent\n",
      " |      \n",
      " |      Raises:\n",
      " |          ValueError: if one of the parameters is incorrectly formatted.\n",
      " |  \n",
      " |  add(self, rules)\n",
      " |      Add a list of ConTextRule rules to ConText.\n",
      " |      \n",
      " |      Args:\n",
      " |          rules: a list of ConTextItems to add.\n",
      " |  \n",
      " |  register_graph_attributes(self)\n",
      " |      Register spaCy container custom attribute extensions.\n",
      " |      \n",
      " |      By default will register Span._.modifiers and Doc._.context_graph.\n",
      " |      \n",
      " |      If self.add_attrs is True, will add additional attributes to span\n",
      " |          as defined in DEFAULT_ATTRS:\n",
      " |          - is_negated\n",
      " |          - is_historical\n",
      " |          - is_experiencer\n",
      " |  \n",
      " |  set_context_attributes(self, edges)\n",
      " |      Add Span-level attributes to targets with modifiers.\n",
      " |      \n",
      " |      Args:\n",
      " |          edges: the edges to modify\n",
      " |  \n",
      " |  ----------------------------------------------------------------------\n",
      " |  Readonly properties defined here:\n",
      " |  \n",
      " |  categories\n",
      " |      Returns list of categories from ConTextItems\n",
      " |  \n",
      " |  rules\n",
      " |      Returns list of ConTextItems\n",
      " |  \n",
      " |  ----------------------------------------------------------------------\n",
      " |  Data descriptors defined here:\n",
      " |  \n",
      " |  __dict__\n",
      " |      dictionary for instance variables (if defined)\n",
      " |  \n",
      " |  __weakref__\n",
      " |      list of weak references to the object (if defined)\n",
      " |  \n",
      " |  ----------------------------------------------------------------------\n",
      " |  Data and other attributes defined here:\n",
      " |  \n",
      " |  name = 'context'\n",
      "\n"
     ]
    }
   ],
   "source": [
    "help(ConTextComponent)"
   ]
  },
  {
   "cell_type": "code",
   "execution_count": 19,
   "metadata": {},
   "outputs": [],
   "source": [
    "context = ConTextComponent(nlp, rules=\"default\")"
   ]
  },
  {
   "cell_type": "markdown",
   "metadata": {},
   "source": [
    "# Applying ConText\n",
    "Once we've added the ConTextItems, we call the ConTextComponent object directly on a Doc. Usually this will be done under the hood when you call `nlp(text)` or `nlp.pipe(texts)`."
   ]
  },
  {
   "cell_type": "code",
   "execution_count": 20,
   "metadata": {},
   "outputs": [
    {
     "data": {
      "text/plain": [
       "There is no evidence of pneumonia."
      ]
     },
     "execution_count": 20,
     "metadata": {},
     "output_type": "execute_result"
    }
   ],
   "source": [
    "context(doc)"
   ]
  },
  {
   "cell_type": "markdown",
   "metadata": {},
   "source": [
    "This adds the following attributes:\n",
    "- `Doc._.context_graph`: An object containing the targets, modifiers, and relationships between them\n",
    "- `Span._.modifiers`: A tuple added to each span which will contain the modifiers which modify each target entity\n",
    "- Additional ConText attributes (optional)"
   ]
  },
  {
   "cell_type": "markdown",
   "metadata": {},
   "source": [
    "## ConTextGraph\n",
    "This object contains the main findings of the ConText algorithm. It handles applying the modifiers to the sentences, defining their scopes, and identifying target concepts which they modify."
   ]
  },
  {
   "cell_type": "code",
   "execution_count": 21,
   "metadata": {},
   "outputs": [
    {
     "data": {
      "text/plain": [
       "<ConTextGraph> with 1 targets and 1 modifiers"
      ]
     },
     "execution_count": 21,
     "metadata": {},
     "output_type": "execute_result"
    }
   ],
   "source": [
    "doc._.context_graph"
   ]
  },
  {
   "cell_type": "markdown",
   "metadata": {},
   "source": [
    "### Modifiers\n",
    "The `modifiers` attribute is a list of `ConTextModifier` objects, which are the result of a ConTextRule matching a span of text in `doc`. In this example, \"no evidence of\" and has a category of \"DEFINITE_NEGATED_EXISTENCE\", as defined by `context_item`."
   ]
  },
  {
   "cell_type": "code",
   "execution_count": 22,
   "metadata": {},
   "outputs": [
    {
     "data": {
      "text/plain": [
       "[<ConTextModifier> [no evidence of, NEGATED_EXISTENCE]]"
      ]
     },
     "execution_count": 22,
     "metadata": {},
     "output_type": "execute_result"
    }
   ],
   "source": [
    "doc._.context_graph.modifiers"
   ]
  },
  {
   "cell_type": "markdown",
   "metadata": {},
   "source": [
    "The `scope` object contains the span of text which is modified by the ConTextModifier:"
   ]
  },
  {
   "cell_type": "code",
   "execution_count": 23,
   "metadata": {},
   "outputs": [
    {
     "data": {
      "text/plain": [
       "pneumonia."
      ]
     },
     "execution_count": 23,
     "metadata": {},
     "output_type": "execute_result"
    }
   ],
   "source": [
    "modifier = doc._.context_graph.modifiers[0]\n",
    "modifier.scope"
   ]
  },
  {
   "cell_type": "markdown",
   "metadata": {},
   "source": [
    "### Targets\n",
    "The `targets` attribute contains the list of entities in `doc.ents`:"
   ]
  },
  {
   "cell_type": "code",
   "execution_count": 24,
   "metadata": {},
   "outputs": [
    {
     "data": {
      "text/plain": [
       "(pneumonia,)"
      ]
     },
     "execution_count": 24,
     "metadata": {},
     "output_type": "execute_result"
    }
   ],
   "source": [
    "doc._.context_graph.targets"
   ]
  },
  {
   "cell_type": "markdown",
   "metadata": {},
   "source": [
    "### Edges\n",
    "This is the primary role of the ConText algorithm. Once modifiers and targets have been identified, any targets within the scope of a modifier are said to be **modified by** that modifier. In this example, this gives us the contextual semantic information that this entity is negated."
   ]
  },
  {
   "cell_type": "code",
   "execution_count": 25,
   "metadata": {},
   "outputs": [
    {
     "name": "stdout",
     "output_type": "stream",
     "text": [
      "[pneumonia] is modified by [<ConTextModifier> [no evidence of, NEGATED_EXISTENCE]]\n"
     ]
    }
   ],
   "source": [
    "for target, modifier in doc._.context_graph.edges:\n",
    "    print(\"[{0}] is modified by [{1}]\".format(target, modifier))"
   ]
  },
  {
   "cell_type": "markdown",
   "metadata": {},
   "source": [
    "## Span._.modifiers\n",
    "These relationships are also stored as a list in the `target._.modifiers` attribute. This allows us to identify all modifiers for a target entity:"
   ]
  },
  {
   "cell_type": "code",
   "execution_count": 26,
   "metadata": {},
   "outputs": [
    {
     "name": "stdout",
     "output_type": "stream",
     "text": [
      "pneumonia is modified by [(<ConTextModifier> [no evidence of, NEGATED_EXISTENCE],)]\n"
     ]
    }
   ],
   "source": [
    "for ent in doc.ents:\n",
    "    print(\"{0} is modified by [{1}]\".format(ent, ent._.modifiers))"
   ]
  },
  {
   "cell_type": "markdown",
   "metadata": {},
   "source": [
    "# Additional Span attributes\n",
    "In addition to storing the results in the ConTextGraph, ConText also sets several additional span-level attributes which contain the contextual information for that target.\n",
    "\n",
    "- `is_negated`: True if a target is modified by 'NEGATED_EXISTENCE', default False\n",
    "- `is_uncertain`: True if a target is modified by 'POSSIBLE_EXISTENCE', default False\n",
    "- `is_historical`: True if a target is modified by 'HISTORICAL', default False\n",
    "- `is_hypothetical`: True if a target is modified by 'HYPOTHETICAL', default False\n",
    "- `is_family`: True if a target is modified by 'FAMILY', default False"
   ]
  },
  {
   "cell_type": "code",
   "execution_count": 27,
   "metadata": {},
   "outputs": [],
   "source": [
    "from spacy.tokens.span import Span"
   ]
  },
  {
   "cell_type": "code",
   "execution_count": 28,
   "metadata": {},
   "outputs": [
    {
     "name": "stdout",
     "output_type": "stream",
     "text": [
      "pneumonia\n",
      "is_negated:  True\n",
      "is_uncertain:  False\n",
      "is_historical:  False\n",
      "is_hypothetical:  False\n",
      "is_family:  False\n"
     ]
    }
   ],
   "source": [
    "for ent in doc.ents:\n",
    "    print(ent)\n",
    "    print(\"is_negated: \", ent._.is_negated)\n",
    "    print(\"is_uncertain: \", ent._.is_uncertain)\n",
    "    print(\"is_historical: \", ent._.is_historical)\n",
    "    print(\"is_hypothetical: \", ent._.is_hypothetical)\n",
    "    print(\"is_family: \", ent._.is_family)\n",
    "    "
   ]
  },
  {
   "cell_type": "markdown",
   "metadata": {},
   "source": [
    "These attributes can be left out by setting `set_attrs` to `False` when initializing the `ConTextComponent`."
   ]
  },
  {
   "cell_type": "markdown",
   "metadata": {},
   "source": [
    "# Visualization\n",
    "When building or explaining a clinical NLP system, it can be especially helpful to view visual representations of the entities and modifiers. We can use [spaCy's displacy](https://spacy.io/usage/visualizers) to display this information.\n",
    "\n",
    "[Medspacy](https://github.com/medspacy/medspacy) has a wrapper for displacy in the `visualization` module. The `visualize_ent` function displays targets and modifiers in a document in an NER-style form, highlighting the clinical entities and modifiers in a Doc:"
   ]
  },
  {
   "cell_type": "code",
   "execution_count": 29,
   "metadata": {},
   "outputs": [],
   "source": [
    "from medspacy.visualization import visualize_dep, visualize_ent"
   ]
  },
  {
   "cell_type": "code",
   "execution_count": 30,
   "metadata": {},
   "outputs": [
    {
     "data": {
      "text/html": [
       "<span class=\"tex2jax_ignore\"><div class=\"entities\" style=\"line-height: 2.5; direction: ltr\">There is \n",
       "<mark class=\"entity\" style=\"background: #ff7f0e; padding: 0.45em 0.6em; margin: 0 0.25em; line-height: 1; border-radius: 0.35em;\">\n",
       "    no evidence of\n",
       "    <span style=\"font-size: 0.8em; font-weight: bold; line-height: 1; border-radius: 0.35em; vertical-align: middle; margin-left: 0.5rem\">NEGATED_EXISTENCE</span>\n",
       "</mark>\n",
       " \n",
       "<mark class=\"entity\" style=\"background: #1f77b4; padding: 0.45em 0.6em; margin: 0 0.25em; line-height: 1; border-radius: 0.35em;\">\n",
       "    pneumonia\n",
       "    <span style=\"font-size: 0.8em; font-weight: bold; line-height: 1; border-radius: 0.35em; vertical-align: middle; margin-left: 0.5rem\">EVIDENCE_OF_PNEUMONIA</span>\n",
       "</mark>\n",
       ".</div></span>"
      ],
      "text/plain": [
       "<IPython.core.display.HTML object>"
      ]
     },
     "metadata": {},
     "output_type": "display_data"
    }
   ],
   "source": [
    "visualize_ent(doc)"
   ]
  },
  {
   "cell_type": "markdown",
   "metadata": {},
   "source": [
    "The `visualize_dep` function uses a dependency-parse style graphic to show the relationships between targets and modifiers:"
   ]
  },
  {
   "cell_type": "code",
   "execution_count": 31,
   "metadata": {},
   "outputs": [
    {
     "data": {
      "text/html": [
       "<span class=\"tex2jax_ignore\"><svg xmlns=\"http://www.w3.org/2000/svg\" xmlns:xlink=\"http://www.w3.org/1999/xlink\" xml:lang=\"en\" id=\"dbbe7d441a154b178e5fdbed458a3315-0\" class=\"displacy\" width=\"925\" height=\"224.5\" direction=\"ltr\" style=\"max-width: none; height: 224.5px; color: #000000; background: #ffffff; font-family: Arial; direction: ltr\">\n",
       "<text class=\"displacy-token\" fill=\"currentColor\" text-anchor=\"middle\" y=\"134.5\">\n",
       "    <tspan class=\"displacy-word\" fill=\"currentColor\" x=\"50\">There</tspan>\n",
       "    <tspan class=\"displacy-tag\" dy=\"2em\" fill=\"currentColor\" x=\"50\"></tspan>\n",
       "</text>\n",
       "\n",
       "<text class=\"displacy-token\" fill=\"currentColor\" text-anchor=\"middle\" y=\"134.5\">\n",
       "    <tspan class=\"displacy-word\" fill=\"currentColor\" x=\"225\">is</tspan>\n",
       "    <tspan class=\"displacy-tag\" dy=\"2em\" fill=\"currentColor\" x=\"225\"></tspan>\n",
       "</text>\n",
       "\n",
       "<text class=\"displacy-token\" fill=\"currentColor\" text-anchor=\"middle\" y=\"134.5\">\n",
       "    <tspan class=\"displacy-word\" fill=\"currentColor\" x=\"400\">no evidence of</tspan>\n",
       "    <tspan class=\"displacy-tag\" dy=\"2em\" fill=\"currentColor\" x=\"400\"></tspan>\n",
       "</text>\n",
       "\n",
       "<text class=\"displacy-token\" fill=\"currentColor\" text-anchor=\"middle\" y=\"134.5\">\n",
       "    <tspan class=\"displacy-word\" fill=\"currentColor\" x=\"575\">pneumonia</tspan>\n",
       "    <tspan class=\"displacy-tag\" dy=\"2em\" fill=\"currentColor\" x=\"575\">EVIDENCE_OF_PNEUMONIA</tspan>\n",
       "</text>\n",
       "\n",
       "<text class=\"displacy-token\" fill=\"currentColor\" text-anchor=\"middle\" y=\"134.5\">\n",
       "    <tspan class=\"displacy-word\" fill=\"currentColor\" x=\"750\">.</tspan>\n",
       "    <tspan class=\"displacy-tag\" dy=\"2em\" fill=\"currentColor\" x=\"750\"></tspan>\n",
       "</text>\n",
       "\n",
       "<g class=\"displacy-arrow\">\n",
       "    <path class=\"displacy-arc\" id=\"arrow-dbbe7d441a154b178e5fdbed458a3315-0-0\" stroke-width=\"2px\" d=\"M420,89.5 C420,2.0 575.0,2.0 575.0,89.5\" fill=\"none\" stroke=\"currentColor\"/>\n",
       "    <text dy=\"1.25em\" style=\"font-size: 0.8em; letter-spacing: 1px\">\n",
       "        <textPath xlink:href=\"#arrow-dbbe7d441a154b178e5fdbed458a3315-0-0\" class=\"displacy-label\" startOffset=\"50%\" side=\"left\" fill=\"currentColor\" text-anchor=\"middle\">NEGATED_EXISTENCE</textPath>\n",
       "    </text>\n",
       "    <path class=\"displacy-arrowhead\" d=\"M575.0,91.5 L583.0,79.5 567.0,79.5\" fill=\"currentColor\"/>\n",
       "</g>\n",
       "</svg></span>"
      ],
      "text/plain": [
       "<IPython.core.display.HTML object>"
      ]
     },
     "metadata": {},
     "output_type": "display_data"
    }
   ],
   "source": [
    "visualize_dep(doc)"
   ]
  },
  {
   "cell_type": "markdown",
   "metadata": {},
   "source": [
    "# Defining Modifier Rules\n",
    "In this sentence, **\"pneumonia\"** is negated. This negation is indicated by the contextual information. We can extract this by identifying the semantic modifier and relating it to the clinical entity.\n",
    "\n",
    "In medspaCy, we define modifiers in the `ConTextRule` class. We'll explain the ConTextRule class in more detail in another notebook. For now, we'll define this simple item:"
   ]
  },
  {
   "cell_type": "code",
   "execution_count": 32,
   "metadata": {},
   "outputs": [],
   "source": [
    "context_rule = ConTextRule(\"no evidence of\", \"NEGATED_EXISTENCE\", direction=\"FORWARD\")"
   ]
  },
  {
   "cell_type": "markdown",
   "metadata": {},
   "source": [
    "We then add this ItemData to the context object in a list."
   ]
  },
  {
   "cell_type": "code",
   "execution_count": 33,
   "metadata": {},
   "outputs": [],
   "source": [
    "context.add([context_rule])"
   ]
  },
  {
   "cell_type": "markdown",
   "metadata": {},
   "source": [
    "# Next Steps\n",
    "In the next notebook, we'll see how to add ConText to a spaCy pipeline to process multiple documents with different targets and modifiers."
   ]
  },
  {
   "cell_type": "code",
   "execution_count": null,
   "metadata": {},
   "outputs": [],
   "source": []
  }
 ],
 "metadata": {
  "kernelspec": {
   "display_name": "Python 3 (ipykernel)",
   "language": "python",
   "name": "python3"
  },
  "language_info": {
   "codemirror_mode": {
    "name": "ipython",
    "version": 3
   },
   "file_extension": ".py",
   "mimetype": "text/x-python",
   "name": "python",
   "nbconvert_exporter": "python",
   "pygments_lexer": "ipython3",
   "version": "3.8.11"
  }
 },
 "nbformat": 4,
 "nbformat_minor": 4
}
