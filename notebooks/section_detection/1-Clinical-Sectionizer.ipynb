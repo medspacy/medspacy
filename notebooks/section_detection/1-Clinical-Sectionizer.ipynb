{
 "cells": [
  {
   "cell_type": "markdown",
   "metadata": {},
   "source": [
    "# Overview\n",
    "This notebook will show a basic example of how to use the `Sectionizer` package from medspaCy.\n",
    "\n",
    "## Prerequisites\n",
    "This notebook will also use some examples from the master medSpaCy package [medspacy](https://github.com/medspacy/medspacy), which you can download as:\n",
    "\n",
    "`pip install medspacy`"
   ]
  },
  {
   "cell_type": "markdown",
   "metadata": {},
   "source": [
    "## Example text\n",
    "We'll process this document below:"
   ]
  },
  {
   "cell_type": "code",
   "execution_count": 1,
   "metadata": {},
   "outputs": [],
   "source": [
    "%load_ext autoreload\n",
    "%autoreload 2\n",
    "import sys\n",
    "sys.path.insert(0, \"../..\")"
   ]
  },
  {
   "cell_type": "code",
   "execution_count": 2,
   "metadata": {},
   "outputs": [],
   "source": [
    "with open(\"../discharge_summary.txt\") as f:\n",
    "    text = f.read()"
   ]
  },
  {
   "cell_type": "code",
   "execution_count": 3,
   "metadata": {},
   "outputs": [
    {
     "name": "stdout",
     "output_type": "stream",
     "text": [
      "Admission Date:  [**2573-5-30**]              Discharge Date:   [**2573-7-1**]\n",
      "\n",
      "Date of Birth:  [**2498-8-19**]             Sex:   F\n",
      "\n",
      "Service: SURGERY\n",
      "\n",
      "Allergies:\n",
      "Hydrochlorothiazide\n",
      "\n",
      "Attending:[**First Name3 (LF) 1893**]\n",
      "Chief Complaint:\n",
      "Abdominal pain\n",
      "\n",
      "Major Surgical or Invasive Procedure:\n",
      "PICC line [**6-25**]\n",
      "ERCP w/ sphincterotomy [**5-31**]\n",
      "\n",
      "\n",
      "History of Present Illness:\n",
      "74y female with type 2 dm and a recent stroke affecting her\n",
      "speech, who presents with 2 days of abdominal pain. Imaging sh\n"
     ]
    }
   ],
   "source": [
    "print(text[:500])"
   ]
  },
  {
   "cell_type": "markdown",
   "metadata": {},
   "source": [
    "# Getting started\n",
    "The `Sectionizer` component is used in the same way as any other spaCy component. We'll start by loading a spaCy model, adding a few rules for extracting entities, creating a `Sectionizer` object, and then adding it to our pipeline."
   ]
  },
  {
   "cell_type": "code",
   "execution_count": 7,
   "metadata": {},
   "outputs": [],
   "source": [
    "import medspacy"
   ]
  },
  {
   "cell_type": "code",
   "execution_count": 14,
   "metadata": {},
   "outputs": [],
   "source": [
    "nlp = medspacy.load()"
   ]
  },
  {
   "cell_type": "code",
   "execution_count": 15,
   "metadata": {},
   "outputs": [
    {
     "data": {
      "text/plain": [
       "['medspacy_pyrush', 'medspacy_target_matcher', 'medspacy_context']"
      ]
     },
     "execution_count": 15,
     "metadata": {},
     "output_type": "execute_result"
    }
   ],
   "source": [
    "nlp.pipe_names"
   ]
  },
  {
   "cell_type": "code",
   "execution_count": 16,
   "metadata": {},
   "outputs": [],
   "source": [
    "sectionizer = nlp.add_pipe(\"medspacy_sectionizer\")"
   ]
  },
  {
   "cell_type": "code",
   "execution_count": 17,
   "metadata": {},
   "outputs": [
    {
     "data": {
      "text/plain": [
       "['medspacy_pyrush',\n",
       " 'medspacy_target_matcher',\n",
       " 'medspacy_context',\n",
       " 'medspacy_sectionizer']"
      ]
     },
     "execution_count": 17,
     "metadata": {},
     "output_type": "execute_result"
    }
   ],
   "source": [
    "nlp.pipe_names"
   ]
  },
  {
   "cell_type": "code",
   "execution_count": 21,
   "metadata": {},
   "outputs": [],
   "source": [
    "# Add some target rules for extracting entities\n",
    "from medspacy.target_matcher import TargetRule\n",
    "\n",
    "rules = [\n",
    "    TargetRule(\"stroke\", \"CONDITION\"),\n",
    "    TargetRule(\"alcohol\", \"CONDITION\"),\n",
    "    TargetRule(\"drug use\", \"CONDITION\"),\n",
    "    TargetRule(\"Miconazole Nitrate\", \"MEDICATION\"),\n",
    "    TargetRule(\"Type 2 DM\", \"CONDITION\")\n",
    "    \n",
    "]"
   ]
  },
  {
   "cell_type": "code",
   "execution_count": 22,
   "metadata": {},
   "outputs": [],
   "source": [
    "nlp.get_pipe(\"medspacy_target_matcher\").add(rules)"
   ]
  },
  {
   "cell_type": "markdown",
   "metadata": {},
   "source": [
    "## Processing text\n",
    "As an example, we'll process this text from MIMIC-II:"
   ]
  },
  {
   "cell_type": "code",
   "execution_count": 23,
   "metadata": {},
   "outputs": [
    {
     "name": "stderr",
     "output_type": "stream",
     "text": [
      "/Users/alecchapman/Code/medspacy/medspacy/notebooks/section_detection/../../medspacy/common/medspacy_matcher.py:80: UserWarning: [W036] The component 'matcher' does not have any patterns defined.\n",
      "  matches = self.matcher(doc)\n",
      "/Users/alecchapman/Code/medspacy/medspacy/notebooks/section_detection/../../medspacy/common/medspacy_matcher.py:80: UserWarning: [W036] The component 'matcher' does not have any patterns defined.\n",
      "  matches = self.matcher(doc)\n"
     ]
    }
   ],
   "source": [
    "doc = nlp(text)"
   ]
  },
  {
   "cell_type": "markdown",
   "metadata": {},
   "source": [
    "Just like that, we've processed our doc with medSpaCy! Let's first take a look at what entities we've extracted, as well as the section headers. To do this, we'll use a visualizer in the medspaCy package. It is an extension of displaCy that supports medspaCy components.. This function will highlight all of the **entities** found in `doc.ents` which were extracted by our model's `ner` component, as well as the section headers extracted by `sectionizer`:"
   ]
  },
  {
   "cell_type": "code",
   "execution_count": 24,
   "metadata": {},
   "outputs": [],
   "source": [
    "from medspacy.visualization import visualize_ent"
   ]
  },
  {
   "cell_type": "code",
   "execution_count": 25,
   "metadata": {
    "scrolled": true
   },
   "outputs": [
    {
     "data": {
      "text/html": [
       "<span class=\"tex2jax_ignore\"><div class=\"entities\" style=\"line-height: 2.5; direction: ltr\">Admission Date:  [**2573-5-30**]              Discharge Date:   [**2573-7-1**]</br></br>Date of Birth:  [**2498-8-19**]             Sex:   F</br></br>\n",
       "<mark class=\"entity\" style=\"background: #dee0e3; padding: 0.45em 0.6em; margin: 0 0.25em; line-height: 1; border-radius: 0.35em;\">\n",
       "    Service:\n",
       "    <span style=\"font-size: 0.8em; font-weight: bold; line-height: 1; border-radius: 0.35em; vertical-align: middle; margin-left: 0.5rem\"><< OTHER >></span>\n",
       "</mark>\n",
       " SURGERY</br></br>\n",
       "<mark class=\"entity\" style=\"background: #dee0e3; padding: 0.45em 0.6em; margin: 0 0.25em; line-height: 1; border-radius: 0.35em;\">\n",
       "    Allergies:\n",
       "    <span style=\"font-size: 0.8em; font-weight: bold; line-height: 1; border-radius: 0.35em; vertical-align: middle; margin-left: 0.5rem\"><< ALLERGIES >></span>\n",
       "</mark>\n",
       "</br>Hydrochlorothiazide</br></br>Attending:[**First Name3 (LF) 1893**]</br>\n",
       "<mark class=\"entity\" style=\"background: #dee0e3; padding: 0.45em 0.6em; margin: 0 0.25em; line-height: 1; border-radius: 0.35em;\">\n",
       "    Chief Complaint:\n",
       "    <span style=\"font-size: 0.8em; font-weight: bold; line-height: 1; border-radius: 0.35em; vertical-align: middle; margin-left: 0.5rem\"><< CHIEF_COMPLAINT >></span>\n",
       "</mark>\n",
       "</br>Abdominal pain</br></br>Major Surgical or Invasive Procedure:</br>PICC line [**6-25**]</br>ERCP w/ sphincterotomy [**5-31**]</br></br></br>\n",
       "<mark class=\"entity\" style=\"background: #dee0e3; padding: 0.45em 0.6em; margin: 0 0.25em; line-height: 1; border-radius: 0.35em;\">\n",
       "    History of Present Illness:\n",
       "    <span style=\"font-size: 0.8em; font-weight: bold; line-height: 1; border-radius: 0.35em; vertical-align: middle; margin-left: 0.5rem\"><< HISTORY_OF_PRESENT_ILLNESS >></span>\n",
       "</mark>\n",
       "</br>74y female with \n",
       "<mark class=\"entity\" style=\"background: #d62728; padding: 0.45em 0.6em; margin: 0 0.25em; line-height: 1; border-radius: 0.35em;\">\n",
       "    type 2 dm\n",
       "    <span style=\"font-size: 0.8em; font-weight: bold; line-height: 1; border-radius: 0.35em; vertical-align: middle; margin-left: 0.5rem\">CONDITION</span>\n",
       "</mark>\n",
       " and a recent \n",
       "<mark class=\"entity\" style=\"background: #d62728; padding: 0.45em 0.6em; margin: 0 0.25em; line-height: 1; border-radius: 0.35em;\">\n",
       "    stroke\n",
       "    <span style=\"font-size: 0.8em; font-weight: bold; line-height: 1; border-radius: 0.35em; vertical-align: middle; margin-left: 0.5rem\">CONDITION</span>\n",
       "</mark>\n",
       " affecting her</br>speech, who presents with 2 days of abdominal pain. Imaging shows no evidence of metastasis. She is not receiving any chemo.</br></br>\n",
       "<mark class=\"entity\" style=\"background: #dee0e3; padding: 0.45em 0.6em; margin: 0 0.25em; line-height: 1; border-radius: 0.35em;\">\n",
       "    Past Medical History:\n",
       "    <span style=\"font-size: 0.8em; font-weight: bold; line-height: 1; border-radius: 0.35em; vertical-align: middle; margin-left: 0.5rem\"><< PAST_MEDICAL_HISTORY >></span>\n",
       "</mark>\n",
       "</br>1. Colon cancer dx'd in [**2554**], tx'd with hemicolectomy, XRT,</br>chemo. Last colonoscopy showed: Last CEA was in the 8 range</br>(down from 9)</br>2. Type II Diabetes Mellitus</br>3. Hypertension</br></br>\n",
       "<mark class=\"entity\" style=\"background: #dee0e3; padding: 0.45em 0.6em; margin: 0 0.25em; line-height: 1; border-radius: 0.35em;\">\n",
       "    Social History:\n",
       "    <span style=\"font-size: 0.8em; font-weight: bold; line-height: 1; border-radius: 0.35em; vertical-align: middle; margin-left: 0.5rem\"><< SOCIAL_HISTORY >></span>\n",
       "</mark>\n",
       "</br>Married, former tobacco use. \n",
       "<mark class=\"entity\" style=\"background: #1f77b4; padding: 0.45em 0.6em; margin: 0 0.25em; line-height: 1; border-radius: 0.35em;\">\n",
       "    No\n",
       "    <span style=\"font-size: 0.8em; font-weight: bold; line-height: 1; border-radius: 0.35em; vertical-align: middle; margin-left: 0.5rem\">NEGATED_EXISTENCE</span>\n",
       "</mark>\n",
       " \n",
       "<mark class=\"entity\" style=\"background: #d62728; padding: 0.45em 0.6em; margin: 0 0.25em; line-height: 1; border-radius: 0.35em;\">\n",
       "    alcohol\n",
       "    <span style=\"font-size: 0.8em; font-weight: bold; line-height: 1; border-radius: 0.35em; vertical-align: middle; margin-left: 0.5rem\">CONDITION</span>\n",
       "</mark>\n",
       " or \n",
       "<mark class=\"entity\" style=\"background: #d62728; padding: 0.45em 0.6em; margin: 0 0.25em; line-height: 1; border-radius: 0.35em;\">\n",
       "    drug use\n",
       "    <span style=\"font-size: 0.8em; font-weight: bold; line-height: 1; border-radius: 0.35em; vertical-align: middle; margin-left: 0.5rem\">CONDITION</span>\n",
       "</mark>\n",
       ".</br></br>\n",
       "<mark class=\"entity\" style=\"background: #dee0e3; padding: 0.45em 0.6em; margin: 0 0.25em; line-height: 1; border-radius: 0.35em;\">\n",
       "    Family History:\n",
       "    <span style=\"font-size: 0.8em; font-weight: bold; line-height: 1; border-radius: 0.35em; vertical-align: middle; margin-left: 0.5rem\"><< FAMILY_HISTORY >></span>\n",
       "</mark>\n",
       "</br>\n",
       "<mark class=\"entity\" style=\"background: #2ca02c; padding: 0.45em 0.6em; margin: 0 0.25em; line-height: 1; border-radius: 0.35em;\">\n",
       "    Mother\n",
       "    <span style=\"font-size: 0.8em; font-weight: bold; line-height: 1; border-radius: 0.35em; vertical-align: middle; margin-left: 0.5rem\">FAMILY</span>\n",
       "</mark>\n",
       " with \n",
       "<mark class=\"entity\" style=\"background: #d62728; padding: 0.45em 0.6em; margin: 0 0.25em; line-height: 1; border-radius: 0.35em;\">\n",
       "    stroke\n",
       "    <span style=\"font-size: 0.8em; font-weight: bold; line-height: 1; border-radius: 0.35em; vertical-align: middle; margin-left: 0.5rem\">CONDITION</span>\n",
       "</mark>\n",
       " at age 82. no early deaths.</br>2 daughters- healthy</br></br></br>\n",
       "<mark class=\"entity\" style=\"background: #dee0e3; padding: 0.45em 0.6em; margin: 0 0.25em; line-height: 1; border-radius: 0.35em;\">\n",
       "    Brief Hospital Course:\n",
       "    <span style=\"font-size: 0.8em; font-weight: bold; line-height: 1; border-radius: 0.35em; vertical-align: middle; margin-left: 0.5rem\"><< HOSPITAL_COURSE >></span>\n",
       "</mark>\n",
       "</br>Ms. [**Known patient lastname 2004**] was admitted on [**2573-5-30**]. Ultrasound at the time of</br>admission demonstrated pancreatic duct dilitation and an</br>edematous gallbladder. She was admitted to the ICU.</br>\n",
       "<mark class=\"entity\" style=\"background: #dee0e3; padding: 0.45em 0.6em; margin: 0 0.25em; line-height: 1; border-radius: 0.35em;\">\n",
       "    Discharge Medications:\n",
       "    <span style=\"font-size: 0.8em; font-weight: bold; line-height: 1; border-radius: 0.35em; vertical-align: middle; margin-left: 0.5rem\"><< MEDICATIONS >></span>\n",
       "</mark>\n",
       "</br>1. \n",
       "<mark class=\"entity\" style=\"background: #ff7f0e; padding: 0.45em 0.6em; margin: 0 0.25em; line-height: 1; border-radius: 0.35em;\">\n",
       "    Miconazole Nitrate\n",
       "    <span style=\"font-size: 0.8em; font-weight: bold; line-height: 1; border-radius: 0.35em; vertical-align: middle; margin-left: 0.5rem\">MEDICATION</span>\n",
       "</mark>\n",
       " 2 % Powder Sig: One (1) Appl Topical  BID</br>(2 times a day) as needed.</br>2. Heparin Sodium (Porcine) 5,000 unit/mL Solution Sig: One (1)</br>Injection TID (3 times a day).</br>3. Acetaminophen 160 mg/5 mL Elixir Sig: One (1)  PO Q4-6H</br>(every 4 to 6 hours) as needed.</br></br>\n",
       "<mark class=\"entity\" style=\"background: #dee0e3; padding: 0.45em 0.6em; margin: 0 0.25em; line-height: 1; border-radius: 0.35em;\">\n",
       "    Discharge Diagnosis:\n",
       "    <span style=\"font-size: 0.8em; font-weight: bold; line-height: 1; border-radius: 0.35em; vertical-align: middle; margin-left: 0.5rem\"><< OBSERVATION_AND_PLAN >></span>\n",
       "</mark>\n",
       "</br>\n",
       "<mark class=\"entity\" style=\"background: #d62728; padding: 0.45em 0.6em; margin: 0 0.25em; line-height: 1; border-radius: 0.35em;\">\n",
       "    Type 2 DM\n",
       "    <span style=\"font-size: 0.8em; font-weight: bold; line-height: 1; border-radius: 0.35em; vertical-align: middle; margin-left: 0.5rem\">CONDITION</span>\n",
       "</mark>\n",
       "</br>Pancreatitis</br>HTN</br>h/o aspiration respiratory distress</br></br></br>\n",
       "<mark class=\"entity\" style=\"background: #dee0e3; padding: 0.45em 0.6em; margin: 0 0.25em; line-height: 1; border-radius: 0.35em;\">\n",
       "    Discharge Instructions:\n",
       "    <span style=\"font-size: 0.8em; font-weight: bold; line-height: 1; border-radius: 0.35em; vertical-align: middle; margin-left: 0.5rem\"><< PATIENT_INSTRUCTIONS >></span>\n",
       "</mark>\n",
       "</br>Patient may shower. Please call your surgeon or return to the</br>emergency room if [**Doctor First Name **] experience fever &gt;101.5, nausea, vomiting,</br>abdominal pain, shortness of breath, abdominal pain or any</br>significant  change in your medical condition. A</br></br>Completed by: [**First Name11 (Name Pattern1) 2010**] [**Last Name (NamePattern1) 2011**] MD [**MD Number 2012**] [**2573-7-1**] @ 1404</br>\n",
       "<mark class=\"entity\" style=\"background: #dee0e3; padding: 0.45em 0.6em; margin: 0 0.25em; line-height: 1; border-radius: 0.35em;\">\n",
       "    Signed electronically by:\n",
       "    <span style=\"font-size: 0.8em; font-weight: bold; line-height: 1; border-radius: 0.35em; vertical-align: middle; margin-left: 0.5rem\"><< SIGNATURE >></span>\n",
       "</mark>\n",
       " DR. [**First Name8 (NamePattern2) **] [**Last Name (NamePattern1) **]</br> on: FRI [**2573-7-2**] 8:03 AM</br>(End of Report)</div></span>"
      ],
      "text/plain": [
       "<IPython.core.display.HTML object>"
      ]
     },
     "metadata": {},
     "output_type": "display_data"
    }
   ],
   "source": [
    "visualize_ent(doc)"
   ]
  },
  {
   "cell_type": "markdown",
   "metadata": {},
   "source": [
    "The section titles are highlighted in gray with **<<>>** symbols around the normalized section title. As you can see, there are sometimes overlap between the targets and section headers, which causes duplicate text to be displayed."
   ]
  },
  {
   "cell_type": "markdown",
   "metadata": {},
   "source": [
    "# Extracted Section Information\n",
    "Let's now see what information was extracted by `sectionizer`. When `sectionizer` process a `doc`, it adds a number of custom attributes at the following levels:\n",
    "- `Doc`: The entire document\n",
    "- `Token`: A single token\n",
    "\n",
    "In spaCy, custom attributes are saved under the `var._` attribute. \n",
    "\n",
    "## Doc\n",
    "Let's first look at all of the `section_categories` which were found in our text. `category` represents the normalized name specified in your rules."
   ]
  },
  {
   "cell_type": "code",
   "execution_count": 26,
   "metadata": {},
   "outputs": [
    {
     "data": {
      "text/plain": [
       "[None,\n",
       " 'other',\n",
       " 'allergies',\n",
       " 'chief_complaint',\n",
       " 'history_of_present_illness',\n",
       " 'past_medical_history',\n",
       " 'social_history',\n",
       " 'family_history',\n",
       " 'hospital_course',\n",
       " 'medications',\n",
       " 'observation_and_plan',\n",
       " 'patient_instructions',\n",
       " 'signature']"
      ]
     },
     "execution_count": 26,
     "metadata": {},
     "output_type": "execute_result"
    }
   ],
   "source": [
    "doc._.section_categories"
   ]
  },
  {
   "cell_type": "markdown",
   "metadata": {},
   "source": [
    "Next, let's find the spans of the text which were recognized as `section_titles`. `title` represents the title or header component of a section. This is the part that is matched using the rules provided to the `Sectionizer` component."
   ]
  },
  {
   "cell_type": "code",
   "execution_count": 27,
   "metadata": {},
   "outputs": [
    {
     "data": {
      "text/plain": [
       "[,\n",
       " Service:,\n",
       " Allergies:,\n",
       " Chief Complaint:,\n",
       " History of Present Illness:,\n",
       " Past Medical History:,\n",
       " Social History:,\n",
       " Family History:,\n",
       " Brief Hospital Course:,\n",
       " Discharge Medications:,\n",
       " Discharge Diagnosis:,\n",
       " Discharge Instructions:,\n",
       " Signed electronically by:]"
      ]
     },
     "execution_count": 27,
     "metadata": {},
     "output_type": "execute_result"
    }
   ],
   "source": [
    "doc._.section_titles"
   ]
  },
  {
   "cell_type": "markdown",
   "metadata": {},
   "source": [
    "Now, let's look at the `section_bodies`. `body` represents the text in between each `title` that is assigned to the category of the previous matched `title`. Note that the `title` and the `body` do not overlap."
   ]
  },
  {
   "cell_type": "code",
   "execution_count": 28,
   "metadata": {},
   "outputs": [
    {
     "data": {
      "text/plain": [
       "[Admission Date:  [**2573-5-30**]              Discharge Date:   [**2573-7-1**]\n",
       " \n",
       " Date of Birth:  [**2498-8-19**]             Sex:   F\n",
       " ,\n",
       " SURGERY\n",
       " ,\n",
       " \n",
       " Hydrochlorothiazide\n",
       " \n",
       " Attending:[**First Name3 (LF) 1893**],\n",
       " \n",
       " Abdominal pain\n",
       " \n",
       " Major Surgical or Invasive Procedure:\n",
       " PICC line [**6-25**]\n",
       " ERCP w/ sphincterotomy [**5-31**]\n",
       " \n",
       " ,\n",
       " \n",
       " 74y female with type 2 dm and a recent stroke affecting her\n",
       " speech, who presents with 2 days of abdominal pain. Imaging shows no evidence of metastasis. She is not receiving any chemo.\n",
       " ,\n",
       " \n",
       " 1. Colon cancer dx'd in [**2554**], tx'd with hemicolectomy, XRT,\n",
       " chemo. Last colonoscopy showed: Last CEA was in the 8 range\n",
       " (down from 9)\n",
       " 2. Type II Diabetes Mellitus\n",
       " 3. Hypertension\n",
       " ,\n",
       " \n",
       " Married, former tobacco use. No alcohol or drug use.\n",
       " ,\n",
       " \n",
       " Mother with stroke at age 82. no early deaths.\n",
       " 2 daughters- healthy\n",
       " \n",
       " ,\n",
       " \n",
       " Ms. [**Known patient lastname 2004**] was admitted on [**2573-5-30**]. Ultrasound at the time of\n",
       " admission demonstrated pancreatic duct dilitation and an\n",
       " edematous gallbladder. She was admitted to the ICU.,\n",
       " \n",
       " 1. Miconazole Nitrate 2 % Powder Sig: One (1) Appl Topical  BID\n",
       " (2 times a day) as needed.\n",
       " 2. Heparin Sodium (Porcine) 5,000 unit/mL Solution Sig: One (1)\n",
       " Injection TID (3 times a day).\n",
       " 3. Acetaminophen 160 mg/5 mL Elixir Sig: One (1)  PO Q4-6H\n",
       " (every 4 to 6 hours) as needed.\n",
       " ,\n",
       " \n",
       " Type 2 DM\n",
       " Pancreatitis\n",
       " HTN\n",
       " h/o aspiration respiratory distress\n",
       " \n",
       " ,\n",
       " \n",
       " Patient may shower. Please call your surgeon or return to the\n",
       " emergency room if [**Doctor First Name **] experience fever >101.5, nausea, vomiting,\n",
       " abdominal pain, shortness of breath, abdominal pain or any\n",
       " significant  change in your medical condition. A\n",
       " \n",
       " Completed by: [**First Name11 (Name Pattern1) 2010**] [**Last Name (NamePattern1) 2011**] MD [**MD Number 2012**] [**2573-7-1**] @ 1404,\n",
       " DR. [**First Name8 (NamePattern2) **] [**Last Name (NamePattern1) **]\n",
       "  on: FRI [**2573-7-2**] 8:03 AM\n",
       " (End of Report)]"
      ]
     },
     "execution_count": 28,
     "metadata": {},
     "output_type": "execute_result"
    }
   ],
   "source": [
    "doc._.section_bodies"
   ]
  },
  {
   "cell_type": "markdown",
   "metadata": {},
   "source": [
    "Finally, the entire section is available through `section_span`. The `span` represents the combined `title` and `body`."
   ]
  },
  {
   "cell_type": "code",
   "execution_count": 29,
   "metadata": {},
   "outputs": [
    {
     "name": "stdout",
     "output_type": "stream",
     "text": [
      "[Admission Date:  [**2573-5-30**]              Discharge Date:   [**2573-7-1**]\n",
      "\n",
      "Date of Birth:  [**2498-8-19**]             Sex:   F\n",
      "\n",
      ", Service: SURGERY\n",
      "\n",
      ", Allergies:\n",
      "Hydrochlorothiazide\n",
      "\n",
      "Attending:[**First Name3 (LF) 1893**]\n",
      ", Chief Complaint:\n",
      "Abdominal pain\n",
      "\n",
      "Major Surgical or Invasive Procedure:\n",
      "PICC line [**6-25**]\n",
      "ERCP w/ sphincterotomy [**5-31**]\n",
      "\n",
      "\n",
      ", History of Present Illness:\n",
      "74y female with type 2 dm and a recent stroke affecting her\n",
      "speech, who presents with 2 days of abdominal pain. Imaging shows no evidence of metastasis. She is not receiving any chemo.\n",
      "\n",
      ", Past Medical History:\n",
      "1. Colon cancer dx'd in [**2554**], tx'd with hemicolectomy, XRT,\n",
      "chemo. Last colonoscopy showed: Last CEA was in the 8 range\n",
      "(down from 9)\n",
      "2. Type II Diabetes Mellitus\n",
      "3. Hypertension\n",
      "\n",
      ", Social History:\n",
      "Married, former tobacco use. No alcohol or drug use.\n",
      "\n",
      ", Family History:\n",
      "Mother with stroke at age 82. no early deaths.\n",
      "2 daughters- healthy\n",
      "\n",
      "\n",
      ", Brief Hospital Course:\n",
      "Ms. [**Known patient lastname 2004**] was admitted on [**2573-5-30**]. Ultrasound at the time of\n",
      "admission demonstrated pancreatic duct dilitation and an\n",
      "edematous gallbladder. She was admitted to the ICU.\n",
      ", Discharge Medications:\n",
      "1. Miconazole Nitrate 2 % Powder Sig: One (1) Appl Topical  BID\n",
      "(2 times a day) as needed.\n",
      "2. Heparin Sodium (Porcine) 5,000 unit/mL Solution Sig: One (1)\n",
      "Injection TID (3 times a day).\n",
      "3. Acetaminophen 160 mg/5 mL Elixir Sig: One (1)  PO Q4-6H\n",
      "(every 4 to 6 hours) as needed.\n",
      "\n",
      ", Discharge Diagnosis:\n",
      "Type 2 DM\n",
      "Pancreatitis\n",
      "HTN\n",
      "h/o aspiration respiratory distress\n",
      "\n",
      "\n",
      ", Discharge Instructions:\n",
      "Patient may shower. Please call your surgeon or return to the\n",
      "emergency room if [**Doctor First Name **] experience fever >101.5, nausea, vomiting,\n",
      "abdominal pain, shortness of breath, abdominal pain or any\n",
      "significant  change in your medical condition. A\n",
      "\n",
      "Completed by: [**First Name11 (Name Pattern1) 2010**] [**Last Name (NamePattern1) 2011**] MD [**MD Number 2012**] [**2573-7-1**] @ 1404\n",
      ", Signed electronically by: DR. [**First Name8 (NamePattern2) **] [**Last Name (NamePattern1) **]\n",
      " on: FRI [**2573-7-2**] 8:03 AM\n",
      "(End of Report)]\n"
     ]
    }
   ],
   "source": [
    "print(doc._.section_spans)"
   ]
  },
  {
   "cell_type": "markdown",
   "metadata": {},
   "source": [
    "## Section Objects"
   ]
  },
  {
   "cell_type": "markdown",
   "metadata": {},
   "source": [
    "The sections are stored as a custom `Section` obect that can also be accessed through the `doc`."
   ]
  },
  {
   "cell_type": "code",
   "execution_count": 30,
   "metadata": {},
   "outputs": [
    {
     "data": {
      "text/plain": [
       "Section(category=other, title=Service:, body=SURGERY\n",
       "\n",
       ", parent=None, rule=SectionRule(literal=\"Service:\", category=\"other\", pattern=None, on_match=None, parents=[], parent_required=False))"
      ]
     },
     "execution_count": 30,
     "metadata": {},
     "output_type": "execute_result"
    }
   ],
   "source": [
    "sections = doc._.sections\n",
    "sections[1]"
   ]
  },
  {
   "cell_type": "markdown",
   "metadata": {},
   "source": [
    "`Section` objects have a variety of properties:\n",
    "* `doc`: the doc associated with the section\n",
    "* `category`: returns the section category\n",
    "* `title_start`: the index of the first token of the `title`\n",
    "* `title_end`: the index of the last token of the `title`\n",
    "* `title_span`: the span of the `title`\n",
    "* `body_start`: the index of the first token of the `body`\n",
    "* `body_end`: the index of the last token of the `body`\n",
    "* `body_span`: the span of the `body`\n",
    "* `section_span`: the span of the `title`+`body`\n",
    "* `parent`: the `Section` that was matched as the parent of the current section (the parent-child pairings are covered in a future notebook)\n",
    "* `rule`: the rule that matched the `title`"
   ]
  },
  {
   "cell_type": "markdown",
   "metadata": {},
   "source": [
    "## Span\n",
    "Now, for each entity extracted from the text, you can extract the associated `Section` object. In this example, lets look at the `category` for the `Section` associated with each entity."
   ]
  },
  {
   "cell_type": "code",
   "execution_count": 31,
   "metadata": {},
   "outputs": [
    {
     "name": "stdout",
     "output_type": "stream",
     "text": [
      "type 2 dm, history_of_present_illness\n",
      "stroke, history_of_present_illness\n",
      "alcohol, social_history\n",
      "drug use, social_history\n",
      "stroke, family_history\n",
      "Miconazole Nitrate, medications\n",
      "Type 2 DM, observation_and_plan\n"
     ]
    }
   ],
   "source": [
    "for ent in doc.ents[:10]:\n",
    "    print(ent, ent._.section.category, sep=\", \")"
   ]
  },
  {
   "cell_type": "markdown",
   "metadata": {},
   "source": [
    "Using the `Section`, you can also access the entire section span which contained the ent:"
   ]
  },
  {
   "cell_type": "code",
   "execution_count": 32,
   "metadata": {},
   "outputs": [
    {
     "data": {
      "text/plain": [
       "History of Present Illness:\n",
       "74y female with type 2 dm and a recent stroke affecting her\n",
       "speech, who presents with 2 days of abdominal pain. Imaging shows no evidence of metastasis. She is not receiving any chemo.\n"
      ]
     },
     "execution_count": 32,
     "metadata": {},
     "output_type": "execute_result"
    }
   ],
   "source": [
    "ent = doc.ents[0]\n",
    "ent._.section.section_span"
   ]
  },
  {
   "cell_type": "markdown",
   "metadata": {},
   "source": [
    "# Assertion attributes\n",
    "In clinical NLP, it's important to account for certain attributes about extracted entities, such as whether a concept is **negated** or **historical**. This is handled at a sentence level by [cycontext](https://github.com/medspacy/cycontext), which looks for linguistic modifiers within the same sentence as an entity. However, the section in which a concept occurs can also inform these attributes.\n",
    "\n",
    "For example, in the example below, we know that:\n",
    "- **\"Pneumonia\"** is not current because it occurs in the **Past Medical History**\n",
    "- **\"Penicillin\"** and **\"Allergies\"** are not actually experienced, they're just listed in the allergies section. We call this **hypothetical**\n",
    "- **\"Diabetes** is experienced by someone in the patient's family because it occurs in the **Family History**\n",
    "- **\"Chest pain\"** is hypothetical because it occurs in the **Patient Education** section as a hypothetical event\n",
    "\n"
   ]
  },
  {
   "cell_type": "markdown",
   "metadata": {},
   "source": [
    "This functionality can be set on with the `add_attrs` argument in the constructor, which by default is `False`. In spaCy 3, this is done by passing a dictionary to the `config` argument:"
   ]
  },
  {
   "cell_type": "code",
   "execution_count": 42,
   "metadata": {},
   "outputs": [],
   "source": [
    "nlp = medspacy.load()"
   ]
  },
  {
   "cell_type": "code",
   "execution_count": 43,
   "metadata": {},
   "outputs": [],
   "source": [
    "sectionizer = nlp.add_pipe(\"medspacy_sectionizer\", config={\"add_attrs\": True})"
   ]
  },
  {
   "cell_type": "code",
   "execution_count": 44,
   "metadata": {},
   "outputs": [],
   "source": [
    "# Add some target rules for extracting entities\n",
    "from medspacy.target_matcher import TargetRule\n",
    "\n",
    "rules = [\n",
    "    TargetRule(\"pneumonia\", \"CONDITION\"),\n",
    "    TargetRule(\"diabetes\", \"CONDITION\"),\n",
    "    TargetRule(\"PE\", \"CONDITION\"),\n",
    "    TargetRule(\"chest pain\", \"CONDITION\"),\n",
    "    TargetRule(\"Penicillin\", \"MEDICATION\"),\n",
    "    TargetRule(\"warfarin\", \"MEDICATION\"),\n",
    "    \n",
    "]\n",
    "\n",
    "nlp.get_pipe(\"medspacy_target_matcher\").add(rules)"
   ]
  },
  {
   "cell_type": "code",
   "execution_count": 45,
   "metadata": {},
   "outputs": [],
   "source": [
    "text = \"\"\"\n",
    "Past Medical History:\n",
    "pneumonia\n",
    "\n",
    "Allergies: \n",
    "Penicillin\n",
    "\n",
    "Family History:\n",
    "Diabetes\n",
    "\n",
    "Assessment and Plan:\n",
    "Warfarin for PE\n",
    "\n",
    "Patient Education:\n",
    "You have been prescribed with a medication which is known to cause chest pain.\n",
    "\"\"\""
   ]
  },
  {
   "cell_type": "code",
   "execution_count": 46,
   "metadata": {},
   "outputs": [
    {
     "name": "stderr",
     "output_type": "stream",
     "text": [
      "/Users/alecchapman/Code/medspacy/medspacy/notebooks/section_detection/../../medspacy/common/medspacy_matcher.py:80: UserWarning: [W036] The component 'matcher' does not have any patterns defined.\n",
      "  matches = self.matcher(doc)\n",
      "/Users/alecchapman/Code/medspacy/medspacy/notebooks/section_detection/../../medspacy/common/medspacy_matcher.py:80: UserWarning: [W036] The component 'matcher' does not have any patterns defined.\n",
      "  matches = self.matcher(doc)\n"
     ]
    }
   ],
   "source": [
    "doc = nlp(text)"
   ]
  },
  {
   "cell_type": "code",
   "execution_count": 47,
   "metadata": {},
   "outputs": [
    {
     "data": {
      "text/html": [
       "<span class=\"tex2jax_ignore\"><div class=\"entities\" style=\"line-height: 2.5; direction: ltr\"></br>\n",
       "<mark class=\"entity\" style=\"background: #dee0e3; padding: 0.45em 0.6em; margin: 0 0.25em; line-height: 1; border-radius: 0.35em;\">\n",
       "    Past Medical History:\n",
       "    <span style=\"font-size: 0.8em; font-weight: bold; line-height: 1; border-radius: 0.35em; vertical-align: middle; margin-left: 0.5rem\"><< PAST_MEDICAL_HISTORY >></span>\n",
       "</mark>\n",
       "</br>\n",
       "<mark class=\"entity\" style=\"background: #ff7f0e; padding: 0.45em 0.6em; margin: 0 0.25em; line-height: 1; border-radius: 0.35em;\">\n",
       "    pneumonia\n",
       "    <span style=\"font-size: 0.8em; font-weight: bold; line-height: 1; border-radius: 0.35em; vertical-align: middle; margin-left: 0.5rem\">CONDITION</span>\n",
       "</mark>\n",
       "</br></br>\n",
       "<mark class=\"entity\" style=\"background: #dee0e3; padding: 0.45em 0.6em; margin: 0 0.25em; line-height: 1; border-radius: 0.35em;\">\n",
       "    Allergies:\n",
       "    <span style=\"font-size: 0.8em; font-weight: bold; line-height: 1; border-radius: 0.35em; vertical-align: middle; margin-left: 0.5rem\"><< ALLERGIES >></span>\n",
       "</mark>\n",
       " </br>\n",
       "<mark class=\"entity\" style=\"background: #1f77b4; padding: 0.45em 0.6em; margin: 0 0.25em; line-height: 1; border-radius: 0.35em;\">\n",
       "    Penicillin\n",
       "    <span style=\"font-size: 0.8em; font-weight: bold; line-height: 1; border-radius: 0.35em; vertical-align: middle; margin-left: 0.5rem\">MEDICATION</span>\n",
       "</mark>\n",
       "</br></br>\n",
       "<mark class=\"entity\" style=\"background: #dee0e3; padding: 0.45em 0.6em; margin: 0 0.25em; line-height: 1; border-radius: 0.35em;\">\n",
       "    Family History:\n",
       "    <span style=\"font-size: 0.8em; font-weight: bold; line-height: 1; border-radius: 0.35em; vertical-align: middle; margin-left: 0.5rem\"><< FAMILY_HISTORY >></span>\n",
       "</mark>\n",
       "</br>\n",
       "<mark class=\"entity\" style=\"background: #ff7f0e; padding: 0.45em 0.6em; margin: 0 0.25em; line-height: 1; border-radius: 0.35em;\">\n",
       "    Diabetes\n",
       "    <span style=\"font-size: 0.8em; font-weight: bold; line-height: 1; border-radius: 0.35em; vertical-align: middle; margin-left: 0.5rem\">CONDITION</span>\n",
       "</mark>\n",
       "</br></br>Assessment and Plan:</br>\n",
       "<mark class=\"entity\" style=\"background: #1f77b4; padding: 0.45em 0.6em; margin: 0 0.25em; line-height: 1; border-radius: 0.35em;\">\n",
       "    Warfarin\n",
       "    <span style=\"font-size: 0.8em; font-weight: bold; line-height: 1; border-radius: 0.35em; vertical-align: middle; margin-left: 0.5rem\">MEDICATION</span>\n",
       "</mark>\n",
       " for \n",
       "<mark class=\"entity\" style=\"background: #ff7f0e; padding: 0.45em 0.6em; margin: 0 0.25em; line-height: 1; border-radius: 0.35em;\">\n",
       "    PE\n",
       "    <span style=\"font-size: 0.8em; font-weight: bold; line-height: 1; border-radius: 0.35em; vertical-align: middle; margin-left: 0.5rem\">CONDITION</span>\n",
       "</mark>\n",
       "</br></br>\n",
       "<mark class=\"entity\" style=\"background: #dee0e3; padding: 0.45em 0.6em; margin: 0 0.25em; line-height: 1; border-radius: 0.35em;\">\n",
       "    Patient Education:\n",
       "    <span style=\"font-size: 0.8em; font-weight: bold; line-height: 1; border-radius: 0.35em; vertical-align: middle; margin-left: 0.5rem\"><< PATIENT_EDUCATION >></span>\n",
       "</mark>\n",
       "</br>You have been prescribed with a medication which is known to cause \n",
       "<mark class=\"entity\" style=\"background: #ff7f0e; padding: 0.45em 0.6em; margin: 0 0.25em; line-height: 1; border-radius: 0.35em;\">\n",
       "    chest pain\n",
       "    <span style=\"font-size: 0.8em; font-weight: bold; line-height: 1; border-radius: 0.35em; vertical-align: middle; margin-left: 0.5rem\">CONDITION</span>\n",
       "</mark>\n",
       ".</br></div></span>"
      ],
      "text/plain": [
       "<IPython.core.display.HTML object>"
      ]
     },
     "metadata": {},
     "output_type": "display_data"
    }
   ],
   "source": [
    "visualize_ent(doc)"
   ]
  },
  {
   "cell_type": "markdown",
   "metadata": {},
   "source": [
    "Each entity will have the following attributes defined under the `ent._` attribute. Each has a default value of `False` which could be set to True by `sectionizer`:\n",
    "\n",
    "- `is_negated`\n",
    "- `is_uncertain`\n",
    "- `is_historical`\n",
    "- `is_family`\n",
    "- `is_hypothetical`\n",
    "\n",
    "Let's iterate through these entities and see which these attributes in these ents."
   ]
  },
  {
   "cell_type": "code",
   "execution_count": 48,
   "metadata": {},
   "outputs": [
    {
     "name": "stdout",
     "output_type": "stream",
     "text": [
      "pneumonia past_medical_history\n",
      "Historical: True \tFamily: False \tHypothetical: False\n",
      "\n",
      "Penicillin allergies\n",
      "Historical: False \tFamily: False \tHypothetical: False\n",
      "\n",
      "Diabetes family_history\n",
      "Historical: False \tFamily: True \tHypothetical: False\n",
      "\n",
      "Warfarin family_history\n",
      "Historical: False \tFamily: True \tHypothetical: False\n",
      "\n",
      "PE family_history\n",
      "Historical: False \tFamily: True \tHypothetical: False\n",
      "\n",
      "chest pain patient_education\n",
      "Historical: False \tFamily: False \tHypothetical: False\n",
      "\n"
     ]
    }
   ],
   "source": [
    "for ent in doc.ents:\n",
    "    print(ent, ent._.section.category)\n",
    "    print(\"Historical:\", ent._.is_historical, \"\\tFamily:\", ent._.is_family, \"\\tHypothetical:\", ent._.is_hypothetical,)\n",
    "    print()"
   ]
  },
  {
   "cell_type": "markdown",
   "metadata": {},
   "source": [
    "The attributes and sections are defined in a dictionary mapping the **section titles** to the attribute name/value pairs. You can find this in the `assertion_attributes_mapping` attribute:"
   ]
  },
  {
   "cell_type": "code",
   "execution_count": 49,
   "metadata": {},
   "outputs": [
    {
     "data": {
      "text/plain": [
       "{'past_medical_history': {'is_historical': True},\n",
       " 'sexual_and_social_history': {'is_historical': True},\n",
       " 'family_history': {'is_family': True},\n",
       " 'patient_instructions': {'is_hypothetical': True},\n",
       " 'education': {'is_hypothetical': True},\n",
       " 'allergy': {'is_hypothetical': True}}"
      ]
     },
     "execution_count": 49,
     "metadata": {},
     "output_type": "execute_result"
    }
   ],
   "source": [
    "sectionizer.assertion_attributes_mapping"
   ]
  },
  {
   "cell_type": "markdown",
   "metadata": {},
   "source": [
    "Additionally, you could define your own logic by constructing a dictionary like the one above, registering the `Span` extensions, passing the dictionary in to the `add_attrs` argument:\n",
    "```python\n",
    "sectionizer = Sectionizer(nlp, add_attr={...})\n",
    "```"
   ]
  },
  {
   "cell_type": "code",
   "execution_count": null,
   "metadata": {},
   "outputs": [],
   "source": []
  }
 ],
 "metadata": {
  "kernelspec": {
   "display_name": "Python 3 (ipykernel)",
   "language": "python",
   "name": "python3"
  },
  "language_info": {
   "codemirror_mode": {
    "name": "ipython",
    "version": 3
   },
   "file_extension": ".py",
   "mimetype": "text/x-python",
   "name": "python",
   "nbconvert_exporter": "python",
   "pygments_lexer": "ipython3",
   "version": "3.8.11"
  }
 },
 "nbformat": 4,
 "nbformat_minor": 4
}
