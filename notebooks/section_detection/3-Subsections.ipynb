{
 "cells": [
  {
   "cell_type": "markdown",
   "metadata": {},
   "source": [
    "# Subsections and Parents\n",
    "\n",
    "The medspacy sectionizer supports adding subsections to your document."
   ]
  },
  {
   "cell_type": "code",
   "execution_count": 1,
   "metadata": {},
   "outputs": [],
   "source": [
    "import sys\n",
    "sys.path.insert(0, \"../..\")\n",
    "\n",
    "import medspacy\n",
    "from medspacy.section_detection import Sectionizer\n",
    "from medspacy.section_detection import SectionRule"
   ]
  },
  {
   "cell_type": "markdown",
   "metadata": {},
   "source": [
    "Here are four example documents showing slight permutations of a section-subsection structure found in text."
   ]
  },
  {
   "cell_type": "code",
   "execution_count": 2,
   "metadata": {},
   "outputs": [],
   "source": [
    "text1 = '''Past Medical History: \n",
    "pt has history of medical events\n",
    "Comments: some comment here\n",
    "\n",
    "Allergies:\n",
    "peanuts\n",
    "'''\n",
    "\n",
    "text2 = '''Past Medical History: \n",
    "pt has history of medical events\n",
    "Comments: some comment here\n",
    "\n",
    "Allergies:\n",
    "peanuts\n",
    "Comments: pt cannot eat peanuts\n",
    "'''\n",
    "\n",
    "text3 = '''Past Medical History: \n",
    "pt has history of medical events\n",
    "\n",
    "Allergies:\n",
    "peanuts\n",
    "Comments: pt cannot eat peanuts\n",
    "'''\n",
    "\n",
    "text4 = '''Past Medical History: \n",
    "pt has history of medical events\n",
    "\n",
    "Allergies:\n",
    "peanuts\n",
    "\n",
    "Medical Assessment: pt has a fever\n",
    "Comments: fever is 101F\n",
    "'''"
   ]
  },
  {
   "cell_type": "markdown",
   "metadata": {},
   "source": [
    "# Parent-Child attachment\n",
    "Rules specify a `parents` list. This defines all possible legal parents for this section by their `section_title`. The specific parent (if any exist) of each match is determined at runtime. In this example, we define four sections and the comment section has two candidate parents."
   ]
  },
  {
   "cell_type": "code",
   "execution_count": 3,
   "metadata": {},
   "outputs": [],
   "source": [
    "nlp = medspacy.load()"
   ]
  },
  {
   "cell_type": "code",
   "execution_count": 4,
   "metadata": {},
   "outputs": [],
   "source": [
    "sectionizer = Sectionizer(nlp,rules=None)"
   ]
  },
  {
   "cell_type": "code",
   "execution_count": 5,
   "metadata": {},
   "outputs": [],
   "source": [
    "pattern_dicts = [{\"category\":\"past_medical_history\",\"literal\":\"Past Medical History:\"},\n",
    "                {\"category\":\"allergies\",\"literal\":\"Allergies:\"},\n",
    "                {\"category\":\"medical_assessment\",\"literal\":\"Medical Assessment:\"},\n",
    "                {\"category\":\"comment\",\"literal\":\"Comments:\",\"parents\":[\"past_medical_history\",\"allergies\"]}]"
   ]
  },
  {
   "cell_type": "code",
   "execution_count": 6,
   "metadata": {},
   "outputs": [],
   "source": [
    "patterns = [SectionRule.from_dict(pattern) for pattern in pattern_dicts]"
   ]
  },
  {
   "cell_type": "code",
   "execution_count": 7,
   "metadata": {},
   "outputs": [],
   "source": [
    "sectionizer.add(patterns)"
   ]
  },
  {
   "cell_type": "code",
   "execution_count": 8,
   "metadata": {},
   "outputs": [
    {
     "data": {
      "text/plain": [
       "<medspacy.section_detection.sectionizer.Sectionizer at 0x7f88487ebd00>"
      ]
     },
     "execution_count": 8,
     "metadata": {},
     "output_type": "execute_result"
    }
   ],
   "source": [
    "nlp.add_pipe(\"medspacy_sectionizer\")"
   ]
  },
  {
   "cell_type": "markdown",
   "metadata": {},
   "source": [
    "We can print out the output of the sectionizer on each of these documents and see how they vary.\n",
    "\n",
    "In the first case, we see that three sections are identified in the text and the comment section has a parent \"past_medical_history\""
   ]
  },
  {
   "cell_type": "code",
   "execution_count": 9,
   "metadata": {},
   "outputs": [
    {
     "name": "stdout",
     "output_type": "stream",
     "text": [
      "CATEGORY.............. past_medical_history\n",
      "TITLE................. Past Medical History:\n",
      "PARENT................ None\n",
      "SECTION TEXT..........\n",
      "\n",
      "pt has history of medical events\n",
      "\n",
      "----------------------\n",
      "CATEGORY.............. comments\n",
      "TITLE................. Comments:\n",
      "PARENT................ None\n",
      "SECTION TEXT..........\n",
      "some comment here\n",
      "\n",
      "\n",
      "----------------------\n",
      "CATEGORY.............. allergies\n",
      "TITLE................. Allergies:\n",
      "PARENT................ None\n",
      "SECTION TEXT..........\n",
      "\n",
      "peanuts\n",
      "\n",
      "----------------------\n"
     ]
    },
    {
     "name": "stderr",
     "output_type": "stream",
     "text": [
      "/Users/alecchapman/Code/medspacy/medspacy/notebooks/section_detection/../../medspacy/common/medspacy_matcher.py:80: UserWarning: [W036] The component 'matcher' does not have any patterns defined.\n",
      "  matches = self.matcher(doc)\n",
      "/Users/alecchapman/Code/medspacy/medspacy/notebooks/section_detection/../../medspacy/common/medspacy_matcher.py:80: UserWarning: [W036] The component 'matcher' does not have any patterns defined.\n",
      "  matches = self.matcher(doc)\n"
     ]
    }
   ],
   "source": [
    "doc = nlp(text1)\n",
    "for section in doc._.sections:\n",
    "    print(\"CATEGORY.............. {0}\".format(section.category))\n",
    "    print(\"TITLE................. {0}\".format(section.title_span))\n",
    "    if section.parent:\n",
    "        print(\"PARENT................ {0}\".format(section.parent.category))\n",
    "    else:\n",
    "        print(\"PARENT................ {0}\".format(section.parent))\n",
    "    print(\"SECTION TEXT..........\\n{0}\".format(section.body_span))\n",
    "    print(\"----------------------\")"
   ]
  },
  {
   "cell_type": "markdown",
   "metadata": {},
   "source": [
    "In this next document, there are two comment sections, each that match to the closest parent sections. Subsections cannot jump over other sections to attach to a parent."
   ]
  },
  {
   "cell_type": "code",
   "execution_count": 10,
   "metadata": {},
   "outputs": [
    {
     "name": "stdout",
     "output_type": "stream",
     "text": [
      "CATEGORY.............. past_medical_history\n",
      "TITLE................. Past Medical History:\n",
      "PARENT................ None\n",
      "SECTION TEXT..........\n",
      "\n",
      "pt has history of medical events\n",
      "\n",
      "----------------------\n",
      "CATEGORY.............. comments\n",
      "TITLE................. Comments:\n",
      "PARENT................ None\n",
      "SECTION TEXT..........\n",
      "some comment here\n",
      "\n",
      "\n",
      "----------------------\n",
      "CATEGORY.............. allergies\n",
      "TITLE................. Allergies:\n",
      "PARENT................ None\n",
      "SECTION TEXT..........\n",
      "\n",
      "peanuts\n",
      "\n",
      "----------------------\n",
      "CATEGORY.............. comments\n",
      "TITLE................. Comments:\n",
      "PARENT................ None\n",
      "SECTION TEXT..........\n",
      "pt cannot eat peanuts\n",
      "\n",
      "----------------------\n"
     ]
    },
    {
     "name": "stderr",
     "output_type": "stream",
     "text": [
      "/Users/alecchapman/Code/medspacy/medspacy/notebooks/section_detection/../../medspacy/common/medspacy_matcher.py:80: UserWarning: [W036] The component 'matcher' does not have any patterns defined.\n",
      "  matches = self.matcher(doc)\n",
      "/Users/alecchapman/Code/medspacy/medspacy/notebooks/section_detection/../../medspacy/common/medspacy_matcher.py:80: UserWarning: [W036] The component 'matcher' does not have any patterns defined.\n",
      "  matches = self.matcher(doc)\n"
     ]
    }
   ],
   "source": [
    "doc = nlp(text2)\n",
    "for section in doc._.sections:\n",
    "    print(\"CATEGORY.............. {0}\".format(section.category))\n",
    "    print(\"TITLE................. {0}\".format(section.title_span))\n",
    "    if section.parent:\n",
    "        print(\"PARENT................ {0}\".format(section.parent.category))\n",
    "    else:\n",
    "        print(\"PARENT................ {0}\".format(section.parent))\n",
    "    print(\"SECTION TEXT..........\\n{0}\".format(section.body_span))\n",
    "    print(\"----------------------\")"
   ]
  },
  {
   "cell_type": "markdown",
   "metadata": {},
   "source": [
    "This example further illustrates how subsections cannot attach to non-adjacent candidate parents. The subsection in `past_medical_history` has been removed but the `allergies` subsection matches the same as before"
   ]
  },
  {
   "cell_type": "code",
   "execution_count": 11,
   "metadata": {},
   "outputs": [
    {
     "name": "stdout",
     "output_type": "stream",
     "text": [
      "CATEGORY.............. past_medical_history\n",
      "TITLE................. Past Medical History:\n",
      "PARENT................ None\n",
      "SECTION TEXT..........\n",
      "\n",
      "pt has history of medical events\n",
      "\n",
      "\n",
      "----------------------\n",
      "CATEGORY.............. allergies\n",
      "TITLE................. Allergies:\n",
      "PARENT................ None\n",
      "SECTION TEXT..........\n",
      "\n",
      "peanuts\n",
      "\n",
      "----------------------\n",
      "CATEGORY.............. comments\n",
      "TITLE................. Comments:\n",
      "PARENT................ None\n",
      "SECTION TEXT..........\n",
      "pt cannot eat peanuts\n",
      "\n",
      "----------------------\n"
     ]
    },
    {
     "name": "stderr",
     "output_type": "stream",
     "text": [
      "/Users/alecchapman/Code/medspacy/medspacy/notebooks/section_detection/../../medspacy/common/medspacy_matcher.py:80: UserWarning: [W036] The component 'matcher' does not have any patterns defined.\n",
      "  matches = self.matcher(doc)\n",
      "/Users/alecchapman/Code/medspacy/medspacy/notebooks/section_detection/../../medspacy/common/medspacy_matcher.py:80: UserWarning: [W036] The component 'matcher' does not have any patterns defined.\n",
      "  matches = self.matcher(doc)\n"
     ]
    }
   ],
   "source": [
    "doc = nlp(text3)\n",
    "for section in doc._.sections:\n",
    "    print(\"CATEGORY.............. {0}\".format(section.category))\n",
    "    print(\"TITLE................. {0}\".format(section.title_span))\n",
    "    if section.parent:\n",
    "        print(\"PARENT................ {0}\".format(section.parent.category))\n",
    "    else:\n",
    "        print(\"PARENT................ {0}\".format(section.parent))\n",
    "    print(\"SECTION TEXT..........\\n{0}\".format(section.body_span))\n",
    "    print(\"----------------------\")"
   ]
  },
  {
   "cell_type": "markdown",
   "metadata": {},
   "source": [
    "This final examples shows that if no adjacent parent candidates exist, then no match will be made. `medical_assessment` was not listed as a candidate parent for `comment`, so there is no parent attachment made by the comment following this section"
   ]
  },
  {
   "cell_type": "code",
   "execution_count": 12,
   "metadata": {},
   "outputs": [
    {
     "name": "stdout",
     "output_type": "stream",
     "text": [
      "CATEGORY.............. past_medical_history\n",
      "TITLE................. Past Medical History:\n",
      "PARENT................ None\n",
      "SECTION TEXT..........\n",
      "\n",
      "pt has history of medical events\n",
      "\n",
      "\n",
      "----------------------\n",
      "CATEGORY.............. allergies\n",
      "TITLE................. Allergies:\n",
      "PARENT................ None\n",
      "SECTION TEXT..........\n",
      "\n",
      "peanuts\n",
      "\n",
      "Medical\n",
      "----------------------\n",
      "CATEGORY.............. observation_and_plan\n",
      "TITLE................. Assessment:\n",
      "PARENT................ None\n",
      "SECTION TEXT..........\n",
      "pt has a fever\n",
      "\n",
      "----------------------\n",
      "CATEGORY.............. comments\n",
      "TITLE................. Comments:\n",
      "PARENT................ None\n",
      "SECTION TEXT..........\n",
      "fever is 101F\n",
      "\n",
      "----------------------\n"
     ]
    },
    {
     "name": "stderr",
     "output_type": "stream",
     "text": [
      "/Users/alecchapman/Code/medspacy/medspacy/notebooks/section_detection/../../medspacy/common/medspacy_matcher.py:80: UserWarning: [W036] The component 'matcher' does not have any patterns defined.\n",
      "  matches = self.matcher(doc)\n",
      "/Users/alecchapman/Code/medspacy/medspacy/notebooks/section_detection/../../medspacy/common/medspacy_matcher.py:80: UserWarning: [W036] The component 'matcher' does not have any patterns defined.\n",
      "  matches = self.matcher(doc)\n"
     ]
    }
   ],
   "source": [
    "doc = nlp(text4)\n",
    "for section in doc._.sections:\n",
    "    print(\"CATEGORY.............. {0}\".format(section.category))\n",
    "    print(\"TITLE................. {0}\".format(section.title_span))\n",
    "    if section.parent:\n",
    "        print(\"PARENT................ {0}\".format(section.parent.category))\n",
    "    else:\n",
    "        print(\"PARENT................ {0}\".format(section.parent))\n",
    "    print(\"SECTION TEXT..........\\n{0}\".format(section.body_span))\n",
    "    print(\"----------------------\")"
   ]
  },
  {
   "cell_type": "markdown",
   "metadata": {},
   "source": [
    "# Requiring Parents for matched sections\n",
    "\n",
    "It is possible to specify that a section is required to find a valid parent in order to be included in the resulting document. When the pattern defines the optional parameter `parent_required` as `True`, if the section finds no parent section in the document, then the section will be removed from the output.\n",
    "\n",
    "The following text shows a short example where a required parent might be useful. In this document, there are two mentions of the word \"color\". One might be part of a section, but without further specification, the other might be a false positive. There may be more than one way to solve this ambiguity, such as incorporating punctuation or proximity to line endings for further context."
   ]
  },
  {
   "cell_type": "code",
   "execution_count": 13,
   "metadata": {},
   "outputs": [],
   "source": [
    "text5 = '''Patient is 6 years old and says his favorite color is purple\n",
    "\n",
    "medical assessment\n",
    "patient has a bruise from a bicycle accident\n",
    "color\n",
    "blue\n",
    "'''"
   ]
  },
  {
   "cell_type": "code",
   "execution_count": 14,
   "metadata": {},
   "outputs": [],
   "source": [
    "nlp = medspacy.load()"
   ]
  },
  {
   "cell_type": "code",
   "execution_count": 15,
   "metadata": {},
   "outputs": [],
   "source": [
    "sectionizer = Sectionizer(nlp,rules=None)"
   ]
  },
  {
   "cell_type": "code",
   "execution_count": 16,
   "metadata": {},
   "outputs": [],
   "source": [
    "pattern_dicts = [{\"category\":\"medical_assessment\",\"literal\":\"medical assessment\"},\n",
    "                {\"category\":\"color\",\"literal\":\"color\",\"parents\":[\"medical_assessment\"],\"parent_required\":True}]"
   ]
  },
  {
   "cell_type": "code",
   "execution_count": 17,
   "metadata": {},
   "outputs": [],
   "source": [
    "rules = [SectionRule.from_dict(pattern) for pattern in pattern_dicts]"
   ]
  },
  {
   "cell_type": "code",
   "execution_count": 18,
   "metadata": {},
   "outputs": [],
   "source": [
    "sectionizer.add(rules)"
   ]
  },
  {
   "cell_type": "code",
   "execution_count": 19,
   "metadata": {},
   "outputs": [
    {
     "data": {
      "text/plain": [
       "<medspacy.section_detection.sectionizer.Sectionizer at 0x7f8848ddb5e0>"
      ]
     },
     "execution_count": 19,
     "metadata": {},
     "output_type": "execute_result"
    }
   ],
   "source": [
    "nlp.add_pipe(\"medspacy_sectionizer\")"
   ]
  },
  {
   "cell_type": "code",
   "execution_count": 20,
   "metadata": {},
   "outputs": [
    {
     "name": "stdout",
     "output_type": "stream",
     "text": [
      "CATEGORY.............. None\n",
      "TITLE................. \n",
      "PARENT................ None\n",
      "SECTION TEXT..........\n",
      "Patient is 6 years old and says his favorite color is purple\n",
      "\n",
      "medical assessment\n",
      "patient has a bruise from a bicycle accident\n",
      "color\n",
      "blue\n",
      "\n",
      "----------------------\n"
     ]
    },
    {
     "name": "stderr",
     "output_type": "stream",
     "text": [
      "/Users/alecchapman/Code/medspacy/medspacy/notebooks/section_detection/../../medspacy/common/medspacy_matcher.py:80: UserWarning: [W036] The component 'matcher' does not have any patterns defined.\n",
      "  matches = self.matcher(doc)\n",
      "/Users/alecchapman/Code/medspacy/medspacy/notebooks/section_detection/../../medspacy/common/medspacy_matcher.py:80: UserWarning: [W036] The component 'matcher' does not have any patterns defined.\n",
      "  matches = self.matcher(doc)\n"
     ]
    }
   ],
   "source": [
    "doc = nlp(text5)\n",
    "for section in doc._.sections:\n",
    "    print(\"CATEGORY.............. {0}\".format(section.category))\n",
    "    print(\"TITLE................. {0}\".format(section.title_span))\n",
    "    if section.parent:\n",
    "        print(\"PARENT................ {0}\".format(section.parent.category))\n",
    "    else:\n",
    "        print(\"PARENT................ {0}\".format(section.parent))\n",
    "    print(\"SECTION TEXT..........\\n{0}\".format(section.body_span))\n",
    "    print(\"----------------------\")"
   ]
  },
  {
   "cell_type": "markdown",
   "metadata": {},
   "source": [
    "# Subsection trees and backtracking\n",
    "\n",
    "Subsections can be chained together and the parent matching will traverse the tree structure to match to the correct legal parent.\n",
    "\n",
    "The following two examples show deep subsection structures in a document. The first document is a simple example showing the subsection chaining that might exist in a document. The second example is more complex and shows subsection siblings (sections at the same depth of the subsection tree) and backtracking out of some, but not all subsections."
   ]
  },
  {
   "cell_type": "code",
   "execution_count": 21,
   "metadata": {},
   "outputs": [],
   "source": [
    "text6 = '''Section 1: some text\n",
    "Section 1.1: Some other text\n",
    "Section 1.1.1: Even more text\n",
    "Section 1.1.1.1: How deep can sections go?\n",
    "'''\n",
    "\n",
    "text7 = '''Section 1: some text\n",
    "Section 1.1: Some other text\n",
    "Section 1.1.1: Even more text\n",
    "Section 1.1.1.1: How deep can sections go?\n",
    "Section 1.1.1.2: As deep as you want!\n",
    "Section 1.2: Let's backtrack\n",
    "Section 2: A whole new section\n",
    "'''"
   ]
  },
  {
   "cell_type": "code",
   "execution_count": 22,
   "metadata": {},
   "outputs": [],
   "source": [
    "nlp = medspacy.load()"
   ]
  },
  {
   "cell_type": "code",
   "execution_count": 23,
   "metadata": {},
   "outputs": [],
   "source": [
    "sectionizer = Sectionizer(nlp,rules=None)"
   ]
  },
  {
   "cell_type": "code",
   "execution_count": 24,
   "metadata": {},
   "outputs": [],
   "source": [
    "pattern_dicts = [{\"category\":\"s1\",\"literal\":\"Section 1:\"},\n",
    "                {\"category\":\"s1.1\",\"literal\":\"Section 1.1:\", \"parents\":[\"s1\"]},\n",
    "                {\"category\":\"s1.1.1\",\"literal\":\"Section 1.1.1:\", \"parents\":[\"s1.1\"]},\n",
    "                {\"category\":\"s1.1.1.1\",\"literal\":\"Section 1.1.1.1:\",\"parents\":[\"s1.1.1\"]},\n",
    "                {\"category\":\"s1.1.1.2\",\"literal\":\"Section 1.1.1.2:\",\"parents\":[\"s1.1.1\"]},\n",
    "                {\"category\":\"s1.2\",\"literal\":\"Section 1.2:\",\"parents\":[\"s1\"]},\n",
    "                {\"category\":\"s2\",\"literal\":\"Section 2:\"}]"
   ]
  },
  {
   "cell_type": "code",
   "execution_count": 25,
   "metadata": {},
   "outputs": [],
   "source": [
    "rules = [SectionRule.from_dict(pattern) for pattern in pattern_dicts]"
   ]
  },
  {
   "cell_type": "code",
   "execution_count": 26,
   "metadata": {},
   "outputs": [],
   "source": [
    "sectionizer.add(rules)"
   ]
  },
  {
   "cell_type": "code",
   "execution_count": 27,
   "metadata": {},
   "outputs": [
    {
     "data": {
      "text/plain": [
       "<medspacy.section_detection.sectionizer.Sectionizer at 0x7f884940e610>"
      ]
     },
     "execution_count": 27,
     "metadata": {},
     "output_type": "execute_result"
    }
   ],
   "source": [
    "nlp.add_pipe(\"medspacy_sectionizer\")"
   ]
  },
  {
   "cell_type": "code",
   "execution_count": 28,
   "metadata": {},
   "outputs": [],
   "source": [
    "rules = [SectionRule.from_dict(pattern) for pattern in pattern_dicts]"
   ]
  },
  {
   "cell_type": "code",
   "execution_count": 29,
   "metadata": {},
   "outputs": [
    {
     "name": "stdout",
     "output_type": "stream",
     "text": [
      "CATEGORY.............. None\n",
      "TITLE................. \n",
      "PARENT................ None\n",
      "SECTION TEXT..........\n",
      "Section 1: some text\n",
      "Section 1.1: Some other text\n",
      "Section 1.1.1: Even more text\n",
      "Section 1.1.1.1: How deep can sections go?\n",
      "\n",
      "----------------------\n"
     ]
    },
    {
     "name": "stderr",
     "output_type": "stream",
     "text": [
      "/Users/alecchapman/Code/medspacy/medspacy/notebooks/section_detection/../../medspacy/common/medspacy_matcher.py:80: UserWarning: [W036] The component 'matcher' does not have any patterns defined.\n",
      "  matches = self.matcher(doc)\n",
      "/Users/alecchapman/Code/medspacy/medspacy/notebooks/section_detection/../../medspacy/common/medspacy_matcher.py:80: UserWarning: [W036] The component 'matcher' does not have any patterns defined.\n",
      "  matches = self.matcher(doc)\n"
     ]
    }
   ],
   "source": [
    "doc = nlp(text6)\n",
    "for section in doc._.sections:\n",
    "    print(\"CATEGORY.............. {0}\".format(section.category))\n",
    "    print(\"TITLE................. {0}\".format(section.title_span))\n",
    "    if section.parent:\n",
    "        print(\"PARENT................ {0}\".format(section.parent.category))\n",
    "    else:\n",
    "        print(\"PARENT................ {0}\".format(section.parent))\n",
    "    print(\"SECTION TEXT..........\\n{0}\".format(section.body_span))\n",
    "    print(\"----------------------\")"
   ]
  },
  {
   "cell_type": "code",
   "execution_count": 30,
   "metadata": {},
   "outputs": [
    {
     "name": "stdout",
     "output_type": "stream",
     "text": [
      "CATEGORY.............. None\n",
      "TITLE................. \n",
      "PARENT................ None\n",
      "SECTION TEXT..........\n",
      "Section 1: some text\n",
      "Section 1.1: Some other text\n",
      "Section 1.1.1: Even more text\n",
      "Section 1.1.1.1: How deep can sections go?\n",
      "Section 1.1.1.2: As deep as you want!\n",
      "Section 1.2: Let's backtrack\n",
      "Section 2: A whole new section\n",
      "\n",
      "----------------------\n"
     ]
    },
    {
     "name": "stderr",
     "output_type": "stream",
     "text": [
      "/Users/alecchapman/Code/medspacy/medspacy/notebooks/section_detection/../../medspacy/common/medspacy_matcher.py:80: UserWarning: [W036] The component 'matcher' does not have any patterns defined.\n",
      "  matches = self.matcher(doc)\n",
      "/Users/alecchapman/Code/medspacy/medspacy/notebooks/section_detection/../../medspacy/common/medspacy_matcher.py:80: UserWarning: [W036] The component 'matcher' does not have any patterns defined.\n",
      "  matches = self.matcher(doc)\n"
     ]
    }
   ],
   "source": [
    "doc = nlp(text7)\n",
    "for section in doc._.sections:\n",
    "    print(\"CATEGORY.............. {0}\".format(section.category))\n",
    "    print(\"TITLE................. {0}\".format(section.title_span))\n",
    "    if section.parent:\n",
    "        print(\"PARENT................ {0}\".format(section.parent.category))\n",
    "    else:\n",
    "        print(\"PARENT................ {0}\".format(section.parent))\n",
    "    print(\"SECTION TEXT..........\\n{0}\".format(section.body_span))\n",
    "    print(\"----------------------\")"
   ]
  },
  {
   "cell_type": "code",
   "execution_count": null,
   "metadata": {},
   "outputs": [],
   "source": []
  }
 ],
 "metadata": {
  "kernelspec": {
   "display_name": "Python 3 (ipykernel)",
   "language": "python",
   "name": "python3"
  },
  "language_info": {
   "codemirror_mode": {
    "name": "ipython",
    "version": 3
   },
   "file_extension": ".py",
   "mimetype": "text/x-python",
   "name": "python",
   "nbconvert_exporter": "python",
   "pygments_lexer": "ipython3",
   "version": "3.8.11"
  }
 },
 "nbformat": 4,
 "nbformat_minor": 4
}
